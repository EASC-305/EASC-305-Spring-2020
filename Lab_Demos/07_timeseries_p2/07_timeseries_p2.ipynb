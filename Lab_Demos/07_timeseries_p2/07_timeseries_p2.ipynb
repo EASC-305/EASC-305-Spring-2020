{
 "cells": [
  {
   "cell_type": "markdown",
   "metadata": {
    "slideshow": {
     "slide_type": "slide"
    }
   },
   "source": [
    "# Lab 7: Fourier Analysis\n",
    "\n",
    "03/18/2021"
   ]
  },
  {
   "cell_type": "markdown",
   "metadata": {
    "slideshow": {
     "slide_type": "slide"
    }
   },
   "source": [
    "Let's recall that any function $f$ can be represented as a sum of trigonometric functions $y$ that are of the general form: \n",
    "\n",
    "$$\n",
    "y(t) = A \\sin\\left( \\frac{2\\pi}{T} t \\right)\n",
    "$$\n",
    "\n",
    "where: \n",
    "\n",
    "- $A$ is the amplitude, and\n",
    "- $T$ is the period. \n"
   ]
  },
  {
   "cell_type": "markdown",
   "metadata": {
    "slideshow": {
     "slide_type": "slide"
    }
   },
   "source": [
    "# Square Wave \n",
    "\n",
    "Let's create a square wave from a series of sinusoids ( to illustrate Fourier methods):\n",
    "\n",
    "$$\n",
    "f(t) = \\sum^\\infty_{k=0} \\frac{\\sin\\left((2k+1) \\pi  t \\right)}{2k+1}\n",
    "$$\n"
   ]
  },
  {
   "cell_type": "code",
   "execution_count": null,
   "metadata": {
    "slideshow": {
     "slide_type": "slide"
    }
   },
   "outputs": [],
   "source": [
    "import time \n",
    "import numpy as np \n",
    "import matplotlib.pyplot as plt\n",
    "\n",
    "# Lets use latex the render the text in matplotlib\n",
    "plt.rcParams['text.usetex'] = True\n",
    "\n",
    "SMALL_SIZE  = 16\n",
    "MEDIUM_SIZE = 20\n",
    "BIGGER_SIZE = 24\n",
    "\n",
    "plt.rc('font',   size=SMALL_SIZE)         # controls default text sizes\n",
    "plt.rc('axes',   titlesize=BIGGER_SIZE)   # fontsize of the axes title\n",
    "plt.rc('axes',   labelsize=SMALL_SIZE)    # fontsize of the x and y labels\n",
    "plt.rc('legend', fontsize=SMALL_SIZE)     # legend fontsize"
   ]
  },
  {
   "cell_type": "code",
   "execution_count": null,
   "metadata": {
    "code_folding": [],
    "slideshow": {
     "slide_type": "subslide"
    }
   },
   "outputs": [],
   "source": [
    "# Create a time vector and return the spacing (dt)\n",
    "t, dt = np.linspace(0,4,1025,retstep=True)\n",
    "\n",
    "def func(t,k):\n",
    "    \"\"\"Square Wave Function\"\"\"\n",
    "    return np.sin((2*k+1) * np.pi * t) / (2*k+1)\n",
    "        \n",
    "# Create our figure and axes instance\n",
    "fig, ax = plt.subplots(figsize=(12.0, 8.0))\n",
    "\n",
    "# itterate over some different values k\n",
    "#for i, k in enumerate(np.geomspace(1, 1e+6, 7, dtype=int)):\n",
    "for i, k in enumerate(np.geomspace(1, 1e+5, 6, dtype=int)):\n",
    "    \n",
    "    # inialize the time\n",
    "    t0 = time.time()\n",
    "    print('Loop # {}: Evaluating Series for k = {:.1e}'.format(i, k))\n",
    "    \n",
    "    # Create an empty vector to store the sum of our function \n",
    "    fourier_sum = np.zeros(t.shape)\n",
    "    \n",
    "    # compute the series by itterating from 0 to k\n",
    "    for j in range(k):\n",
    "        # Upadate the value of sum based on itself\n",
    "        fourier_sum += func(t,j)\n",
    "    \n",
    "    # plot the series on our axes\n",
    "    ax.plot(t, fourier_sum, label='k={}'.format(k))\n",
    "    \n",
    "    # Get the time it took the loop to run\n",
    "    t1 = time.time() - t0\n",
    "    \n",
    "    print('Loop # {}: Done in {:2.3e} s'.format(i,t1))\n",
    "    print(43*'-')s\n",
    "\n",
    "ax.set_title(r'Square Wave = $\\sum^\\infty_{k=0} \\frac{\\sin\\left((2k+1) \\pi  t \\right)}{2k+1}$')\n",
    "ax.set_ylabel('Amplitude')\n",
    "ax.set_xlabel('time')\n",
    "\n",
    "# add a legend to our figure\n",
    "ax.legend()\n",
    "# Let's close the figure so we can display it in a new cell\n",
    "plt.close()"
   ]
  },
  {
   "cell_type": "code",
   "execution_count": null,
   "metadata": {
    "slideshow": {
     "slide_type": "subslide"
    }
   },
   "outputs": [],
   "source": [
    "fig"
   ]
  },
  {
   "cell_type": "code",
   "execution_count": null,
   "metadata": {
    "slideshow": {
     "slide_type": "skip"
    }
   },
   "outputs": [],
   "source": []
  }
 ],
 "metadata": {
  "celltoolbar": "Slideshow",
  "kernelspec": {
   "display_name": "Python 3",
   "language": "python",
   "name": "python3"
  },
  "language_info": {
   "codemirror_mode": {
    "name": "ipython",
    "version": 3
   },
   "file_extension": ".py",
   "mimetype": "text/x-python",
   "name": "python",
   "nbconvert_exporter": "python",
   "pygments_lexer": "ipython3",
   "version": "3.6.7"
  },
  "latex_envs": {
   "LaTeX_envs_menu_present": true,
   "autoclose": true,
   "autocomplete": true,
   "bibliofile": "ipython.bib",
   "cite_by": "apalike",
   "current_citInitial": 1,
   "eqLabelWithNumbers": true,
   "eqNumInitial": 1,
   "hotkeys": {
    "equation": "Ctrl-E",
    "itemize": "Ctrl-I"
   },
   "labels_anchors": false,
   "latex_user_defs": false,
   "report_style_numbering": false,
   "user_envs_cfg": false
  }
 },
 "nbformat": 4,
 "nbformat_minor": 2
}
