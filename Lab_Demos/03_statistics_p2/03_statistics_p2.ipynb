{
 "cells": [
  {
   "cell_type": "markdown",
   "metadata": {
    "slideshow": {
     "slide_type": "slide"
    }
   },
   "source": [
    "# Lab #3: Stats Part 2"
   ]
  },
  {
   "cell_type": "markdown",
   "metadata": {
    "slideshow": {
     "slide_type": "slide"
    }
   },
   "source": [
    "- [Markdown Formatting](#markdown_formatting)\n",
    "- [Online Resources](#stack_overflow)"
   ]
  },
  {
   "cell_type": "markdown",
   "metadata": {
    "slideshow": {
     "slide_type": "slide"
    }
   },
   "source": [
    "# Markdown Formating   <a class=\"anchor\" id=\"markdown_formatting\"></a>\n",
    "\n",
    "__Note__ : Lines should end with 2 spaces. \n",
    "\n",
    "Compatible with Lists:  \n",
    "- List item one  \n",
    "- List item two  \n",
    "- List item three  "
   ]
  },
  {
   "cell_type": "markdown",
   "metadata": {
    "slideshow": {
     "slide_type": "subslide"
    }
   },
   "source": [
    "# Markdown Formating  \n",
    "\n",
    "Numbered Lists:    \n",
    "1. item # 1   \n",
    "2. item # 2  \n",
    "5. item # 3  "
   ]
  },
  {
   "cell_type": "markdown",
   "metadata": {
    "slideshow": {
     "slide_type": "subslide"
    }
   },
   "source": [
    "# Heading 1  \n",
    "## Heading 2   \n",
    "### Heading 3   \n",
    "#### Heading 4  "
   ]
  },
  {
   "cell_type": "markdown",
   "metadata": {
    "slideshow": {
     "slide_type": "subslide"
    }
   },
   "source": [
    "# [Markdown Formating](https://github.com/adam-p/markdown-here/wiki/Markdown-Cheatsheet#emphasis)  \n",
    "\n",
    "- Emphasis, aka italics, with *asterisks* or _underscores_.\n",
    "\n",
    "- Strong emphasis, aka bold, with **asterisks** or __underscores__.\n",
    "\n",
    "- Combined emphasis with **asterisks and _underscores_**.\n",
    "\n",
    "- Strikethrough uses two tildes. ~~Scratch this.~~"
   ]
  },
  {
   "cell_type": "markdown",
   "metadata": {
    "slideshow": {
     "slide_type": "subslide"
    }
   },
   "source": [
    "## Pretty printing mathematical variables\n",
    "\n",
    "Everything inbetween two dollar signs `$ ... $` will be printed inline \"math mode\": $y = mx +b$\n",
    "\n",
    "For print in \"math mode\" in a new line use `$$ ... $$` . \n",
    "\n",
    "$$\n",
    "y = mx + b\n",
    "$$\n",
    "\n",
    "We can also print mathematical symbols using the `\\` character:\n",
    "- $\\pi$  \n",
    "- $\\tau$  \n",
    "- $\\chi$  \n",
    "- $\\sigma$\n",
    "\n",
    "For a full list of variables see [here](https://www.overleaf.com/learn/latex/List_of_Greek_letters_and_math_symbols)."
   ]
  },
  {
   "cell_type": "markdown",
   "metadata": {
    "slideshow": {
     "slide_type": "slide"
    }
   },
   "source": [
    "## Stack Overflow <a class=\"anchor\" id=\"stack_overflow\"></a>"
   ]
  },
  {
   "cell_type": "code",
   "execution_count": 31,
   "metadata": {
    "slideshow": {
     "slide_type": "fragment"
    }
   },
   "outputs": [],
   "source": [
    "import numpy as np \n",
    "\n",
    "LAT = np.linspace(60, 65, 101)   # Create a vector of lattitudes\n",
    "LON = np.linspace(45, 50, 101)   # Create a vector of longitudes"
   ]
  },
  {
   "cell_type": "markdown",
   "metadata": {
    "slideshow": {
     "slide_type": "fragment"
    }
   },
   "source": [
    "How do I iterate over two list simultaneously in python?\n",
    "\n",
    "<!-- python iterate over two arrays simultaneously -->"
   ]
  },
  {
   "cell_type": "code",
   "execution_count": null,
   "metadata": {
    "slideshow": {
     "slide_type": "fragment"
    }
   },
   "outputs": [],
   "source": []
  },
  {
   "cell_type": "code",
   "execution_count": 32,
   "metadata": {
    "slideshow": {
     "slide_type": "subslide"
    }
   },
   "outputs": [],
   "source": [
    "import numpy as np \n",
    "\n",
    "'''\n",
    "For itterating over arrays simultaneously see here:   \n",
    "    https://stackoverflow.com/a/14293895/10221482\n",
    "\n",
    "'''\n",
    "LAT = np.linspace(60, 65, 101)   # Create a vector of lattitudes\n",
    "LON = np.linspace(45, 50, 101)   # Create a vector of longitudes\n",
    "\n",
    "for lat,lon in zip(LAT,LON):\n",
    "    pass"
   ]
  },
  {
   "cell_type": "markdown",
   "metadata": {
    "slideshow": {
     "slide_type": "slide"
    }
   },
   "source": [
    "## Useful python trick\n",
    "\n",
    "Instead of `range` in a for loop, we can use `enumerate`"
   ]
  },
  {
   "cell_type": "code",
   "execution_count": 37,
   "metadata": {
    "slideshow": {
     "slide_type": "fragment"
    }
   },
   "outputs": [
    {
     "name": "stdout",
     "output_type": "stream",
     "text": [
      "0 60.0\n",
      "1 60.05\n",
      "2 60.1\n",
      "3 60.15\n",
      "4 60.2\n"
     ]
    }
   ],
   "source": [
    "for i, lat in enumerate(LAT[:5]):\n",
    "    print(i, lat)"
   ]
  },
  {
   "cell_type": "code",
   "execution_count": null,
   "metadata": {
    "slideshow": {
     "slide_type": "skip"
    }
   },
   "outputs": [],
   "source": []
  }
 ],
 "metadata": {
  "celltoolbar": "Slideshow",
  "kernelspec": {
   "display_name": "Python 3",
   "language": "python",
   "name": "python3"
  },
  "language_info": {
   "codemirror_mode": {
    "name": "ipython",
    "version": 3
   },
   "file_extension": ".py",
   "mimetype": "text/x-python",
   "name": "python",
   "nbconvert_exporter": "python",
   "pygments_lexer": "ipython3",
   "version": "3.6.7"
  },
  "latex_envs": {
   "LaTeX_envs_menu_present": true,
   "autoclose": true,
   "autocomplete": true,
   "bibliofile": "ipython.bib",
   "cite_by": "apalike",
   "current_citInitial": 1,
   "eqLabelWithNumbers": true,
   "eqNumInitial": 1,
   "hotkeys": {
    "equation": "Ctrl-E",
    "itemize": "Ctrl-I"
   },
   "labels_anchors": false,
   "latex_user_defs": false,
   "report_style_numbering": false,
   "user_envs_cfg": false
  }
 },
 "nbformat": 4,
 "nbformat_minor": 2
}
