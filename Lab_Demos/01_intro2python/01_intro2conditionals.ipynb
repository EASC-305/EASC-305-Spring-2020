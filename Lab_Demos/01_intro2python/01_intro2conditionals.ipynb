{
 "cells": [
  {
   "cell_type": "markdown",
   "metadata": {
    "slideshow": {
     "slide_type": "slide"
    }
   },
   "source": [
    "# Lab 1: Intro to `python` \n",
    "\n",
    "__01/21__   \n",
    "\n",
    "Andrew (he/him): anolan@sfu.ca  \n"
   ]
  },
  {
   "cell_type": "markdown",
   "metadata": {
    "slideshow": {
     "slide_type": "slide"
    }
   },
   "source": [
    "\n",
    "# `numpy` refresher: \n",
    "  * [Indexing and slicing](#indexing) \n",
    "  * [Array operations](#array_ops) \n",
    "  * [Broadcasting](#broadcasting)\n",
    "  * [More Array operations](#array_methods) \n",
    "  \n",
    "  \n",
    "_Note_: All of the `numpy` example come from [here](https://numpy.org/doc/stable/user/absolute_beginners.html). Keep track of this link as it will be a useful reference. Also, the headings of all the `numpy` subsection are hyperlinks to the respective topics on the `numpy` doc page. "
   ]
  },
  {
   "cell_type": "markdown",
   "metadata": {
    "slideshow": {
     "slide_type": "subslide"
    }
   },
   "source": [
    "## [Indexing and slicing](https://numpy.org/doc/stable/user/absolute_beginners.html#indexing-and-slicing)  <a class=\"anchor\" id=\"indexing\"></a>"
   ]
  },
  {
   "cell_type": "code",
   "execution_count": 40,
   "metadata": {
    "slideshow": {
     "slide_type": "fragment"
    }
   },
   "outputs": [
    {
     "data": {
      "text/plain": [
       "array([2, 3])"
      ]
     },
     "execution_count": 40,
     "metadata": {},
     "output_type": "execute_result"
    }
   ],
   "source": [
    "import numpy as np \n",
    "data = np.array([1,2,3])\n",
    "#Get the first element \n",
    "data[0]\n",
    "#Get the second element \n",
    "data[1]\n",
    "# Get the first two elements \n",
    "data[0:2]\n",
    "# Get the second two elements \n",
    "data[1:]"
   ]
  },
  {
   "cell_type": "markdown",
   "metadata": {
    "slideshow": {
     "slide_type": "fragment"
    }
   },
   "source": [
    "<img src=\"https://numpy.org/doc/stable/_images/np_indexing.png\" alt=\"anatomy\" width=\"800\" height=\"800\">"
   ]
  },
  {
   "cell_type": "markdown",
   "metadata": {
    "slideshow": {
     "slide_type": "subslide"
    }
   },
   "source": [
    "## [Array operations](https://numpy.org/doc/stable/user/absolute_beginners.html#basic-array-operations)  <a class=\"anchor\" id=\"array_ops\"></a>"
   ]
  },
  {
   "cell_type": "code",
   "execution_count": 41,
   "metadata": {
    "slideshow": {
     "slide_type": "fragment"
    }
   },
   "outputs": [],
   "source": [
    "import numpy as np \n",
    "# Create a (2,) array\n",
    "data = np.array([1, 2])\n",
    "\n",
    "ones = np.ones(shape=2, dtype=int)"
   ]
  },
  {
   "cell_type": "markdown",
   "metadata": {
    "slideshow": {
     "slide_type": "fragment"
    }
   },
   "source": [
    "<img src=\"https://numpy.org/doc/stable/_images/np_array_dataones.png\" alt=\"anatomy\" width=\"800\" height=\"800\">"
   ]
  },
  {
   "cell_type": "code",
   "execution_count": 42,
   "metadata": {
    "slideshow": {
     "slide_type": "fragment"
    }
   },
   "outputs": [
    {
     "data": {
      "text/plain": [
       "array([2, 3])"
      ]
     },
     "execution_count": 42,
     "metadata": {},
     "output_type": "execute_result"
    }
   ],
   "source": [
    "data + ones "
   ]
  },
  {
   "cell_type": "markdown",
   "metadata": {
    "slideshow": {
     "slide_type": "fragment"
    }
   },
   "source": [
    "<img src=\"https://numpy.org/doc/stable/_images/np_data_plus_ones.png\" alt=\"anatomy\" width=\"800\" height=\"800\">"
   ]
  },
  {
   "cell_type": "markdown",
   "metadata": {
    "slideshow": {
     "slide_type": "subslide"
    }
   },
   "source": [
    "## [Array operations part 2](https://numpy.org/doc/stable/user/absolute_beginners.html#basic-array-operations)"
   ]
  },
  {
   "cell_type": "code",
   "execution_count": 43,
   "metadata": {
    "slideshow": {
     "slide_type": "fragment"
    }
   },
   "outputs": [
    {
     "name": "stdout",
     "output_type": "stream",
     "text": [
      "[0 1]\n",
      "[1 4]\n",
      "[1. 1.]\n"
     ]
    }
   ],
   "source": [
    "print(data - ones)\n",
    "\n",
    "print(data * data)\n",
    "\n",
    "print(data / data)"
   ]
  },
  {
   "cell_type": "markdown",
   "metadata": {
    "slideshow": {
     "slide_type": "fragment"
    }
   },
   "source": [
    "<img src=\"https://numpy.org/doc/stable/_images/np_sub_mult_divide.png\" alt=\"anatomy\" width=\"800\" height=\"800\">"
   ]
  },
  {
   "cell_type": "markdown",
   "metadata": {
    "slideshow": {
     "slide_type": "subslide"
    }
   },
   "source": [
    "## [Broadcasting](https://numpy.org/doc/stable/user/absolute_beginners.html#broadcasting)  <a class=\"anchor\" id=\"broadcasting\"></a>"
   ]
  },
  {
   "cell_type": "code",
   "execution_count": 44,
   "metadata": {
    "slideshow": {
     "slide_type": "fragment"
    }
   },
   "outputs": [
    {
     "data": {
      "text/plain": [
       "array([1.6, 3.2])"
      ]
     },
     "execution_count": 44,
     "metadata": {},
     "output_type": "execute_result"
    }
   ],
   "source": [
    "data = np.array([1.0, 2.0])\n",
    "data * 1.6"
   ]
  },
  {
   "cell_type": "markdown",
   "metadata": {
    "slideshow": {
     "slide_type": "fragment"
    }
   },
   "source": [
    "<img src=\"https://numpy.org/doc/stable/_images/np_multiply_broadcasting.png\" alt=\"anatomy\" width=\"800\" height=\"800\">"
   ]
  },
  {
   "cell_type": "markdown",
   "metadata": {
    "slideshow": {
     "slide_type": "subslide"
    }
   },
   "source": [
    "## [More Array Operations](https://numpy.org/doc/stable/user/absolute_beginners.html#more-useful-array-operations) <a class=\"anchor\" id=\"array_methods\"></a>"
   ]
  },
  {
   "cell_type": "code",
   "execution_count": 1,
   "metadata": {
    "scrolled": true,
    "slideshow": {
     "slide_type": "fragment"
    }
   },
   "outputs": [
    {
     "ename": "NameError",
     "evalue": "name 'np' is not defined",
     "output_type": "error",
     "traceback": [
      "\u001b[0;31m---------------------------------------------------------------------------\u001b[0m",
      "\u001b[0;31mNameError\u001b[0m                                 Traceback (most recent call last)",
      "\u001b[0;32m<ipython-input-1-533a19e129da>\u001b[0m in \u001b[0;36m<module>\u001b[0;34m\u001b[0m\n\u001b[0;32m----> 1\u001b[0;31m \u001b[0mdata\u001b[0m \u001b[0;34m=\u001b[0m \u001b[0mnp\u001b[0m\u001b[0;34m.\u001b[0m\u001b[0marray\u001b[0m\u001b[0;34m(\u001b[0m\u001b[0;34m[\u001b[0m\u001b[0;36m1\u001b[0m\u001b[0;34m,\u001b[0m\u001b[0;36m2\u001b[0m\u001b[0;34m,\u001b[0m\u001b[0;36m3\u001b[0m\u001b[0;34m]\u001b[0m\u001b[0;34m)\u001b[0m\u001b[0;34m\u001b[0m\u001b[0;34m\u001b[0m\u001b[0m\n\u001b[0m\u001b[1;32m      2\u001b[0m \u001b[0;34m\u001b[0m\u001b[0m\n\u001b[1;32m      3\u001b[0m \u001b[0;34m\u001b[0m\u001b[0m\n\u001b[1;32m      4\u001b[0m \u001b[0mprint\u001b[0m\u001b[0;34m(\u001b[0m\u001b[0mdata\u001b[0m\u001b[0;34m.\u001b[0m\u001b[0mmax\u001b[0m\u001b[0;34m(\u001b[0m\u001b[0;34m)\u001b[0m\u001b[0;34m)\u001b[0m\u001b[0;34m\u001b[0m\u001b[0;34m\u001b[0m\u001b[0m\n\u001b[1;32m      5\u001b[0m \u001b[0;34m\u001b[0m\u001b[0m\n",
      "\u001b[0;31mNameError\u001b[0m: name 'np' is not defined"
     ]
    }
   ],
   "source": [
    "data = np.array([1,2,3])\n",
    "\n",
    "\n",
    "print(data.max())\n",
    "\n",
    "print(data.min())\n",
    "\n",
    "print(data.sum())\n"
   ]
  },
  {
   "cell_type": "markdown",
   "metadata": {
    "slideshow": {
     "slide_type": "fragment"
    }
   },
   "source": [
    "<img src=\"https://numpy.org/doc/stable/_images/np_aggregation.png\" alt=\"anatomy\" width=\"800\" height=\"800\">"
   ]
  },
  {
   "cell_type": "markdown",
   "metadata": {
    "slideshow": {
     "slide_type": "slide"
    }
   },
   "source": [
    "# Control flow:  \n",
    "  * [`for` loops](#)\n",
    "  * [`if`, `elif`, `else` statements](#)"
   ]
  },
  {
   "cell_type": "markdown",
   "metadata": {
    "slideshow": {
     "slide_type": "subslide"
    }
   },
   "source": [
    "## `for` loops  \n",
    "\n",
    "Iterate over a sequence. Allow you to repeat an operation multiple times. "
   ]
  },
  {
   "cell_type": "code",
   "execution_count": 46,
   "metadata": {
    "slideshow": {
     "slide_type": "fragment"
    }
   },
   "outputs": [
    {
     "name": "stdout",
     "output_type": "stream",
     "text": [
      "i =  1\n",
      "i =  2\n",
      "i =  3\n"
     ]
    }
   ],
   "source": [
    "for i in [1,2,3]:\n",
    "    print('i = ', i)"
   ]
  },
  {
   "cell_type": "code",
   "execution_count": 47,
   "metadata": {
    "slideshow": {
     "slide_type": "fragment"
    }
   },
   "outputs": [
    {
     "name": "stdout",
     "output_type": "stream",
     "text": [
      "element =  element1\n",
      "element =  element2\n",
      "element =  element3\n"
     ]
    }
   ],
   "source": [
    "for element in ['element1','element2','element3']:\n",
    "    print('element = ',element)"
   ]
  },
  {
   "cell_type": "markdown",
   "metadata": {
    "slideshow": {
     "slide_type": "subslide"
    }
   },
   "source": [
    "__Lets iterate over all the elements in a matrix__"
   ]
  },
  {
   "cell_type": "code",
   "execution_count": 48,
   "metadata": {
    "scrolled": true,
    "slideshow": {
     "slide_type": "fragment"
    }
   },
   "outputs": [
    {
     "data": {
      "text/plain": [
       "array([[1, 2, 3],\n",
       "       [4, 5, 6],\n",
       "       [7, 8, 9]])"
      ]
     },
     "execution_count": 48,
     "metadata": {},
     "output_type": "execute_result"
    }
   ],
   "source": [
    "array = np.arange(1,10).reshape(3,3)\n",
    "\n",
    "array"
   ]
  },
  {
   "cell_type": "code",
   "execution_count": 49,
   "metadata": {
    "slideshow": {
     "slide_type": "fragment"
    }
   },
   "outputs": [],
   "source": [
    "m,n = array.shape"
   ]
  },
  {
   "cell_type": "code",
   "execution_count": 50,
   "metadata": {
    "slideshow": {
     "slide_type": "fragment"
    }
   },
   "outputs": [
    {
     "name": "stdout",
     "output_type": "stream",
     "text": [
      "Row : 0  Col : 0  array[0,0]: 1\n",
      "Row : 0  Col : 1  array[0,1]: 2\n",
      "Row : 0  Col : 2  array[0,2]: 3\n",
      "Row : 1  Col : 0  array[1,0]: 4\n",
      "Row : 1  Col : 1  array[1,1]: 5\n",
      "Row : 1  Col : 2  array[1,2]: 6\n",
      "Row : 2  Col : 0  array[2,0]: 7\n",
      "Row : 2  Col : 1  array[2,1]: 8\n",
      "Row : 2  Col : 2  array[2,2]: 9\n"
     ]
    }
   ],
   "source": [
    "for row in range(m):\n",
    "    for col in range(n):\n",
    "        print('Row :',row,' Col :', col, ' array[{},{}]: {}'.format(row,col,array[row,col]))"
   ]
  },
  {
   "cell_type": "markdown",
   "metadata": {
    "slideshow": {
     "slide_type": "subslide"
    }
   },
   "source": [
    "## `if` statements: \n",
    "\n",
    "- `if` condition following `if` statement is true then the code within the `if` statement is evaluated.   "
   ]
  },
  {
   "cell_type": "code",
   "execution_count": 51,
   "metadata": {
    "slideshow": {
     "slide_type": "fragment"
    }
   },
   "outputs": [
    {
     "data": {
      "text/plain": [
       "True"
      ]
     },
     "execution_count": 51,
     "metadata": {},
     "output_type": "execute_result"
    }
   ],
   "source": [
    "a = 5.0\n",
    "b = 10.0\n",
    "c = 15.0\n",
    "\n",
    "a < b"
   ]
  },
  {
   "cell_type": "code",
   "execution_count": 57,
   "metadata": {
    "scrolled": true,
    "slideshow": {
     "slide_type": "fragment"
    }
   },
   "outputs": [
    {
     "name": "stdout",
     "output_type": "stream",
     "text": [
      "Condition 1 is True, a<b\n"
     ]
    }
   ],
   "source": [
    "if a < b: \n",
    "    print('Condition 1 is True, a<b')"
   ]
  },
  {
   "cell_type": "markdown",
   "metadata": {
    "slideshow": {
     "slide_type": "subslide"
    }
   },
   "source": [
    "- `if` condition following `if` statement is true then the code within the `if` statement is evaluated.   \n",
    "\n",
    "- `elif` follows an `if` and is evaluated only if above `if` is `False`.\n"
   ]
  },
  {
   "cell_type": "code",
   "execution_count": 58,
   "metadata": {
    "slideshow": {
     "slide_type": "fragment"
    }
   },
   "outputs": [
    {
     "name": "stdout",
     "output_type": "stream",
     "text": [
      "Condition 1 is True, a<b\n",
      "Condition 2 is True, b<c\n"
     ]
    }
   ],
   "source": [
    "a = 5.0\n",
    "b = 10.0\n",
    "c = 15.0\n",
    "\n",
    "if a < b: \n",
    "    print('Condition 1 is True, a<b')\n",
    "if b < c:\n",
    "    print('Condition 2 is True, b<c')"
   ]
  },
  {
   "cell_type": "code",
   "execution_count": 63,
   "metadata": {
    "slideshow": {
     "slide_type": "fragment"
    }
   },
   "outputs": [
    {
     "name": "stdout",
     "output_type": "stream",
     "text": [
      "Condition 1 is True, b<a\n"
     ]
    }
   ],
   "source": [
    "if a < b: \n",
    "    print('Condition 1 is True, b<a')\n",
    "elif b < c:\n",
    "    print('Condition 2 is True, b<c')"
   ]
  },
  {
   "cell_type": "markdown",
   "metadata": {
    "slideshow": {
     "slide_type": "subslide"
    }
   },
   "source": [
    "- `if` condition following `if` statement is true then the code within the `if` statement is evaluated.   \n",
    "\n",
    "- `elif` follows an `if` and is evaluated only if above `if` is `False`.\n",
    "\n",
    "- `else` is none of the conditions are `True`, then execute code within `else`."
   ]
  },
  {
   "cell_type": "code",
   "execution_count": 55,
   "metadata": {
    "slideshow": {
     "slide_type": "fragment"
    }
   },
   "outputs": [
    {
     "name": "stdout",
     "output_type": "stream",
     "text": [
      "None of the above conditions are True\n"
     ]
    }
   ],
   "source": [
    "a = 5.0\n",
    "b = 10.0\n",
    "c = 15.0\n",
    "\n",
    "if a > b: \n",
    "    print('Condition 1 is True, a>b')\n",
    "elif b > c:\n",
    "    print('Condition 2 is True, b>c')\n",
    "else:\n",
    "    print('None of the above conditions are True')"
   ]
  },
  {
   "cell_type": "markdown",
   "metadata": {
    "slideshow": {
     "slide_type": "subslide"
    }
   },
   "source": [
    "## `for` loops and `if` statements \n",
    "\n",
    "Lets create a new 3 x 3 array, like before, but all of odd elements are NaNs (Not a Number) by using `np.nan` for NaN. \n",
    "\n",
    "- First, recreate our array from before\n",
    "- Second, make an empty array which will be only evens and everything else will be `np.nan`. "
   ]
  },
  {
   "cell_type": "code",
   "execution_count": 80,
   "metadata": {
    "slideshow": {
     "slide_type": "fragment"
    }
   },
   "outputs": [
    {
     "name": "stdout",
     "output_type": "stream",
     "text": [
      "array:\n",
      "[[1. 2. 3.]\n",
      " [4. 5. 6.]\n",
      " [7. 8. 9.]]\n",
      "\n",
      "evens:\n",
      "[[1. 1. 1.]\n",
      " [1. 1. 1.]\n",
      " [1. 1. 1.]]\n"
     ]
    }
   ],
   "source": [
    "import numpy as np \n",
    "\n",
    "array = np.arange(1,10,dtype=np.float).reshape(3,3)\n",
    "\n",
    "print('array:')\n",
    "print(array)\n",
    "\n",
    "evens = np.ones((3,3),dtype=np.float)\n",
    "\n",
    "print('\\nevens:')\n",
    "print(evens)"
   ]
  },
  {
   "cell_type": "code",
   "execution_count": 62,
   "metadata": {
    "slideshow": {
     "slide_type": "subslide"
    }
   },
   "outputs": [],
   "source": [
    "# HOW WOULD YOU SOLVE THIS??\n"
   ]
  },
  {
   "cell_type": "code",
   "execution_count": null,
   "metadata": {},
   "outputs": [],
   "source": []
  }
 ],
 "metadata": {
  "celltoolbar": "Slideshow",
  "kernelspec": {
   "display_name": "Python [conda env:EASC305] *",
   "language": "python",
   "name": "conda-env-EASC305-py"
  },
  "language_info": {
   "codemirror_mode": {
    "name": "ipython",
    "version": 3
   },
   "file_extension": ".py",
   "mimetype": "text/x-python",
   "name": "python",
   "nbconvert_exporter": "python",
   "pygments_lexer": "ipython3",
   "version": "3.7.9"
  }
 },
 "nbformat": 4,
 "nbformat_minor": 4
}
