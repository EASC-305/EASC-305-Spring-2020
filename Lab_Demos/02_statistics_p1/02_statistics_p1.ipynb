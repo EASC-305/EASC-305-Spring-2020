{
 "cells": [
  {
   "cell_type": "markdown",
   "metadata": {
    "slideshow": {
     "slide_type": "slide"
    }
   },
   "source": [
    "# EASC 305: Lab #2 \n",
    "# Statistics (Part 1)  \n",
    "\n",
    "\n",
    "Andrew (He/him)"
   ]
  },
  {
   "cell_type": "markdown",
   "metadata": {
    "slideshow": {
     "slide_type": "slide"
    }
   },
   "source": [
    "## String Formating"
   ]
  },
  {
   "cell_type": "code",
   "execution_count": 12,
   "metadata": {
    "slideshow": {
     "slide_type": "fragment"
    }
   },
   "outputs": [
    {
     "name": "stdout",
     "output_type": "stream",
     "text": [
      "[-113.38383343   38.43191934  149.65537764  -35.53822972  -78.75335409\n",
      "  -45.94389077   -5.91687715  -35.41735013  -73.55230547 -118.39398864\n",
      "   23.88941341  -58.99202621 -144.05851185   77.37031085 -102.79673303\n",
      "   -9.09862497   49.20030027   42.46722014  128.30488154   31.59864541\n",
      "  -40.80822021   -6.79475933  -95.24266582  -11.06774024   57.0594293\n",
      "   91.54201716 -166.93405074   48.27136443  -31.04726706  239.46897306\n",
      "  155.09309188  -64.64651769  -92.89372364 -165.49761448   35.0192503\n",
      "  -14.17565156   52.10817873   -2.09008643 -174.38439485  -79.91588756\n",
      " -130.35704305   17.81050015  -33.44023628  -30.60271298  -33.24055743\n",
      "  196.29473398   71.92424925  114.28865111  208.2876969  -128.4647753 ]\n"
     ]
    }
   ],
   "source": [
    "import numpy as np\n",
    "\n",
    "# Set the seed\n",
    "np.random.seed(111)\n",
    "\n",
    "# Create a vector of 50 random floats, and scale by a factor of 100\n",
    "x_vec = np.random.randn(50) * 100.\n",
    "# Print the random vector\n",
    "print(x_vec)"
   ]
  },
  {
   "cell_type": "code",
   "execution_count": 13,
   "metadata": {
    "slideshow": {
     "slide_type": "subslide"
    }
   },
   "outputs": [
    {
     "name": "stdout",
     "output_type": "stream",
     "text": [
      "[-113.38383343   38.43191934  149.65537764  -35.53822972  -78.75335409\n",
      "  -45.94389077   -5.91687715  -35.41735013  -73.55230547 -118.39398864\n",
      "   23.88941341  -58.99202621 -144.05851185   77.37031085 -102.79673303\n",
      "   -9.09862497   49.20030027   42.46722014  128.30488154   31.59864541\n",
      "  -40.80822021   -6.79475933  -95.24266582  -11.06774024   57.0594293\n",
      "   91.54201716 -166.93405074   48.27136443  -31.04726706  239.46897306\n",
      "  155.09309188  -64.64651769  -92.89372364 -165.49761448   35.0192503\n",
      "  -14.17565156   52.10817873   -2.09008643 -174.38439485  -79.91588756\n",
      " -130.35704305   17.81050015  -33.44023628  -30.60271298  -33.24055743\n",
      "  196.29473398   71.92424925  114.28865111  208.2876969  -128.4647753 ]\n"
     ]
    }
   ],
   "source": [
    "# Print the random vector\n",
    "print(x_vec)"
   ]
  },
  {
   "cell_type": "code",
   "execution_count": 14,
   "metadata": {
    "slideshow": {
     "slide_type": "fragment"
    }
   },
   "outputs": [
    {
     "name": "stdout",
     "output_type": "stream",
     "text": [
      "Mean:   -5.907268505253168\n",
      "Max : 239.468973061319\n",
      "Min : 239.468973061319\n"
     ]
    }
   ],
   "source": [
    "print('Mean:  ',x_vec.mean())\n",
    "print('Max :',x_vec.max())\n",
    "print('Min :',x_vec.max())"
   ]
  },
  {
   "cell_type": "code",
   "execution_count": 15,
   "metadata": {
    "slideshow": {
     "slide_type": "subslide"
    }
   },
   "outputs": [],
   "source": [
    "# the scipy stats library, with LOTS of functionality \n",
    "import scipy.stats as sts"
   ]
  },
  {
   "cell_type": "code",
   "execution_count": 16,
   "metadata": {
    "slideshow": {
     "slide_type": "fragment"
    }
   },
   "outputs": [
    {
     "name": "stdout",
     "output_type": "stream",
     "text": [
      "Mean:   -5.907268505253168\n",
      "Max : 239.468973061319\n",
      "Min : 239.468973061319\n",
      "Kurtosis: -0.20098114626965424\n"
     ]
    }
   ],
   "source": [
    "print('Mean:  ',x_vec.mean())\n",
    "print('Max :',x_vec.max())\n",
    "print('Min :',x_vec.max())\n",
    "print('Kurtosis:',sts.kurtosis(x_vec))"
   ]
  },
  {
   "cell_type": "markdown",
   "metadata": {
    "slideshow": {
     "slide_type": "subslide"
    }
   },
   "source": [
    "__String Formating!!__"
   ]
  },
  {
   "cell_type": "code",
   "execution_count": 17,
   "metadata": {
    "scrolled": true,
    "slideshow": {
     "slide_type": "fragment"
    }
   },
   "outputs": [
    {
     "name": "stdout",
     "output_type": "stream",
     "text": [
      "Mean:     -5.907268505253168\n",
      "Max :     239.468973061319\n",
      "Min :     239.468973061319\n",
      "Kurtosis: -0.20098114626965424\n"
     ]
    }
   ],
   "source": [
    "print('Mean:     {}'.format(x_vec.mean() ))\n",
    "print('Max :     {}'.format(x_vec.max()) )\n",
    "print('Min :     {}'.format(x_vec.max() ))\n",
    "print('Kurtosis: {}'.format(sts.kurtosis(x_vec) ))"
   ]
  },
  {
   "cell_type": "markdown",
   "metadata": {
    "slideshow": {
     "slide_type": "subslide"
    }
   },
   "source": [
    "__String Formating!!__"
   ]
  },
  {
   "cell_type": "code",
   "execution_count": 18,
   "metadata": {
    "slideshow": {
     "slide_type": "fragment"
    }
   },
   "outputs": [
    {
     "name": "stdout",
     "output_type": "stream",
     "text": [
      "Mean:         -5.907\n",
      "Max :       +239.469\n",
      "Min :       +239.469\n",
      "Kurtosis:     -0.201\n"
     ]
    }
   ],
   "source": [
    "print('Mean:     {:+10.3f}'.format(x_vec.mean()))\n",
    "print('Max :     {:+10.3f}'.format(x_vec.max()))\n",
    "print('Min :     {:+10.3f}'.format(x_vec.max()))\n",
    "print('Kurtosis: {:+10.3f}'.format(sts.kurtosis(x_vec)))"
   ]
  },
  {
   "cell_type": "markdown",
   "metadata": {
    "slideshow": {
     "slide_type": "subslide"
    }
   },
   "source": [
    "Lets look what going on here: "
   ]
  },
  {
   "cell_type": "markdown",
   "metadata": {
    "slideshow": {
     "slide_type": "fragment"
    }
   },
   "source": [
    "As we know, `'Variable = {}'.format(var)` will print `var` in the curly brackets. \n",
    "\n",
    "We can add some fancy formating within the curly brackets, following a colon `:`.  \n",
    "\n",
    "For example lets look at: `'Variable = {:+X.Yf}'.format(var)`\n",
    "- `+` will print the sign of the numeric variable  \n",
    "- `X` is the number of digits before the decimal to print.  \n",
    "- `Y` is the number of digits after the decimal place to print\n",
    "- `f` specifies that we are formating a `float`. The things outlined above are specific to floats. \n"
   ]
  },
  {
   "cell_type": "markdown",
   "metadata": {
    "slideshow": {
     "slide_type": "subslide"
    }
   },
   "source": [
    "Lets take a look again: "
   ]
  },
  {
   "cell_type": "code",
   "execution_count": 25,
   "metadata": {
    "scrolled": true
   },
   "outputs": [
    {
     "name": "stdout",
     "output_type": "stream",
     "text": [
      "Mean:         -5.907\n",
      "Max :       +239.469\n",
      "Min :       +239.469\n",
      "Kurtosis:     -0.201\n"
     ]
    }
   ],
   "source": [
    "print('Mean:     {:+10.3f}'.format(x_vec.mean()))\n",
    "print('Max :     {:+10.3f}'.format(x_vec.max()))\n",
    "print('Min :     {:+10.3f}'.format(x_vec.max()))\n",
    "print('Kurtosis: {:+10.3f}'.format(sts.kurtosis(x_vec)))"
   ]
  },
  {
   "cell_type": "markdown",
   "metadata": {
    "slideshow": {
     "slide_type": "slide"
    }
   },
   "source": [
    "## Some Histogram details "
   ]
  },
  {
   "cell_type": "code",
   "execution_count": 26,
   "metadata": {
    "slideshow": {
     "slide_type": "fragment"
    }
   },
   "outputs": [],
   "source": [
    "# lets read in the data\n",
    "import matplotlib.pyplot as plt \n",
    "# Calendar year BP \n",
    "calyr = np.loadtxt('Hvitarvatn_TC.dat')[:,0]\n",
    "# Percent total carbon \n",
    "TC    = np.loadtxt('Hvitarvatn_TC.dat')[:,1]"
   ]
  },
  {
   "cell_type": "code",
   "execution_count": 27,
   "metadata": {
    "slideshow": {
     "slide_type": "fragment"
    }
   },
   "outputs": [
    {
     "name": "stdout",
     "output_type": "stream",
     "text": [
      "27\n"
     ]
    }
   ],
   "source": [
    "# set variable 'nbin' to be an integer approximation to the square root of the total number of data\n",
    "nbin = np.round( np.sqrt( TC.shape[0] ) ).astype(int)\n",
    "print(nbin)"
   ]
  },
  {
   "cell_type": "markdown",
   "metadata": {
    "slideshow": {
     "slide_type": "subslide"
    }
   },
   "source": [
    "### Quick histogram plot "
   ]
  },
  {
   "cell_type": "code",
   "execution_count": 30,
   "metadata": {
    "slideshow": {
     "slide_type": "fragment"
    }
   },
   "outputs": [
    {
     "data": {
      "image/png": "[encoded data removed]",
      "text/plain": [
       "<Figure size 432x288 with 1 Axes>"
      ]
     },
     "metadata": {
      "needs_background": "light"
     },
     "output_type": "display_data"
    }
   ],
   "source": [
    "# plot histogram of the data with a prescribed number of bins \n",
    "plt.hist(TC,bins=nbin,edgecolor='black')   \n",
    "# add xlabel \n",
    "plt.xlabel('Total Carbon (%)')\n",
    "# add ylabel\n",
    "plt.ylabel('Frequency');"
   ]
  },
  {
   "cell_type": "markdown",
   "metadata": {
    "slideshow": {
     "slide_type": "subslide"
    }
   },
   "source": [
    "### Lets manually bin the data"
   ]
  },
  {
   "cell_type": "code",
   "execution_count": 36,
   "metadata": {
    "slideshow": {
     "slide_type": "fragment"
    }
   },
   "outputs": [
    {
     "name": "stdout",
     "output_type": "stream",
     "text": [
      "TC_freq Shape:  27\n",
      "\n",
      "\n",
      "[  3  45  90  99 108 113  84  44  34  28  26  15  10   8   7   4   6   0\n",
      "   2   0   1   1   1   0   0   0   3]\n",
      "\n",
      "\n",
      "TC_bins Shape:  28\n",
      "\n",
      "\n",
      "[0.0583     0.14984074 0.24138148 0.33292222 0.42446296 0.5160037\n",
      " 0.60754444 0.69908519 0.79062593 0.88216667 0.97370741 1.06524815\n",
      " 1.15678889 1.24832963 1.33987037 1.43141111 1.52295185 1.61449259\n",
      " 1.70603333 1.79757407 1.88911481 1.98065556 2.0721963  2.16373704\n",
      " 2.25527778 2.34681852 2.43835926 2.5299    ]\n"
     ]
    }
   ],
   "source": [
    "# Retrieve values of frequency (TC_freq) and values of TC that correspond to the edges of the bins (TC_bins)\n",
    "# TC_bins will have length N+1, where the first N elements are left edges of the bins, and the N+1 element  \n",
    "# is the right edge of the last bin.\n",
    "\n",
    "TC_freq, TC_bins = np.histogram(TC,nbin) # corresponds to histogram with number of bins = nbins\n",
    "\n",
    "print('TC_freq Shape: ', TC_freq.shape[0])\n",
    "print('\\n')\n",
    "print(TC_freq)\n",
    "print('\\n')\n",
    "print('TC_bins Shape: ', TC_bins.shape[0])\n",
    "print('\\n')\n",
    "print(TC_bins)"
   ]
  },
  {
   "cell_type": "markdown",
   "metadata": {
    "slideshow": {
     "slide_type": "subslide"
    }
   },
   "source": [
    "__How do we go from bin edges to bin centers?__"
   ]
  },
  {
   "cell_type": "code",
   "execution_count": 37,
   "metadata": {
    "scrolled": true,
    "slideshow": {
     "slide_type": "fragment"
    }
   },
   "outputs": [
    {
     "name": "stdout",
     "output_type": "stream",
     "text": [
      "0.04577037037037038\n",
      "\n"
     ]
    }
   ],
   "source": [
    "# To find values of bin centres, calculate then add half bin-width to first N edges of TC_bins\n",
    "\n",
    "# Calculate half-width\n",
    "half_width = (TC_bins[1] - TC_bins[0]) / 2.\n",
    "print(half_width)\n",
    "print('')\n",
    "\n",
    "# Add half-width to first N bins\n",
    "TC_bins = TC_bins[:-1] + half_width # note that this step overwrites the original values of TC_bins"
   ]
  },
  {
   "cell_type": "markdown",
   "metadata": {
    "slideshow": {
     "slide_type": "subslide"
    }
   },
   "source": [
    "__Manually calculated histogram using the `plt.bar` function__"
   ]
  },
  {
   "cell_type": "code",
   "execution_count": 40,
   "metadata": {
    "slideshow": {
     "slide_type": "fragment"
    }
   },
   "outputs": [
    {
     "data": {
      "text/plain": [
       "<BarContainer object of 27 artists>"
      ]
     },
     "execution_count": 40,
     "metadata": {},
     "output_type": "execute_result"
    },
    {
     "data": {
      "image/png": "[encoded data removed]",
      "text/plain": [
       "<Figure size 432x288 with 1 Axes>"
      ]
     },
     "metadata": {
      "needs_background": "light"
     },
     "output_type": "display_data"
    }
   ],
   "source": [
    "plt.bar(TC_bins,TC_freq,width=half_width*2, align='center',edgecolor='k')"
   ]
  },
  {
   "cell_type": "markdown",
   "metadata": {
    "slideshow": {
     "slide_type": "slide"
    }
   },
   "source": [
    "## Some useful functions for Lab"
   ]
  },
  {
   "cell_type": "code",
   "execution_count": 47,
   "metadata": {
    "slideshow": {
     "slide_type": "fragment"
    }
   },
   "outputs": [
    {
     "name": "stdout",
     "output_type": "stream",
     "text": [
      "Array : [1 2 3 4 5 4 3 2 0] , Shape: 9\n"
     ]
    }
   ],
   "source": [
    "# argmax / argmin\n",
    "x = np.array([1,2,3,4,5,4,3,2,0])\n",
    "\n",
    "print('Array :', x, ', Shape:',len(x))\n",
    "\n",
    "# print('\\nMax   :', np.max(x))\n",
    "# print('Argmax:', np.argmax(x))\n",
    "\n",
    "# print('\\nmin   :', np.min(x))\n",
    "# print('Argmin:', np.argmin(x))"
   ]
  },
  {
   "cell_type": "code",
   "execution_count": 48,
   "metadata": {
    "slideshow": {
     "slide_type": "subslide"
    }
   },
   "outputs": [
    {
     "data": {
      "text/plain": [
       "[<matplotlib.lines.Line2D at 0x7fcbac4ae1d0>]"
      ]
     },
     "execution_count": 48,
     "metadata": {},
     "output_type": "execute_result"
    },
    {
     "data": {
      "image/png": "[encoded data removed]",
      "text/plain": [
       "<Figure size 432x288 with 1 Axes>"
      ]
     },
     "metadata": {
      "needs_background": "light"
     },
     "output_type": "display_data"
    }
   ],
   "source": [
    "# Create a simple line\n",
    "x = np.linspace(0,5,1001)\n",
    "m = 2.\n",
    "b = 1.\n",
    "y = m*x+b\n",
    "plt.plot(x,y)"
   ]
  },
  {
   "cell_type": "markdown",
   "metadata": {
    "slideshow": {
     "slide_type": "subslide"
    }
   },
   "source": [
    "`np.floor` and `np.ceil`"
   ]
  },
  {
   "cell_type": "code",
   "execution_count": 49,
   "metadata": {
    "slideshow": {
     "slide_type": "fragment"
    }
   },
   "outputs": [
    {
     "data": {
      "text/plain": [
       "<matplotlib.legend.Legend at 0x7fcbac2eec18>"
      ]
     },
     "execution_count": 49,
     "metadata": {},
     "output_type": "execute_result"
    },
    {
     "data": {
      "image/png": "[encoded data removed]",
      "text/plain": [
       "<Figure size 432x288 with 1 Axes>"
      ]
     },
     "metadata": {
      "needs_background": "light"
     },
     "output_type": "display_data"
    }
   ],
   "source": [
    "floored = np.floor(y)\n",
    "ceiled  = np.ceil(y)\n",
    "plt.plot(x,y,label='y=mx+b')\n",
    "plt.plot(x,floored,label='np.floor(y)')\n",
    "plt.plot(x,ceiled,label='np.ceil(y)')\n",
    "plt.legend()"
   ]
  },
  {
   "cell_type": "code",
   "execution_count": 50,
   "metadata": {
    "slideshow": {
     "slide_type": "subslide"
    }
   },
   "outputs": [
    {
     "name": "stdout",
     "output_type": "stream",
     "text": [
      "y           =  [1.05 2.05 3.05 4.05 5.05]\n",
      "np.floor(y) =  [1. 2. 3. 4. 5.]\n",
      "np.ceil(y)  =  [2. 3. 4. 5. 6.]\n"
     ]
    }
   ],
   "source": [
    "print('y           = ',y[5:500:100])\n",
    "print('np.floor(y) = ',np.floor(y[5:500:100]))\n",
    "print('np.ceil(y)  = ',np.ceil(y[5:500:100]))"
   ]
  },
  {
   "cell_type": "markdown",
   "metadata": {
    "slideshow": {
     "slide_type": "subslide"
    }
   },
   "source": [
    "cumulative sum"
   ]
  },
  {
   "cell_type": "code",
   "execution_count": 51,
   "metadata": {
    "slideshow": {
     "slide_type": "fragment"
    }
   },
   "outputs": [
    {
     "name": "stdout",
     "output_type": "stream",
     "text": [
      "[1 2 3 4 5 6 7 8 9]          , Shape: (9,)\n",
      "[ 1  3  6 10 15 21 28 36 45] , Shape: (9,)\n"
     ]
    }
   ],
   "source": [
    "y = np.arange(1,10)\n",
    "\n",
    "print(y, '         , Shape:', y.shape)\n",
    "print(np.cumsum(y),', Shape:',np.cumsum(y).shape)"
   ]
  },
  {
   "cell_type": "markdown",
   "metadata": {
    "slideshow": {
     "slide_type": "subslide"
    }
   },
   "source": [
    "_Hint_ : $\\ldots$ This could be very useful for turning a PDF to a CDF. "
   ]
  },
  {
   "cell_type": "code",
   "execution_count": null,
   "metadata": {},
   "outputs": [],
   "source": []
  },
  {
   "cell_type": "code",
   "execution_count": null,
   "metadata": {},
   "outputs": [],
   "source": []
  }
 ],
 "metadata": {
  "celltoolbar": "Slideshow",
  "kernelspec": {
   "display_name": "Python 3",
   "language": "python",
   "name": "python3"
  },
  "language_info": {
   "codemirror_mode": {
    "name": "ipython",
    "version": 3
   },
   "file_extension": ".py",
   "mimetype": "text/x-python",
   "name": "python",
   "nbconvert_exporter": "python",
   "pygments_lexer": "ipython3",
   "version": "3.6.7"
  },
  "latex_envs": {
   "LaTeX_envs_menu_present": true,
   "autoclose": true,
   "autocomplete": true,
   "bibliofile": "ipython.bib",
   "cite_by": "apalike",
   "current_citInitial": 1,
   "eqLabelWithNumbers": true,
   "eqNumInitial": 1,
   "hotkeys": {
    "equation": "Ctrl-E",
    "itemize": "Ctrl-I"
   },
   "labels_anchors": false,
   "latex_user_defs": false,
   "report_style_numbering": false,
   "user_envs_cfg": false
  }
 },
 "nbformat": 4,
 "nbformat_minor": 2
}
