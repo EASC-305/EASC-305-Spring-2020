{
 "cells": [
  {
   "cell_type": "markdown",
   "metadata": {},
   "source": [
    "# Lab 9: Spatial Analysis \n",
    "\n",
    "To grid the data, you can follow the examples given in Demo # 3 in the [lecture demo notebook](https://nbviewer.jupyter.org/github/EASC-305/EASC-305-Spring-2020/blob/main/Lec_Demos/07_SpatialAnalysis/07_SpatialAnalysis_p1.ipynb) for this week's material. For more details on `SciPy`'s interpolation schemes see the [interpolation tutorial](https://docs.scipy.org/doc/scipy/reference/tutorial/interpolate.html#multivariate-data-interpolation-griddata) on the `SciPy` documentation page. \n",
    "\n",
    "After the data are gridded, there are (at least) three ways to go about the trend analysis:  \n",
    "\n",
    "1. __Method 1__: follow Demo # 4 in this week's [lecture demo notebook](https://nbviewer.jupyter.org/github/EASC-305/EASC-305-Spring-2020/blob/main/Lec_Demos/07_SpatialAnalysis/07_SpatialAnalysis_p1.ipynb) (_linear only_)\n",
    "2. __Method 2__: use `scipy.optimize.curve_fit` with a multi-dimensional input array for `x` (_linear and quadratic_)\n",
    "3. __Method 3__: use the `LinearRegression` class from `sklearn.linear_model` (_linear and quadratic_) \n",
    "\n",
    "Some pointers/recommendations for each will follow below. \n",
    "\n",
    "---"
   ]
  },
  {
   "cell_type": "markdown",
   "metadata": {},
   "source": [
    "## Method 1: Demo #4 from [lecture demo notebook](https://nbviewer.jupyter.org/github/EASC-305/EASC-305-Spring-2020/blob/main/Lec_Demos/07_SpatialAnalysis/07_SpatialAnalysis_p1.ipynb)\n",
    "\n",
    "This method might be the most straightforward since we already have some starter code. One important thing to note is that only a linear surface trend was demonstrated in the lecture demo. If students attempt the linear trend removal but are still unable to determine the location of the UXOs they will need to use one of the other approaches (i.e. __Methods 2__ or __3__) to fit and remove a quadratic surface trend. \n",
    "\n",
    "---"
   ]
  },
  {
   "cell_type": "markdown",
   "metadata": {},
   "source": [
    "## Method 2: Using `scipy.optimize.curve_fit`:\n",
    "\n",
    "Here is an example of 1-D curve fitting from the documentation to `curve_fit` from `scipy.optimize`:"
   ]
  },
  {
   "cell_type": "code",
   "execution_count": 6,
   "metadata": {},
   "outputs": [],
   "source": [
    "import numpy as np\n",
    "import matplotlib.pyplot as plt\n",
    "from scipy.optimize import curve_fit"
   ]
  },
  {
   "cell_type": "code",
   "execution_count": 7,
   "metadata": {},
   "outputs": [
    {
     "data": {
      "image/png": "[encoded data removed]",
      "text/plain": [
       "<Figure size 432x288 with 1 Axes>"
      ]
     },
     "metadata": {
      "needs_background": "light"
     },
     "output_type": "display_data"
    }
   ],
   "source": [
    "# Define a function\n",
    "def func(x, a, b, c):\n",
    "    return a * np.exp(-b * x) + c\n",
    "\n",
    "# Create some synthetica data\n",
    "xdata = np.linspace(0, 4, 50)\n",
    "y     = func(xdata, 2.5, 1.3, 0.5)\n",
    "\n",
    "# Add noise to the synthetic data \n",
    "np.random.seed(1729)\n",
    "y_noise = 0.2 * np.random.normal(size=xdata.size)\n",
    "ydata = y + y_noise\n",
    "\n",
    "# Fit the curve\n",
    "popt, pcov = curve_fit(func, xdata, ydata)\n",
    "\n",
    "# Plot the noisy signal\n",
    "plt.plot(xdata, ydata, 'b-', label='data')\n",
    "# Plot the fitted curve\n",
    "plt.plot(xdata, func(xdata, *popt), 'r-',\n",
    "         label='fit: a={:5.3f}, b={:5.3f}, c={:5.3}f'.format(*popt));"
   ]
  },
  {
   "cell_type": "markdown",
   "metadata": {},
   "source": [
    "We should be relatively familiar with this function since it was used in a previous timeseries analysis assignment. The `curve_fit` function can be extend to higher dimensions (e.g. 2-D) by passing multiple independent variables to the function. The function to be fit must still be of the form:\n",
    "\n",
    "```python\n",
    "def func(x, a, b, c, ...):\n",
    "    return \n",
    "```\n",
    "\n",
    "but `x` is not limited to a vector of dimension $N\\times1$. Instead, it can be $N\\times M$ where $M$ is the number of dimensions of the data. Let's say we have a two dimensional function: \n",
    "$$\n",
    "\\bf{Z}(\\bf{X}, \\bf{Y})= \\bf{X} + \\bf{Y}.\n",
    "$$\n",
    "To write this in python using the formatting required by `curve_fit`, one would write: \n",
    "```python\n",
    "def func(x):\n",
    "    return x[:, 0] + x[:, 1],\n",
    "```\n",
    "\n",
    "where\n",
    "```python\n",
    "print(x.shape)\n",
    "```\n",
    "returns `(N, 2)`.\n",
    "\n",
    "For this week's lab, write a python function (`func`) of the form: \n",
    "$$\n",
    "\\hat{ \\mathbf{Z} } = \\beta_0 +  \\beta_1 \\mathbf{X} + \\beta_2 \\mathbf{Y}\n",
    "$$\n",
    "or \n",
    "$$\n",
    "\\hat{ \\mathbf{Z} } = \\beta_0 +  \\beta_1 \\mathbf{X} + \\beta_2 \\mathbf{Y} + \\beta_3 \\mathbf{X}^2 + \\beta_4 \\mathbf{Y}^2 + \\beta_5 \\mathbf{X} \\mathbf{Y}\n",
    "$$\n",
    "to be fit by `curve_fit` if this is the method you choose. \n",
    "\n",
    "---"
   ]
  },
  {
   "cell_type": "markdown",
   "metadata": {},
   "source": [
    "## Method 3: Using `sklearn`\n",
    "\n",
    "A simple linear regression can be done through `sklearn` using the [`linear_model.LinearRegression`](https://scikit-learn.org/stable/modules/generated/sklearn.linear_model.LinearRegression.html#sklearn.linear_model.LinearRegression) class. Check the [`sklearn` tutorial](https://scikit-learn.org/stable/modules/linear_model.html#ordinary-least-squares) for a demo. \n",
    "\n",
    "When using this method for multi-dimensional data, your input vector `X` will need to be $N\\times M$ where $N$ is the number of data points (i.e. rows) and $M$ is the number of dimensions. In the case of a 1-D linear regression `X` would be $N\\times 1$ where $N$ is the number of observations. Conversely, for two dimensional data `X` would be $N\\times2$ where $N$ is the number of observations with column one being the $x$-coordinate and column 2 being the $y$-coordinate. \n",
    "\n",
    "\n",
    "If you need to fit a quadratic surface to the data you can use [`preprocessing.PolynomialFeatures`](https://scikit-learn.org/stable/modules/generated/sklearn.preprocessing.PolynomialFeatures.html#sklearn.preprocessing.PolynomialFeatures) in conjunction with [`linear_model.LinearRegression`](https://scikit-learn.org/stable/modules/generated/sklearn.linear_model.LinearRegression.html#sklearn.linear_model.LinearRegression) through the `pipeline.Pipeline` class. See the [`sklearn` tutorial](https://scikit-learn.org/stable/modules/linear_model.html#polynomial-regression-extending-linear-models-with-basis-functions) for a demo on polynomial regression. The code to create a quadratic regression model using the packages decribed above would be: \n",
    "```python \n",
    "\n",
    "from sklearn.pipeline import Pipeline\n",
    "from sklearn.linear_model import LinearRegression\n",
    "from sklearn.preprocessing import PolynomialFeatures\n",
    "\n",
    "model = Pipeline([('poly', PolynomialFeatures(degree=2)),\n",
    "                  ('linear', LinearRegression(fit_intercept=False))])\n",
    "```\n",
    "\n",
    "An added benefit of using the `sklearn` approach is that `sklearn` models have the `.score()` method, which easily computes the $R^2$ coefficent. You can check the `sklearn` documentation for more [regression metrics](https://scikit-learn.org/stable/modules/classes.html#regression-metrics) to check the \"goodness of fit.\" "
   ]
  },
  {
   "cell_type": "code",
   "execution_count": null,
   "metadata": {},
   "outputs": [],
   "source": []
  }
 ],
 "metadata": {
  "kernelspec": {
   "display_name": "Python 3",
   "language": "python",
   "name": "python3"
  },
  "language_info": {
   "codemirror_mode": {
    "name": "ipython",
    "version": 3
   },
   "file_extension": ".py",
   "mimetype": "text/x-python",
   "name": "python",
   "nbconvert_exporter": "python",
   "pygments_lexer": "ipython3",
   "version": "3.7.9"
  },
  "latex_envs": {
   "LaTeX_envs_menu_present": true,
   "autoclose": true,
   "autocomplete": true,
   "bibliofile": "ipython.bib",
   "cite_by": "apalike",
   "current_citInitial": 1,
   "eqLabelWithNumbers": true,
   "eqNumInitial": 1,
   "hotkeys": {
    "equation": "Ctrl-E",
    "itemize": "Ctrl-I"
   },
   "labels_anchors": false,
   "latex_user_defs": false,
   "report_style_numbering": false,
   "user_envs_cfg": false
  }
 },
 "nbformat": 4,
 "nbformat_minor": 4
}
