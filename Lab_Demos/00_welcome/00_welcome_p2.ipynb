{
 "cells": [
  {
   "cell_type": "markdown",
   "metadata": {},
   "source": [
    "# Welcome to `Python` (Part 2)!\n",
    "\n",
    "We are going to focus on data structures in this notebook. "
   ]
  },
  {
   "cell_type": "markdown",
   "metadata": {},
   "source": [
    "# Lists (`list()`)\n",
    "\n",
    "Lists are mutable (i.e. editable). "
   ]
  },
  {
   "cell_type": "code",
   "execution_count": 33,
   "metadata": {},
   "outputs": [
    {
     "name": "stdout",
     "output_type": "stream",
     "text": [
      "grocery_list is of type  <class 'list'>\n",
      "The groceries I need are: ['Milk', 'Eggs', 'Bread']\n"
     ]
    }
   ],
   "source": [
    "# Define our Grocery List\n",
    "grocery_list = ['Milk', 'Eggs', 'Bread']\n",
    "\n",
    "# Print the datatype of our Grocery List\n",
    "print('grocery_list is of type ', type(grocery_list))\n",
    "\n",
    "# Print the items in our Grocery List\n",
    "print('The groceries I need are:', grocery_list)"
   ]
  },
  {
   "cell_type": "code",
   "execution_count": 34,
   "metadata": {},
   "outputs": [
    {
     "name": "stdout",
     "output_type": "stream",
     "text": [
      "['Milk', 'Eggs', 'Bread', 'Beer']\n"
     ]
    }
   ],
   "source": [
    "# Add a item to our list, via the .append() method\n",
    "grocery_list.append('Beer')\n",
    "\n",
    "# Print the items in our updated Grocery List\n",
    "print(grocery_list)"
   ]
  },
  {
   "cell_type": "code",
   "execution_count": 35,
   "metadata": {},
   "outputs": [
    {
     "data": {
      "text/plain": [
       "1"
      ]
     },
     "execution_count": 35,
     "metadata": {},
     "output_type": "execute_result"
    }
   ],
   "source": [
    "# Check the number of times (i.e. .count()) an item appears in our list\n",
    "grocery_list.count('Milk')"
   ]
  },
  {
   "cell_type": "code",
   "execution_count": 37,
   "metadata": {},
   "outputs": [
    {
     "name": "stdout",
     "output_type": "stream",
     "text": [
      "['Beer', 'Eggs', 'Bread', 'Milk']\n"
     ]
    }
   ],
   "source": [
    "# Swap the order of elements list to reflect their priority\n",
    "grocery_list[0]  = 'Beer'\n",
    "grocery_list[-1] = 'Milk'\n",
    "\n",
    "# Print the items in our Grocery List not order by priority\n",
    "print(grocery_list)"
   ]
  },
  {
   "cell_type": "markdown",
   "metadata": {},
   "source": [
    "# Tuples (`tuple()`)\n",
    "\n",
    "A `tuple` is very similar to lists but immutable and defined within `()` instead of `[]`. "
   ]
  },
  {
   "cell_type": "code",
   "execution_count": 40,
   "metadata": {},
   "outputs": [
    {
     "name": "stdout",
     "output_type": "stream",
     "text": [
      "grocery_list is of type  <class 'tuple'>\n",
      "The groceries I need are: ('Milk', 'Eggs', 'Bread')\n"
     ]
    }
   ],
   "source": [
    "# Define our Grocery Set\n",
    "grocery_set = ('Milk', 'Eggs', 'Bread')\n",
    "\n",
    "# Print the datatype of our Grocery List\n",
    "print('grocery_list is of type ', type(grocery_set))\n",
    "\n",
    "# Print the items in our Grocery List\n",
    "print('The groceries I need are:', grocery_set)"
   ]
  },
  {
   "cell_type": "code",
   "execution_count": 43,
   "metadata": {},
   "outputs": [
    {
     "ename": "AttributeError",
     "evalue": "'tuple' object has no attribute 'append'",
     "output_type": "error",
     "traceback": [
      "\u001b[0;31m---------------------------------------------------------------------------\u001b[0m",
      "\u001b[0;31mAttributeError\u001b[0m                            Traceback (most recent call last)",
      "\u001b[0;32m<ipython-input-43-74ae2bcd644c>\u001b[0m in \u001b[0;36m<module>\u001b[0;34m\u001b[0m\n\u001b[1;32m      1\u001b[0m \u001b[0;31m# Add a item to our list, via the .append() method\u001b[0m\u001b[0;34m\u001b[0m\u001b[0;34m\u001b[0m\u001b[0;34m\u001b[0m\u001b[0m\n\u001b[0;32m----> 2\u001b[0;31m \u001b[0mgrocery_set\u001b[0m\u001b[0;34m.\u001b[0m\u001b[0mappend\u001b[0m\u001b[0;34m(\u001b[0m\u001b[0;34m'Beer'\u001b[0m\u001b[0;34m)\u001b[0m\u001b[0;34m\u001b[0m\u001b[0;34m\u001b[0m\u001b[0m\n\u001b[0m\u001b[1;32m      3\u001b[0m \u001b[0;34m\u001b[0m\u001b[0m\n\u001b[1;32m      4\u001b[0m \u001b[0;31m# Print the items in our updated Grocery List\u001b[0m\u001b[0;34m\u001b[0m\u001b[0;34m\u001b[0m\u001b[0;34m\u001b[0m\u001b[0m\n\u001b[1;32m      5\u001b[0m \u001b[0mprint\u001b[0m\u001b[0;34m(\u001b[0m\u001b[0mgrocery_set\u001b[0m\u001b[0;34m)\u001b[0m\u001b[0;34m\u001b[0m\u001b[0;34m\u001b[0m\u001b[0m\n",
      "\u001b[0;31mAttributeError\u001b[0m: 'tuple' object has no attribute 'append'"
     ]
    }
   ],
   "source": [
    "# Add a item to our list, via the .append() method\n",
    "grocery_set.append('Beer')\n",
    "\n",
    "# Print the items in our updated Grocery List\n",
    "print(grocery_set)"
   ]
  },
  {
   "cell_type": "code",
   "execution_count": 41,
   "metadata": {},
   "outputs": [
    {
     "ename": "TypeError",
     "evalue": "'tuple' object does not support item assignment",
     "output_type": "error",
     "traceback": [
      "\u001b[0;31m---------------------------------------------------------------------------\u001b[0m",
      "\u001b[0;31mTypeError\u001b[0m                                 Traceback (most recent call last)",
      "\u001b[0;32m<ipython-input-41-40253fabf30d>\u001b[0m in \u001b[0;36m<module>\u001b[0;34m\u001b[0m\n\u001b[0;32m----> 1\u001b[0;31m \u001b[0mgroceries\u001b[0m\u001b[0;34m[\u001b[0m\u001b[0;36m0\u001b[0m\u001b[0;34m]\u001b[0m  \u001b[0;34m=\u001b[0m \u001b[0;34m'Beer'\u001b[0m\u001b[0;34m\u001b[0m\u001b[0;34m\u001b[0m\u001b[0m\n\u001b[0m\u001b[1;32m      2\u001b[0m \u001b[0mgroceries\u001b[0m\u001b[0;34m[\u001b[0m\u001b[0;34m-\u001b[0m\u001b[0;36m1\u001b[0m\u001b[0;34m]\u001b[0m \u001b[0;34m=\u001b[0m \u001b[0;34m'Milk'\u001b[0m\u001b[0;34m\u001b[0m\u001b[0;34m\u001b[0m\u001b[0m\n\u001b[1;32m      3\u001b[0m \u001b[0mprint\u001b[0m\u001b[0;34m(\u001b[0m\u001b[0mgroceries\u001b[0m\u001b[0;34m)\u001b[0m\u001b[0;34m\u001b[0m\u001b[0;34m\u001b[0m\u001b[0m\n",
      "\u001b[0;31mTypeError\u001b[0m: 'tuple' object does not support item assignment"
     ]
    }
   ],
   "source": [
    "groceries[0]  = 'Beer'\n",
    "groceries[-1] = 'Milk'\n",
    "print(groceries)"
   ]
  },
  {
   "cell_type": "markdown",
   "metadata": {},
   "source": [
    "# Dictionaries  (`dict()`)\n",
    "\n",
    "A `dictionary` is very use full data structure, that contains data linked via _keys_. Dictionaries are mutable, s they be altered after their creation. Let's see them in action to see what I mean: "
   ]
  },
  {
   "cell_type": "code",
   "execution_count": 47,
   "metadata": {},
   "outputs": [
    {
     "name": "stdout",
     "output_type": "stream",
     "text": [
      "{'Jack': 170.0, 'Jill': 180.0, 'Mark': 165.0, 'Jen': 170.0}\n"
     ]
    }
   ],
   "source": [
    "# A dictionary of Student Heights in cm\n",
    "student_heights = {'Jack': 170.0, 'Jill': 180.0, 'Mark': 165.0, 'Jen':170.0}\n",
    "\n",
    "# Print dictionary of student heights\n",
    "print(student_heights)"
   ]
  },
  {
   "cell_type": "code",
   "execution_count": 51,
   "metadata": {},
   "outputs": [
    {
     "name": "stdout",
     "output_type": "stream",
     "text": [
      "Jack's height:  170.0 cm\n",
      "Jill's height:  180.0 cm\n",
      "Mark's height:  165.0 cm\n",
      "Jen's height:  170.0 cm\n"
     ]
    }
   ],
   "source": [
    "print('Jack\\'s height: ', student_heights['Jack'],'cm')\n",
    "print('Jill\\'s height: ', student_heights['Jill'],'cm')\n",
    "print('Mark\\'s height: ', student_heights['Mark'],'cm')\n",
    "print('Jen\\'s height: ' , student_heights['Jen'],'cm')"
   ]
  },
  {
   "cell_type": "code",
   "execution_count": 54,
   "metadata": {},
   "outputs": [
    {
     "name": "stdout",
     "output_type": "stream",
     "text": [
      "Eriks's height:  175.0 cm\n"
     ]
    }
   ],
   "source": [
    "# lets say we have a new student, Erik. We can add their infromation to our dictionary\n",
    "student_heights['Erik'] = 175.0\n",
    "# Print added key's value\n",
    "print('Eriks\\'s height: ' , student_heights['Erik'],'cm')"
   ]
  },
  {
   "cell_type": "markdown",
   "metadata": {},
   "source": [
    "It's important to note that the _values_ associated with a key within a `dictionary` don't have to be just _floats_. They can be _strings_, _integers_, _list_, _tuples_, or even `numpy.arrays`. "
   ]
  },
  {
   "cell_type": "code",
   "execution_count": 57,
   "metadata": {},
   "outputs": [],
   "source": [
    "Mean_annual_temp = {'station_1': [0., 1., 0., 3., 5.], \n",
    "                    'station_2': [1., 3., 4., 5., 3.],\n",
    "                    'station_3': [0., 0., 1., 2., 0.],\n",
    "                   }"
   ]
  },
  {
   "cell_type": "code",
   "execution_count": 60,
   "metadata": {},
   "outputs": [
    {
     "data": {
      "text/plain": [
       "list"
      ]
     },
     "execution_count": 60,
     "metadata": {},
     "output_type": "execute_result"
    }
   ],
   "source": [
    "type(Mean_annual_temp['station_1'])"
   ]
  },
  {
   "cell_type": "markdown",
   "metadata": {},
   "source": [
    "# Intro to NumPy Arrays "
   ]
  },
  {
   "cell_type": "code",
   "execution_count": 3,
   "metadata": {},
   "outputs": [],
   "source": [
    "import numpy as np "
   ]
  },
  {
   "cell_type": "code",
   "execution_count": 4,
   "metadata": {},
   "outputs": [
    {
     "name": "stdout",
     "output_type": "stream",
     "text": [
      "[1 2 3 4 5]\n"
     ]
    }
   ],
   "source": [
    "x = np.array([1,2,3,4,5])\n",
    "print(x)"
   ]
  },
  {
   "cell_type": "code",
   "execution_count": 64,
   "metadata": {},
   "outputs": [
    {
     "name": "stdout",
     "output_type": "stream",
     "text": [
      "[1 2 3 4 5]\n"
     ]
    }
   ],
   "source": [
    "x = np.arange(1,6)\n",
    "print(x)"
   ]
  },
  {
   "cell_type": "code",
   "execution_count": 66,
   "metadata": {},
   "outputs": [
    {
     "name": "stdout",
     "output_type": "stream",
     "text": [
      "x is of shape:  (5,)\n"
     ]
    }
   ],
   "source": [
    "print('x is of shape: ',x.shape)"
   ]
  },
  {
   "cell_type": "code",
   "execution_count": 69,
   "metadata": {},
   "outputs": [
    {
     "data": {
      "text/plain": [
       "array([[1],\n",
       "       [2],\n",
       "       [3],\n",
       "       [4],\n",
       "       [5]])"
      ]
     },
     "execution_count": 69,
     "metadata": {},
     "output_type": "execute_result"
    }
   ],
   "source": [
    "x.reshape(-1,1)"
   ]
  },
  {
   "cell_type": "code",
   "execution_count": 21,
   "metadata": {
    "scrolled": false
   },
   "outputs": [
    {
     "data": {
      "text/plain": [
       "array([0, 1, 2, 3, 4, 5, 6, 7, 8, 9])"
      ]
     },
     "execution_count": 21,
     "metadata": {},
     "output_type": "execute_result"
    }
   ],
   "source": [
    "np.arange(0,10)"
   ]
  },
  {
   "cell_type": "markdown",
   "metadata": {},
   "source": [
    "`range` and `np.arange` take `start`, `stop`+1, and `stride` as their arguments."
   ]
  },
  {
   "cell_type": "code",
   "execution_count": 22,
   "metadata": {},
   "outputs": [
    {
     "data": {
      "text/plain": [
       "array([0, 2, 4, 6, 8])"
      ]
     },
     "execution_count": 22,
     "metadata": {},
     "output_type": "execute_result"
    }
   ],
   "source": [
    "np.arange(0,10,2)"
   ]
  },
  {
   "cell_type": "markdown",
   "metadata": {},
   "source": [
    "## Indexing \n",
    "\n",
    "We can select elements, rows, and columns of NumPy arrays (and other data structures as well). "
   ]
  },
  {
   "cell_type": "code",
   "execution_count": 18,
   "metadata": {},
   "outputs": [
    {
     "data": {
      "text/plain": [
       "array([[ 1,  2,  3,  4,  5],\n",
       "       [ 6,  7,  8,  9, 10],\n",
       "       [11, 12, 13, 14, 15],\n",
       "       [16, 17, 18, 19, 20],\n",
       "       [21, 22, 23, 24, 25]])"
      ]
     },
     "execution_count": 18,
     "metadata": {},
     "output_type": "execute_result"
    }
   ],
   "source": [
    "np.arange(1,26).reshape(5,5)"
   ]
  },
  {
   "cell_type": "code",
   "execution_count": 19,
   "metadata": {},
   "outputs": [],
   "source": [
    "A = np.arange(1,26).reshape(5,5)"
   ]
  },
  {
   "cell_type": "code",
   "execution_count": 20,
   "metadata": {},
   "outputs": [
    {
     "name": "stdout",
     "output_type": "stream",
     "text": [
      "Top left: 1\n",
      "Top left: 5\n",
      "Top left: 21\n",
      "Top left: 25\n"
     ]
    }
   ],
   "source": [
    "# Get the top left emlment of A\n",
    "print('Top left:', A[0,0])\n",
    "# Get the top right emlment of A\n",
    "print('Top left:', A[0,4])\n",
    "# Get the bottom left emlment of A\n",
    "print('Top left:', A[4,0])\n",
    "# Get the bottom right emlment of A\n",
    "print('Top left:', A[4,4])"
   ]
  },
  {
   "cell_type": "code",
   "execution_count": 36,
   "metadata": {},
   "outputs": [
    {
     "name": "stdout",
     "output_type": "stream",
     "text": [
      "Column One:\n",
      "array([[ 1],\n",
      "       [ 6],\n",
      "       [11],\n",
      "       [16],\n",
      "       [21]])\n",
      "Column One:\n",
      "array([1, 2, 3, 4, 5])\n"
     ]
    }
   ],
   "source": [
    "import pprint\n",
    "# Get the first column of A\n",
    "print('Column One:')\n",
    "pprint.pprint(A[:,0].reshape(5,1))\n",
    "\n",
    "# Get the first row of A\n",
    "print('Column One:')\n",
    "pprint.pprint(A[0,:])"
   ]
  },
  {
   "cell_type": "code",
   "execution_count": 39,
   "metadata": {},
   "outputs": [
    {
     "name": "stdout",
     "output_type": "stream",
     "text": [
      "Column One and two:\n",
      "array([[ 1,  2],\n",
      "       [ 6,  7],\n",
      "       [11, 12],\n",
      "       [16, 17],\n",
      "       [21, 22]])\n"
     ]
    }
   ],
   "source": [
    "# Get the first two columns of A\n",
    "print('Column One and two:')\n",
    "pprint.pprint(A[:,0:2])"
   ]
  },
  {
   "cell_type": "code",
   "execution_count": null,
   "metadata": {},
   "outputs": [],
   "source": []
  }
 ],
 "metadata": {
  "kernelspec": {
   "display_name": "Python [conda env:EASC305] *",
   "language": "python",
   "name": "conda-env-EASC305-py"
  },
  "language_info": {
   "codemirror_mode": {
    "name": "ipython",
    "version": 3
   },
   "file_extension": ".py",
   "mimetype": "text/x-python",
   "name": "python",
   "nbconvert_exporter": "python",
   "pygments_lexer": "ipython3",
   "version": "3.7.9"
  }
 },
 "nbformat": 4,
 "nbformat_minor": 4
}
