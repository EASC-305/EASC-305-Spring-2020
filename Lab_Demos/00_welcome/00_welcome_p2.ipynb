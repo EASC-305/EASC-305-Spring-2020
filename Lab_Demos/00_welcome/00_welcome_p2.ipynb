{
 "cells": [
  {
   "cell_type": "markdown",
   "metadata": {},
   "source": [
    "# Welcome to `Python` (Part 2)!\n",
    "\n",
    "We are going to focus on data structures in this notebook. "
   ]
  },
  {
   "cell_type": "markdown",
   "metadata": {},
   "source": [
    "# Lists (`list()`)\n",
    "\n",
    "Lists are mutable (i.e. editable). "
   ]
  },
  {
   "cell_type": "code",
   "execution_count": 1,
   "metadata": {},
   "outputs": [
    {
     "name": "stdout",
     "output_type": "stream",
     "text": [
      "grocery_list is of type  <class 'list'>\n",
      "The groceries I need are: ['Milk', 'Eggs', 'Bread']\n"
     ]
    }
   ],
   "source": [
    "# Define our Grocery List\n",
    "grocery_list = ['Milk', 'Eggs', 'Bread']\n",
    "\n",
    "# Print the datatype of our Grocery List\n",
    "print('grocery_list is of type ', type(grocery_list))\n",
    "\n",
    "# Print the items in our Grocery List\n",
    "print('The groceries I need are:', grocery_list)"
   ]
  },
  {
   "cell_type": "code",
   "execution_count": 2,
   "metadata": {},
   "outputs": [
    {
     "name": "stdout",
     "output_type": "stream",
     "text": [
      "['Milk', 'Eggs', 'Bread', 'Beer']\n"
     ]
    }
   ],
   "source": [
    "# Add a item to our list, via the .append() method\n",
    "grocery_list.append('Beer')\n",
    "\n",
    "# Print the items in our updated Grocery List\n",
    "print(grocery_list)"
   ]
  },
  {
   "cell_type": "code",
   "execution_count": 3,
   "metadata": {},
   "outputs": [
    {
     "data": {
      "text/plain": [
       "1"
      ]
     },
     "execution_count": 3,
     "metadata": {},
     "output_type": "execute_result"
    }
   ],
   "source": [
    "# Check the number of times (i.e. .count()) an item appears in our list\n",
    "grocery_list.count('Milk')"
   ]
  },
  {
   "cell_type": "code",
   "execution_count": 4,
   "metadata": {},
   "outputs": [
    {
     "name": "stdout",
     "output_type": "stream",
     "text": [
      "['Beer', 'Eggs', 'Bread', 'Milk']\n"
     ]
    }
   ],
   "source": [
    "# Swap the order of elements list to reflect their priority\n",
    "grocery_list[0]  = 'Beer'\n",
    "grocery_list[-1] = 'Milk'\n",
    "\n",
    "# Print the items in our Grocery List not order by priority\n",
    "print(grocery_list)"
   ]
  },
  {
   "cell_type": "markdown",
   "metadata": {},
   "source": [
    "# Tuples (`tuple()`)\n",
    "\n",
    "A `tuple` is very similar to lists but immutable and defined within `()` instead of `[]`. "
   ]
  },
  {
   "cell_type": "code",
   "execution_count": 5,
   "metadata": {},
   "outputs": [
    {
     "name": "stdout",
     "output_type": "stream",
     "text": [
      "grocery_list is of type  <class 'tuple'>\n",
      "The groceries I need are: ('Milk', 'Eggs', 'Bread')\n"
     ]
    }
   ],
   "source": [
    "# Define our Grocery Set\n",
    "grocery_tuple = ('Milk', 'Eggs', 'Bread')\n",
    "\n",
    "# Print the datatype of our Grocery List\n",
    "print('grocery_list is of type ', type(grocery_tuple))\n",
    "\n",
    "# Print the items in our Grocery List\n",
    "print('The groceries I need are:', grocery_tuple)"
   ]
  },
  {
   "cell_type": "code",
   "execution_count": 6,
   "metadata": {},
   "outputs": [],
   "source": [
    "# This code does not work because tuples are immutable\n",
    "# you can comment it out if you'd like. Either with multiple # or enclose it in \"\"\" \"\"\"\n",
    "grocery_tuple.append('Beer')\n",
    "\n",
    "# Print the items in our updated Grocery List\n",
    "print(grocery_tuple)"
   ]
  },
  {
   "cell_type": "code",
   "execution_count": 7,
   "metadata": {},
   "outputs": [],
   "source": [
    "# This code does not work because tuples are immutable\n",
    "# you can comment it out if you'd like. Either with multiple # or enclose it in \"\"\" \"\"\"\n",
    "grocery_tuple[0]  = 'Beer'\n",
    "grocery_tuple[-1] = 'Milk'\n",
    "print(grocery_tuple)"
   ]
  },
  {
   "cell_type": "markdown",
   "metadata": {},
   "source": [
    "# Dictionaries  (`dict()`)\n",
    "\n",
    "A `dictionary` is very use full data structure, that contains data linked via _keys_. Dictionaries are mutable, s they be altered after their creation. Let's see them in action to see what I mean: "
   ]
  },
  {
   "cell_type": "code",
   "execution_count": 8,
   "metadata": {},
   "outputs": [
    {
     "name": "stdout",
     "output_type": "stream",
     "text": [
      "{'Jack': 170.0, 'Jill': 180.0, 'Mark': 165.0, 'Jen': 170.0}\n"
     ]
    }
   ],
   "source": [
    "# A dictionary of Student Heights in cm\n",
    "student_heights = {'Jack': 170.0, 'Jill': 180.0, 'Mark': 165.0, 'Jen':170.0}\n",
    "\n",
    "# Print dictionary of student heights\n",
    "print(student_heights)"
   ]
  },
  {
   "cell_type": "code",
   "execution_count": 9,
   "metadata": {},
   "outputs": [
    {
     "name": "stdout",
     "output_type": "stream",
     "text": [
      "Jack's height:  170.0 cm\n",
      "Jill's height:  180.0 cm\n",
      "Mark's height:  165.0 cm\n",
      "Jen's height:  170.0 cm\n"
     ]
    }
   ],
   "source": [
    "print('Jack\\'s height: ', student_heights['Jack'],'cm')\n",
    "print('Jill\\'s height: ', student_heights['Jill'],'cm')\n",
    "print('Mark\\'s height: ', student_heights['Mark'],'cm')\n",
    "print('Jen\\'s height: ' , student_heights['Jen'],'cm')"
   ]
  },
  {
   "cell_type": "code",
   "execution_count": 10,
   "metadata": {},
   "outputs": [
    {
     "name": "stdout",
     "output_type": "stream",
     "text": [
      "Eriks's height:  175.0 cm\n"
     ]
    }
   ],
   "source": [
    "# lets say we have a new student, Erik. We can add their infromation to our dictionary\n",
    "student_heights['Erik'] = 175.0\n",
    "# Print added key's value\n",
    "print('Eriks\\'s height: ' , student_heights['Erik'],'cm')"
   ]
  },
  {
   "cell_type": "markdown",
   "metadata": {},
   "source": [
    "It's important to note that the _values_ associated with a key within a `dictionary` don't have to be just _floats_. They can be _strings_, _integers_, _list_, _tuples_, or even `numpy.arrays`. "
   ]
  },
  {
   "cell_type": "code",
   "execution_count": 11,
   "metadata": {},
   "outputs": [],
   "source": [
    "Mean_annual_temp = {'station_1': [0., 1., 0., 3., 5.], \n",
    "                    'station_2': [1., 3., 4., 5., 3.],\n",
    "                    'station_3': [0., 0., 1., 2., 0.],\n",
    "                   }"
   ]
  },
  {
   "cell_type": "code",
   "execution_count": 12,
   "metadata": {},
   "outputs": [
    {
     "data": {
      "text/plain": [
       "list"
      ]
     },
     "execution_count": 12,
     "metadata": {},
     "output_type": "execute_result"
    }
   ],
   "source": [
    "type(Mean_annual_temp['station_1'])"
   ]
  },
  {
   "cell_type": "markdown",
   "metadata": {},
   "source": [
    "# Intro to NumPy Arrays "
   ]
  },
  {
   "cell_type": "code",
   "execution_count": 13,
   "metadata": {},
   "outputs": [],
   "source": [
    "import numpy as np "
   ]
  },
  {
   "cell_type": "code",
   "execution_count": 14,
   "metadata": {},
   "outputs": [
    {
     "name": "stdout",
     "output_type": "stream",
     "text": [
      "[1 2 3 4 5]\n"
     ]
    }
   ],
   "source": [
    "x = np.array([1,2,3,4,5])\n",
    "print(x)"
   ]
  },
  {
   "cell_type": "code",
   "execution_count": 15,
   "metadata": {},
   "outputs": [
    {
     "name": "stdout",
     "output_type": "stream",
     "text": [
      "[1 2 3 4 5]\n"
     ]
    }
   ],
   "source": [
    "x = np.arange(1,6)\n",
    "print(x)"
   ]
  },
  {
   "cell_type": "code",
   "execution_count": 16,
   "metadata": {},
   "outputs": [
    {
     "name": "stdout",
     "output_type": "stream",
     "text": [
      "x is of shape:  (5,)\n"
     ]
    }
   ],
   "source": [
    "print('x is of shape: ',x.shape)"
   ]
  },
  {
   "cell_type": "code",
   "execution_count": 17,
   "metadata": {},
   "outputs": [
    {
     "data": {
      "text/plain": [
       "array([[1],\n",
       "       [2],\n",
       "       [3],\n",
       "       [4],\n",
       "       [5]])"
      ]
     },
     "execution_count": 17,
     "metadata": {},
     "output_type": "execute_result"
    }
   ],
   "source": [
    "x.reshape(-1,1)"
   ]
  },
  {
   "cell_type": "code",
   "execution_count": 18,
   "metadata": {
    "scrolled": false
   },
   "outputs": [
    {
     "data": {
      "text/plain": [
       "array([0, 1, 2, 3, 4, 5, 6, 7, 8, 9])"
      ]
     },
     "execution_count": 18,
     "metadata": {},
     "output_type": "execute_result"
    }
   ],
   "source": [
    "np.arange(0,10)"
   ]
  },
  {
   "cell_type": "markdown",
   "metadata": {},
   "source": [
    "`range` and `np.arange` take `start`, `stop`+1, and `stride` as their arguments."
   ]
  },
  {
   "cell_type": "code",
   "execution_count": 19,
   "metadata": {},
   "outputs": [
    {
     "data": {
      "text/plain": [
       "array([0, 2, 4, 6, 8])"
      ]
     },
     "execution_count": 19,
     "metadata": {},
     "output_type": "execute_result"
    }
   ],
   "source": [
    "np.arange(0,10,2)"
   ]
  },
  {
   "cell_type": "markdown",
   "metadata": {},
   "source": [
    "## Indexing \n",
    "\n",
    "We can select elements, rows, and columns of NumPy arrays (and other data structures as well). "
   ]
  },
  {
   "cell_type": "code",
   "execution_count": 20,
   "metadata": {},
   "outputs": [
    {
     "data": {
      "text/plain": [
       "array([[ 1,  2,  3,  4,  5],\n",
       "       [ 6,  7,  8,  9, 10],\n",
       "       [11, 12, 13, 14, 15],\n",
       "       [16, 17, 18, 19, 20],\n",
       "       [21, 22, 23, 24, 25]])"
      ]
     },
     "execution_count": 20,
     "metadata": {},
     "output_type": "execute_result"
    }
   ],
   "source": [
    "np.arange(1,26).reshape(5,5)"
   ]
  },
  {
   "cell_type": "code",
   "execution_count": 21,
   "metadata": {},
   "outputs": [],
   "source": [
    "A = np.arange(1,26).reshape(5,5)"
   ]
  },
  {
   "cell_type": "code",
   "execution_count": 22,
   "metadata": {},
   "outputs": [
    {
     "name": "stdout",
     "output_type": "stream",
     "text": [
      "Top left: 1\n",
      "Top right: 5\n",
      "Bottom left: 21\n",
      "Bottom right: 25\n"
     ]
    }
   ],
   "source": [
    "# Get the top left emlment of A\n",
    "print('Top left:', A[0,0])\n",
    "# Get the top right emlment of A\n",
    "print('Top right:', A[0,4])\n",
    "# Get the bottom left emlment of A\n",
    "print('Bottom left:', A[4,0])\n",
    "# Get the bottom right emlment of A\n",
    "print('Bottom right:', A[4,4])"
   ]
  },
  {
   "cell_type": "code",
   "execution_count": 23,
   "metadata": {},
   "outputs": [
    {
     "name": "stdout",
     "output_type": "stream",
     "text": [
      "Column One\n",
      "array([[ 1],\n",
      "       [ 6],\n",
      "       [11],\n",
      "       [16],\n",
      "       [21]])\n",
      "Column One\n",
      "array([1, 2, 3, 4, 5])\n"
     ]
    }
   ],
   "source": [
    "import pprint\n",
    "# Get the first column of A\n",
    "print('Column One')\n",
    "pprint.pprint(A[:,0].reshape(5,1))\n",
    "\n",
    "# Get the first row of A\n",
    "print('Column One')\n",
    "pprint.pprint(A[0,:])"
   ]
  },
  {
   "cell_type": "code",
   "execution_count": 24,
   "metadata": {},
   "outputs": [
    {
     "name": "stdout",
     "output_type": "stream",
     "text": [
      "Column One and two\n",
      "array([[ 1,  2],\n",
      "       [ 6,  7],\n",
      "       [11, 12],\n",
      "       [16, 17],\n",
      "       [21, 22]])\n"
     ]
    }
   ],
   "source": [
    "# Get the first two columns of A\n",
    "print('Column One and two')\n",
    "pprint.pprint(A[:,0:2])"
   ]
  },
  {
   "cell_type": "code",
   "execution_count": null,
   "metadata": {},
   "outputs": [],
   "source": []
  }
 ],
 "metadata": {
  "kernelspec": {
   "display_name": "Python [conda env:EASC305] *",
   "language": "python",
   "name": "conda-env-EASC305-py"
  },
  "language_info": {
   "codemirror_mode": {
    "name": "ipython",
    "version": 3
   },
   "file_extension": ".py",
   "mimetype": "text/x-python",
   "name": "python",
   "nbconvert_exporter": "python",
   "pygments_lexer": "ipython3",
   "version": "3.7.9"
  }
 },
 "nbformat": 4,
 "nbformat_minor": 4
}
