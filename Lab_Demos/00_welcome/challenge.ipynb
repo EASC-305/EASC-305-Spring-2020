{
 "cells": [
  {
   "cell_type": "markdown",
   "metadata": {},
   "source": [
    "## Multiples of 3 and 5\n",
    "This is problem 1 from [Project Euler](https://projecteuler.net/archives), which are a collection of mathematical and computational problems. If you think you have an answer, make an account and check! If you get it right, give some other questions as try.  \n",
    "\n",
    "\n",
    "__Question__:   \n",
    "<p>If we list all the natural numbers below 10 that are multiples of 3 or 5, we get 3, 5, 6 and 9. The sum of these multiples is 23.</p>\n",
    "<p>Find the sum of all the multiples of 3 or 5 below 1000.</p>"
   ]
  },
  {
   "cell_type": "code",
   "execution_count": null,
   "metadata": {},
   "outputs": [],
   "source": []
  }
 ],
 "metadata": {
  "kernelspec": {
   "display_name": "Python 3",
   "language": "python",
   "name": "python3"
  },
  "language_info": {
   "codemirror_mode": {
    "name": "ipython",
    "version": 3
   },
   "file_extension": ".py",
   "mimetype": "text/x-python",
   "name": "python",
   "nbconvert_exporter": "python",
   "pygments_lexer": "ipython3",
   "version": "3.7.9"
  }
 },
 "nbformat": 4,
 "nbformat_minor": 4
}
