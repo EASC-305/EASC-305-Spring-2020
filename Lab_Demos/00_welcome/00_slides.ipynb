{
 "cells": [
  {
   "cell_type": "markdown",
   "metadata": {
    "slideshow": {
     "slide_type": "slide"
    }
   },
   "source": [
    "# Welcome to EASC 305 Lab \n",
    "\n",
    "\n",
    "__Andrew Nolan (He/Him)__  \n",
    "anolan@sfu.ca"
   ]
  },
  {
   "cell_type": "markdown",
   "metadata": {
    "slideshow": {
     "slide_type": "slide"
    }
   },
   "source": [
    "- Please direct all `python` questions to me via the Canvas discussion page. There will be a discussion topic for each lab where you can post questions.   \n",
    "\n",
    "- Tentatively, I will hold office hours by appointment, so send me an email if you'd like to meet.  \n",
    "  - I may switch to set time for office hours depending on how well attended/requested they are. "
   ]
  },
  {
   "cell_type": "markdown",
   "metadata": {
    "slideshow": {
     "slide_type": "slide"
    }
   },
   "source": [
    "How are we going to access python?\n",
    "\n",
    "Follow this link here:  \n",
    "> \n",
    "\n",
    "Sign in with your SFU credentials. "
   ]
  },
  {
   "cell_type": "markdown",
   "metadata": {
    "slideshow": {
     "slide_type": "skip"
    }
   },
   "source": [
    "End with link to first demo. "
   ]
  },
  {
   "cell_type": "code",
   "execution_count": null,
   "metadata": {},
   "outputs": [],
   "source": []
  }
 ],
 "metadata": {
  "celltoolbar": "Slideshow",
  "kernelspec": {
   "display_name": "Python 3",
   "language": "python",
   "name": "python3"
  },
  "language_info": {
   "codemirror_mode": {
    "name": "ipython",
    "version": 3
   },
   "file_extension": ".py",
   "mimetype": "text/x-python",
   "name": "python",
   "nbconvert_exporter": "python",
   "pygments_lexer": "ipython3",
   "version": "3.7.9"
  }
 },
 "nbformat": 4,
 "nbformat_minor": 4
}
