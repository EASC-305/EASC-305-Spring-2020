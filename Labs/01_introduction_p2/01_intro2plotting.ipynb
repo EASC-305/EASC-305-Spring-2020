{
 "cells": [
  {
   "cell_type": "markdown",
   "metadata": {},
   "source": [
    "# Lab 1: Introduction to Plotting  \n",
    "\n",
    "\n",
    "<img src=\"https://matplotlib.org/3.3.3/_images/sphx_glr_anatomy_001.png\" alt=\"Anatomy of Figure\" width=\"500\"/>  \n",
    "\n",
    "__Fig 1__: From the [`matplotlib` documentation](https://matplotlib.org/3.3.3/gallery/showcase/anatomy.html)."
   ]
  },
  {
   "cell_type": "code",
   "execution_count": 8,
   "metadata": {},
   "outputs": [],
   "source": [
    "import numpy as np \n",
    "import matplotlib.pyplot as plt \n",
    "\n",
    "%matplotlib notebook"
   ]
  },
  {
   "cell_type": "markdown",
   "metadata": {},
   "source": [
    "## Exercise 1: Loading Data and Plotting (10 pts)  \n",
    "\n",
    "1. Load the `well_data.txt` data using `numpy`'s `loadtxt` function. The data is formatted such that the columns are:  \n",
    "\n",
    "  Depth (ft), Electrical Conductivity (mS/m), Temperature (C)   \n",
    "  \n",
    "  \n",
    "2. Convert depth to meters.\n",
    "3. Produce the following plot using this data (you have creative freedom to make your plot extra  \n",
    "beautiful). Make sure your figure has:  \n",
    "  a. Title  \n",
    "  b. Axis labels  \n",
    "  c. Legend (not applicable for this lab, but will likely be in the future)  \n",
    "  d. Readable text  "
   ]
  },
  {
   "cell_type": "code",
   "execution_count": null,
   "metadata": {},
   "outputs": [],
   "source": [
    "#1 load data\n",
    "\n",
    "data_mat = np.loadtxt('well_data.txt')\n",
    "\n",
    "depth_ft = data_mat[:,0]\n",
    "conduct  = data_mat[:,1]\n",
    "temp_C   = data_mat[:,1]\n"
   ]
  },
  {
   "cell_type": "code",
   "execution_count": null,
   "metadata": {},
   "outputs": [],
   "source": [
    "# 2. Convert depth tp meters\n",
    "\n",
    "depth_m  = depth_ft * 0.3048"
   ]
  },
  {
   "cell_type": "code",
   "execution_count": null,
   "metadata": {},
   "outputs": [],
   "source": [
    "# 3. Plot \n",
    "fig, ax = plt.subplots(1,2,sharey=True)\n",
    "\n",
    "ax[0].plot(conduct,depth_m)\n",
    "ax[0].set_title('Electrical Conductivity')\n",
    "ax[0].set_xlabel('(mS/m)')\n",
    "\n",
    "ax[0].set_ylabel('Depth (m)')\n",
    "\n",
    "\n",
    "ax[1].plot(temp_C,depth_m)\n",
    "ax[1].set_title('Temperature')\n",
    "ax[1].set_xlabel('(C)')\n",
    "\n",
    "ax[1].invert_yaxis()\n"
   ]
  },
  {
   "cell_type": "markdown",
   "metadata": {},
   "source": [
    "## Exercise 2: Loading Data and Plotting (10 pts)  \n",
    "\n",
    "Load the data file `ammonoids.mat`, which contains the variables `NumAm` and `MasAm`. The values within `NumAm` represent the number of ammonoid shells found in each grid cell, while `MasAm` gives the average weight of the shells found in each grid cell. `NumAm` and `MasAm` are both $m \\times n$ matrices of the same dimension (representing the grid in which the shells were originally found). In this case, we will define that there are $m$ cells in the $x$ direction with a spacing ($\\Delta x$) of 10m, and $n$ cells in the $y$ direction with a spacing ($\\Delta y$) of 10m (see figure).\n"
   ]
  },
  {
   "cell_type": "code",
   "execution_count": 1,
   "metadata": {},
   "outputs": [],
   "source": [
    "import numpy as np \n",
    "import scipy.io as sio\n",
    "\n",
    "data  = sio.loadmat('ammonoids.mat')\n",
    "NumAm = data['NumAm'].astype(np.float32)\n",
    "MasAm = data['MasAm'].astype(np.float32)"
   ]
  },
  {
   "cell_type": "markdown",
   "metadata": {},
   "source": [
    "a. Write an `if` statement that checks if the sizes of `MasAm` and `NumAm` are equal. If they are, set $m$ to the number of cells in the $x$-direction and $n$ to the number of cells in the $y$-direction. Hint: use the size(A) command to determine the dimensions of a matrix and the length(A(:,1)) command to find the number of cells in a certain direction. (4 pts)"
   ]
  },
  {
   "cell_type": "code",
   "execution_count": 2,
   "metadata": {},
   "outputs": [],
   "source": [
    "assert NumAm.shape == MasAm.shape\n",
    "\n",
    "m,n = NumAm.shape"
   ]
  },
  {
   "cell_type": "markdown",
   "metadata": {},
   "source": [
    "b. Create a new matrix `TMA` whose elements represent the total mass of the ammonoids within each grid cell. (1 pt)  "
   ]
  },
  {
   "cell_type": "code",
   "execution_count": 3,
   "metadata": {},
   "outputs": [],
   "source": [
    "TMA = NumAm * MasAm"
   ]
  },
  {
   "cell_type": "markdown",
   "metadata": {},
   "source": [
    "c. Find the total and average mass of ammonoids per cell in the first row using two different methods: 1) using the `mean` function and 2) with a `for` loop. (8 pts)"
   ]
  },
  {
   "cell_type": "code",
   "execution_count": null,
   "metadata": {},
   "outputs": [],
   "source": []
  },
  {
   "cell_type": "markdown",
   "metadata": {},
   "source": [
    "d. Make a new variable called `TMA300` that is the same size as `TMA` (with one extra row in x and y) using the `np.zeros(m+1,n+1)` function. If the total mass of the ammonoids in a cell is greater than 300, place the total mass (value in `TMA`) in your new variable at the same cell location. "
   ]
  },
  {
   "cell_type": "code",
   "execution_count": 33,
   "metadata": {},
   "outputs": [],
   "source": [
    "TMA300 = TMA.copy()\n",
    "TMA300[TMA300 < 300] = np.nan"
   ]
  },
  {
   "cell_type": "markdown",
   "metadata": {},
   "source": [
    "e. Repeat step (d) making a new variable TMA100 that only includes mass values less than 100, and new variable TMA200 that only include mass values greater than 100 and less than 300. (5 pts)"
   ]
  },
  {
   "cell_type": "code",
   "execution_count": 35,
   "metadata": {},
   "outputs": [],
   "source": [
    "TMA100 = TMA.copy()\n",
    "TMA100[TMA100 > 100.] = np.nan\n",
    "\n",
    "TMA200 = TMA.copy()\n",
    "TMA200[(100 > TMA200) | (TMA200 > 300)] = np.nan"
   ]
  },
  {
   "cell_type": "markdown",
   "metadata": {},
   "source": [
    "f. Calculate the mean mass of the ammonoids greater than 100 and less than 300. Hint: use the function `np.nanmean`. (3 pts)"
   ]
  },
  {
   "cell_type": "code",
   "execution_count": 36,
   "metadata": {},
   "outputs": [
    {
     "data": {
      "text/plain": [
       "186.85"
      ]
     },
     "execution_count": 36,
     "metadata": {},
     "output_type": "execute_result"
    }
   ],
   "source": [
    "np.nanmean(TMA200)"
   ]
  },
  {
   "cell_type": "markdown",
   "metadata": {},
   "source": [
    "g. Make a spatial plot of `TMA100`, `TMA200`, and `TMA300`. Hint: Make the spatial plot using `plt.pcolormesh` and add a color bar with colorbar. Put all three plots on figure using the subplot axes. "
   ]
  },
  {
   "cell_type": "code",
   "execution_count": 32,
   "metadata": {},
   "outputs": [
    {
     "data": {
      "image/png": "[encoded data removed]",
      "text/plain": [
       "<Figure size 720x288 with 4 Axes>"
      ]
     },
     "metadata": {
      "needs_background": "light"
     },
     "output_type": "display_data"
    }
   ],
   "source": [
    "fig, ax = plt.subplots(1,3,sharex=True,sharey=True,figsize=(10,4))\n",
    "\n",
    "im0 = ax[0].pcolor(TMA100,clim=(0,400))\n",
    "im1 = ax[1].pcolor(TMA200,clim=(0,400))\n",
    "im2 = ax[2].pcolor(TMA300,clim=(0,400))\n",
    "\n",
    "\n",
    "fig.colorbar(im0, ax=ax.ravel().tolist())\n",
    "plt.tight_layout()"
   ]
  },
  {
   "cell_type": "code",
   "execution_count": null,
   "metadata": {},
   "outputs": [],
   "source": []
  }
 ],
 "metadata": {
  "kernelspec": {
   "display_name": "Python 3",
   "language": "python",
   "name": "python3"
  },
  "language_info": {
   "codemirror_mode": {
    "name": "ipython",
    "version": 3
   },
   "file_extension": ".py",
   "mimetype": "text/x-python",
   "name": "python",
   "nbconvert_exporter": "python",
   "pygments_lexer": "ipython3",
   "version": "3.6.7"
  },
  "latex_envs": {
   "LaTeX_envs_menu_present": true,
   "autoclose": true,
   "autocomplete": true,
   "bibliofile": "ipython.bib",
   "cite_by": "apalike",
   "current_citInitial": 1,
   "eqLabelWithNumbers": true,
   "eqNumInitial": 1,
   "hotkeys": {
    "equation": "Ctrl-E",
    "itemize": "Ctrl-I"
   },
   "labels_anchors": false,
   "latex_user_defs": false,
   "report_style_numbering": false,
   "user_envs_cfg": false
  }
 },
 "nbformat": 4,
 "nbformat_minor": 2
}
