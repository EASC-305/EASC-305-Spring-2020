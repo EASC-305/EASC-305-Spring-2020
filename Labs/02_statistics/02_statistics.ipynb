{
 "cells": [
  {
   "cell_type": "markdown",
   "metadata": {},
   "source": [
    "# Lab 2: Statistics \n"
   ]
  },
  {
   "cell_type": "markdown",
   "metadata": {},
   "source": [
    "## Exercise 1: Load Data and Compute Data Statistics (12 pts)  \n",
    "\n",
    "Load the data file `organicmatter.txt`.  \n",
    "\n",
    "1. Compute the following statistics  \n",
    "  a. Mean  \n",
    "  b. Median  \n",
    "  c. Variance  \n",
    "  d. Standard Deviation  \n",
    "  e. Skew  \n",
    "  f. Kurtosis  \n",
    "  \n",
    "2. Explain (in a comment) the meaning of variance, skew, and kurtosis. What would larger and smaller values mean in the context of each statistic?  "
   ]
  },
  {
   "cell_type": "code",
   "execution_count": 12,
   "metadata": {},
   "outputs": [
    {
     "name": "stdout",
     "output_type": "stream",
     "text": [
      "Mean:      +12.345\n",
      "Median:    +12.471\n",
      "Variance:  +1.337\n",
      "Std. Dev.: +1.156\n",
      "Skew:      -0.253\n",
      "Kurtosis:  -0.533\n"
     ]
    }
   ],
   "source": [
    "# 1. Compute the following Stats: \n",
    "\n",
    "import numpy as np \n",
    "import scipy.stats as sts\n",
    "\n",
    "data = np.loadtxt('organicmatter.txt')\n",
    "\n",
    "print('Mean:      {:+.3f}'.format(np.mean(data)))\n",
    "print('Median:    {:+.3f}'.format(np.median(data)))\n",
    "print('Variance:  {:+.3f}'.format(np.var(data)))\n",
    "print('Std. Dev.: {:+.3f}'.format(np.std(data)))\n",
    "print('Skew:      {:+.3f}'.format(sts.skew(data)))\n",
    "print('Kurtosis:  {:+.3f}'.format(sts.kurtosis(data)))"
   ]
  },
  {
   "cell_type": "markdown",
   "metadata": {},
   "source": [
    "2. Explain (in a comment) the meaning of variance, skew, and kurtosis. What would larger and smaller values mean in the context of each statistic?   \n",
    "\n",
    "_Your answer here_ "
   ]
  },
  {
   "cell_type": "code",
   "execution_count": null,
   "metadata": {},
   "outputs": [],
   "source": []
  },
  {
   "cell_type": "markdown",
   "metadata": {},
   "source": [
    "## Exercise 2: Default Histogram Functions\n",
    "Instead of looking at all data values individually, you can group the data into bins. The width of a bin relates to the range of data values you allow in each bin, and the height of a bin is the number of data values it holds.\n",
    "1. What is a PDF and a CDF? Why are they useful when evaluating data?   \n",
    "2. Figure 1: Generate a PDF of your data using the function `plt.hist(data)`.  \n",
    "  a. How does `plt.hist(data)` bin the data?  \n",
    "3. Figure 2: Create a normalized PDF of your data using `plt.hist(data,nbins)`. A\n",
    "normalized PDF is one with a total area under the curve equal to 1 (the function hist does not normalize the data automatically)."
   ]
  },
  {
   "cell_type": "code",
   "execution_count": 16,
   "metadata": {},
   "outputs": [
    {
     "data": {
      "image/png": "[encoded data removed]",
      "text/plain": [
       "<Figure size 432x288 with 1 Axes>"
      ]
     },
     "metadata": {
      "needs_background": "light"
     },
     "output_type": "display_data"
    }
   ],
   "source": [
    "import matplotlib.pyplot as plt\n",
    "\n",
    "#2. \n",
    "fig, ax = plt.subplots(1,1)\n",
    "\n",
    "n, bins, patches = ax.hist(data)"
   ]
  },
  {
   "cell_type": "code",
   "execution_count": 18,
   "metadata": {},
   "outputs": [
    {
     "data": {
      "image/png": "[encoded data removed]",
      "text/plain": [
       "<Figure size 432x288 with 1 Axes>"
      ]
     },
     "metadata": {
      "needs_background": "light"
     },
     "output_type": "display_data"
    }
   ],
   "source": [
    "#3. \n",
    "nbins = round(np.sqrt(len(data)))\n",
    "\n",
    "fig, ax = plt.subplots(1,1)\n",
    "\n",
    "n, bins, patches = ax.hist(data,nbins,lin)\n"
   ]
  },
  {
   "cell_type": "code",
   "execution_count": null,
   "metadata": {},
   "outputs": [],
   "source": []
  }
 ],
 "metadata": {
  "kernelspec": {
   "display_name": "Python 3",
   "language": "python",
   "name": "python3"
  },
  "language_info": {
   "codemirror_mode": {
    "name": "ipython",
    "version": 3
   },
   "file_extension": ".py",
   "mimetype": "text/x-python",
   "name": "python",
   "nbconvert_exporter": "python",
   "pygments_lexer": "ipython3",
   "version": "3.6.7"
  },
  "latex_envs": {
   "LaTeX_envs_menu_present": true,
   "autoclose": true,
   "autocomplete": true,
   "bibliofile": "ipython.bib",
   "cite_by": "apalike",
   "current_citInitial": 1,
   "eqLabelWithNumbers": true,
   "eqNumInitial": 1,
   "hotkeys": {
    "equation": "Ctrl-E",
    "itemize": "Ctrl-I"
   },
   "labels_anchors": false,
   "latex_user_defs": false,
   "report_style_numbering": false,
   "user_envs_cfg": false
  }
 },
 "nbformat": 4,
 "nbformat_minor": 2
}
