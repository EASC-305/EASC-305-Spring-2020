{
 "cells": [
  {
   "cell_type": "markdown",
   "metadata": {},
   "source": [
    "# Introduction to Computing: \n",
    "\n",
    "Here we are going to discus two way to evaluating a mathematical expression within `python`.  \n",
    " - First, by _iteration_ via a `for` loop.   \n",
    " - Second, by _vectorization_.   \n",
    "\n",
    "To compare these methods of evaluating expression we are going to profile (i.e. time) how long the respective methods take to execute.   \n",
    "\n",
    "## Outline of Demo:\n",
    "* [Profiling Code](#first-bullet)\n",
    "* [Example One: Sum of Squares](#second-bullet)\n",
    "* [Example Two: Simple Trig. Function](#third-bullet)"
   ]
  },
  {
   "cell_type": "markdown",
   "metadata": {},
   "source": [
    "## Profiling Code:  <a class=\"anchor\" id=\"first-bullet\"></a>\n",
    "\n",
    "Ways of profiling (i.e. timing) code: \n",
    "1. `time` module to record cpu time at the beginning and end of a block of code   \n",
    "2. `%%timeit` magic command   \n",
    "3. `%%time`   magic command   \n",
    "\n",
    "Magic commands (e.g. `%%timeit`) are special command that can be used in jupyter notebooks and the `ipython` interpreter. To see all the available magic commands, you can run (`%lsmagic`). \n",
    "\n",
    "For more information and other ways of profiling (i.e. timing) code see [here](https://jakevdp.github.io/PythonDataScienceHandbook/01.07-timing-and-profiling.html)."
   ]
  },
  {
   "cell_type": "markdown",
   "metadata": {},
   "source": [
    "__Method 1__: `time` module \n",
    "\n",
    "We are going to record the cpu time at the beginning and end of our code block, and use to difference to tell how long our code ran."
   ]
  },
  {
   "cell_type": "code",
   "execution_count": 3,
   "metadata": {},
   "outputs": [
    {
     "name": "stdout",
     "output_type": "stream",
     "text": [
      "Total time: 7.148599999950989e-05 (s)\n"
     ]
    }
   ],
   "source": [
    "import time \n",
    "\n",
    "t0 = time.perf_counter()\n",
    "\n",
    "for i in range(1000):\n",
    "    pass \n",
    "\n",
    "t1 = time.perf_counter()\n",
    "\n",
    "tt = t1 - t0 \n",
    "\n",
    "print('Total time:',tt,'(s)')"
   ]
  },
  {
   "cell_type": "markdown",
   "metadata": {},
   "source": [
    "__Method 2__: `%%timeit` magic command  \n",
    "\n",
    "The `%%timeit` will run a cell _LOTS_ of times and record the time the cells take to run each time. It reports back the average time and the standard deviation. Since `%%timeit` will run a block lots of time, we would only want to use it to profile a cell that runs relatively quickly. "
   ]
  },
  {
   "cell_type": "code",
   "execution_count": 51,
   "metadata": {},
   "outputs": [
    {
     "name": "stdout",
     "output_type": "stream",
     "text": [
      "18.5 µs ± 711 ns per loop (mean ± std. dev. of 7 runs, 100000 loops each)\n"
     ]
    }
   ],
   "source": [
    "%%timeit \n",
    "\n",
    "for i in range(1000):\n",
    "    pass "
   ]
  },
  {
   "cell_type": "markdown",
   "metadata": {},
   "source": [
    "__Method 3__:  `%%time` magic command  \n",
    "\n",
    "The `%%time` magic command  will only run a cell once.\n",
    "This command is use full for timing a cell that can take a very long time to run. \n",
    "It provides lots of information (CPU time divided by user and sys)"
   ]
  },
  {
   "cell_type": "code",
   "execution_count": 52,
   "metadata": {},
   "outputs": [
    {
     "name": "stdout",
     "output_type": "stream",
     "text": [
      "CPU times: user 28 µs, sys: 1 µs, total: 29 µs\n",
      "Wall time: 31 µs\n"
     ]
    }
   ],
   "source": [
    "%%time\n",
    "\n",
    "for i in range(1000):\n",
    "    pass "
   ]
  },
  {
   "cell_type": "markdown",
   "metadata": {},
   "source": [
    "# Example One: Sum of Squares <a class=\"anchor\" id=\"second-bullet\"></a>\n",
    "\n",
    "For a vector $\\mathbf{X}= [x_0, x_1, \\ldots, x_N]$ of length $N$ containing all random number, we will compute the sum of squares such that: \n",
    "\n",
    "$$\n",
    "\\sum_{i=1}^N x_i x_i = x_0 x_0 + x_1 x_1 + \\ldots + x_N x_N\n",
    "$$"
   ]
  },
  {
   "cell_type": "code",
   "execution_count": 11,
   "metadata": {},
   "outputs": [],
   "source": [
    "import time \n",
    "import numpy as np \n",
    "\n",
    "np.random.seed(999)\n",
    "\n",
    "N = 5000\n",
    "x = np.random.rand(5000)"
   ]
  },
  {
   "cell_type": "markdown",
   "metadata": {},
   "source": [
    "### Method One: Iteration (for loop)"
   ]
  },
  {
   "cell_type": "code",
   "execution_count": 28,
   "metadata": {
    "scrolled": false
   },
   "outputs": [
    {
     "name": "stdout",
     "output_type": "stream",
     "text": [
      "CPU times: user 3.01 ms, sys: 25 µs, total: 3.03 ms\n",
      "Wall time: 3.09 ms\n"
     ]
    }
   ],
   "source": [
    "%%time\n",
    "\n",
    "s1 = 0 #Sum for method 1\n",
    "for i in range(N):\n",
    "    s1 = s1 + x[i]*x[i]"
   ]
  },
  {
   "cell_type": "markdown",
   "metadata": {},
   "source": [
    "### Method Two: Vectorization "
   ]
  },
  {
   "cell_type": "code",
   "execution_count": 29,
   "metadata": {},
   "outputs": [
    {
     "name": "stdout",
     "output_type": "stream",
     "text": [
      "CPU times: user 76 µs, sys: 21 µs, total: 97 µs\n",
      "Wall time: 83.9 µs\n"
     ]
    }
   ],
   "source": [
    "%%time \n",
    "\n",
    "s2 = np.sum(x**2)"
   ]
  },
  {
   "cell_type": "markdown",
   "metadata": {},
   "source": [
    "### Method Three: Linear Algebra  \n",
    "\n",
    "The dot product of two vectors $a = [a_1, a_2, \\ldots, a_n]$ and $b = [b_1, b_2, \\ldots, b_n]$ is defined as:\n",
    "\n",
    "$$\n",
    "    \\mathbf{a \\cdot b} = \\sum _{i=1}^{n}a_i b_i = a_1 b_1 + a_2 b_2 + \\ldots + a_n b_n \n",
    "$$"
   ]
  },
  {
   "cell_type": "code",
   "execution_count": 42,
   "metadata": {
    "scrolled": true
   },
   "outputs": [
    {
     "name": "stdout",
     "output_type": "stream",
     "text": [
      "1.77 µs ± 112 ns per loop (mean ± std. dev. of 7 runs, 100000 loops each)\n"
     ]
    }
   ],
   "source": [
    "%%timeit\n",
    "\n",
    "np.dot(x,x)"
   ]
  },
  {
   "cell_type": "code",
   "execution_count": 22,
   "metadata": {},
   "outputs": [
    {
     "data": {
      "text/plain": [
       "5.755e-06"
      ]
     },
     "execution_count": 22,
     "metadata": {},
     "output_type": "execute_result"
    }
   ],
   "source": [
    "(9.79 * 10**-6 + 1.72 * 10**-6) / 2 "
   ]
  },
  {
   "cell_type": "code",
   "execution_count": 26,
   "metadata": {},
   "outputs": [
    {
     "data": {
      "text/plain": [
       "38227.62814943527"
      ]
     },
     "execution_count": 26,
     "metadata": {},
     "output_type": "execute_result"
    }
   ],
   "source": [
    "((2.2*10**-3) /  5.755e-06) * 100. "
   ]
  },
  {
   "cell_type": "markdown",
   "metadata": {},
   "source": [
    "## Example Two: Simple Trig. Function  <a class=\"anchor\" id=\"third-bullet\"></a>\n",
    "\n",
    "$$ y(t) = \\sin(t)$$"
   ]
  },
  {
   "cell_type": "code",
   "execution_count": 41,
   "metadata": {},
   "outputs": [
    {
     "name": "stdout",
     "output_type": "stream",
     "text": [
      "138 µs ± 1.84 µs per loop (mean ± std. dev. of 7 runs, 10000 loops each)\n"
     ]
    }
   ],
   "source": [
    "%%timeit \n",
    "\n",
    "time = np.arange(0,10,0.1)\n",
    "y    = np.zeros_like(time)\n",
    "\n",
    "i = 0 \n",
    "for t in time:\n",
    "    y[i] = np.sin(t)\n",
    "    i = i + 1"
   ]
  },
  {
   "cell_type": "code",
   "execution_count": 40,
   "metadata": {},
   "outputs": [
    {
     "name": "stdout",
     "output_type": "stream",
     "text": [
      "139 µs ± 3.65 µs per loop (mean ± std. dev. of 7 runs, 10000 loops each)\n"
     ]
    }
   ],
   "source": [
    "%%timeit \n",
    "\n",
    "time = np.arange(0,10,0.1)\n",
    "y    = np.zeros_like(time)\n",
    "\n",
    "i = 0 \n",
    "for t in time:\n",
    "    y[i] = np.sin(t)\n",
    "    i += 1\n",
    "    "
   ]
  },
  {
   "cell_type": "code",
   "execution_count": 37,
   "metadata": {},
   "outputs": [
    {
     "name": "stdout",
     "output_type": "stream",
     "text": [
      "151 µs ± 11.6 µs per loop (mean ± std. dev. of 7 runs, 10000 loops each)\n"
     ]
    }
   ],
   "source": [
    "%%timeit \n",
    "\n",
    "time = np.arange(0,10,0.1)\n",
    "y    = np.zeros_like(time)\n",
    "\n",
    "for i,t in enumerate(time):\n",
    "    y[i] = np.sin(t)\n"
   ]
  },
  {
   "cell_type": "code",
   "execution_count": 38,
   "metadata": {},
   "outputs": [
    {
     "name": "stdout",
     "output_type": "stream",
     "text": [
      "2.24 µs ± 157 ns per loop (mean ± std. dev. of 7 runs, 100000 loops each)\n"
     ]
    }
   ],
   "source": [
    "%%timeit\n",
    "\n",
    "time = np.arange(0,10,0.1)\n",
    "y    = np.sin(time)"
   ]
  },
  {
   "cell_type": "code",
   "execution_count": null,
   "metadata": {},
   "outputs": [],
   "source": []
  }
 ],
 "metadata": {
  "kernelspec": {
   "display_name": "Python 3",
   "language": "python",
   "name": "python3"
  },
  "language_info": {
   "codemirror_mode": {
    "name": "ipython",
    "version": 3
   },
   "file_extension": ".py",
   "mimetype": "text/x-python",
   "name": "python",
   "nbconvert_exporter": "python",
   "pygments_lexer": "ipython3",
   "version": "3.7.9"
  },
  "latex_envs": {
   "LaTeX_envs_menu_present": true,
   "autoclose": true,
   "autocomplete": true,
   "bibliofile": "ipython.bib",
   "cite_by": "apalike",
   "current_citInitial": 1,
   "eqLabelWithNumbers": true,
   "eqNumInitial": 1,
   "hotkeys": {
    "equation": "Ctrl-E",
    "itemize": "Ctrl-I"
   },
   "labels_anchors": false,
   "latex_user_defs": false,
   "report_style_numbering": false,
   "user_envs_cfg": false
  }
 },
 "nbformat": 4,
 "nbformat_minor": 2
}
