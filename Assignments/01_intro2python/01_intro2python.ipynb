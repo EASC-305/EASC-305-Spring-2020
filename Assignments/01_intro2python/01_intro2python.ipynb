{
 "cells": [
  {
   "cell_type": "markdown",
   "metadata": {},
   "source": [
    "Before you turn this problem in, make sure everything runs as expected. First, **restart the kernel** (in the menubar, select Kernel$\\rightarrow$Restart) and then **run all cells** (in the menubar, select Cell$\\rightarrow$Run All).\n",
    "\n",
    "Make sure you fill in any place that says `YOUR CODE HERE` or \"YOUR ANSWER HERE\", as well as your name and collaborators below:"
   ]
  },
  {
   "cell_type": "code",
   "execution_count": null,
   "metadata": {},
   "outputs": [],
   "source": [
    "NAME = \"\"\n",
    "COLLABORATORS = \"\""
   ]
  },
  {
   "cell_type": "markdown",
   "metadata": {},
   "source": [
    "---"
   ]
  },
  {
   "cell_type": "markdown",
   "metadata": {
    "deletable": false,
    "editable": false,
    "nbgrader": {
     "cell_type": "markdown",
     "checksum": "f09eab183d148e1b09f31c3eb7626906",
     "grade": false,
     "grade_id": "cell-29dce37b5595f948",
     "locked": true,
     "schema_version": 3,
     "solution": false,
     "task": false
    }
   },
   "source": [
    "# Lab 1: Introduction to Python "
   ]
  },
  {
   "cell_type": "markdown",
   "metadata": {
    "deletable": false,
    "editable": false,
    "nbgrader": {
     "cell_type": "markdown",
     "checksum": "79c442535e1de45bdb51d8984f6221d8",
     "grade": false,
     "grade_id": "cell-fb6b4f560cd50b9e",
     "locked": true,
     "schema_version": 3,
     "solution": false,
     "task": false
    }
   },
   "source": [
    "## Exercise 1: Defining Variables (8 pts)  \n",
    "1. Create 4 scalar variables `a,b,c,d` containing the values 1,2,3,4.  "
   ]
  },
  {
   "cell_type": "code",
   "execution_count": null,
   "metadata": {
    "deletable": false,
    "nbgrader": {
     "cell_type": "code",
     "checksum": "8b6e75fb42a470659ef792c0733c82e1",
     "grade": true,
     "grade_id": "cell-f025eb3cb228233c",
     "locked": false,
     "points": 1,
     "schema_version": 3,
     "solution": true,
     "task": false
    }
   },
   "outputs": [],
   "source": [
    "# YOUR CODE HERE\n",
    "raise NotImplementedError()"
   ]
  },
  {
   "cell_type": "markdown",
   "metadata": {
    "deletable": false,
    "editable": false,
    "nbgrader": {
     "cell_type": "markdown",
     "checksum": "63134d86f18d942c2dc940b88081cb96",
     "grade": false,
     "grade_id": "cell-ffc25244f5ddb648",
     "locked": true,
     "schema_version": 3,
     "solution": false,
     "task": false
    }
   },
   "source": [
    "2. Define a 3-component horizontal vector `H` containing `a,b,c`.  "
   ]
  },
  {
   "cell_type": "code",
   "execution_count": null,
   "metadata": {
    "deletable": false,
    "nbgrader": {
     "cell_type": "code",
     "checksum": "c81596d97a1bfbda54c396b9964c05d7",
     "grade": true,
     "grade_id": "cell-2cefcd5c9026e8d7",
     "locked": false,
     "points": 1,
     "schema_version": 3,
     "solution": true,
     "task": false
    }
   },
   "outputs": [],
   "source": [
    "# YOUR CODE HERE\n",
    "raise NotImplementedError()"
   ]
  },
  {
   "cell_type": "markdown",
   "metadata": {
    "deletable": false,
    "editable": false,
    "nbgrader": {
     "cell_type": "markdown",
     "checksum": "9009890b5dbd3e52d1b293c4b394e1d1",
     "grade": false,
     "grade_id": "cell-139150e625588e67",
     "locked": true,
     "schema_version": 3,
     "solution": false,
     "task": false
    }
   },
   "source": [
    "3. Define a 3-component vertical vector `V` containing `b,c,d`. \n",
    "\n",
    "_Note_: \"Vertical vector\" means the array should be of shape (3,1). "
   ]
  },
  {
   "cell_type": "code",
   "execution_count": null,
   "metadata": {
    "deletable": false,
    "nbgrader": {
     "cell_type": "code",
     "checksum": "107aa0967684640e7c64b3acd8f7466b",
     "grade": true,
     "grade_id": "cell-f0b9d3b5a0fa2b32",
     "locked": false,
     "points": 1,
     "schema_version": 3,
     "solution": true,
     "task": false
    }
   },
   "outputs": [],
   "source": [
    "# YOUR CODE HERE\n",
    "raise NotImplementedError()"
   ]
  },
  {
   "cell_type": "markdown",
   "metadata": {
    "deletable": false,
    "editable": false,
    "nbgrader": {
     "cell_type": "markdown",
     "checksum": "b162917ddb8ef80629b89b4ef3a1b909",
     "grade": false,
     "grade_id": "cell-74a115606c30b1b9",
     "locked": true,
     "schema_version": 3,
     "solution": false,
     "task": false
    }
   },
   "source": [
    "4. Define a 2x2 matric `M` containing a,b,c,d as:  \n",
    "$$ M = \\begin{pmatrix} a & b \\\\ c & d \\end{pmatrix} $$  "
   ]
  },
  {
   "cell_type": "code",
   "execution_count": null,
   "metadata": {
    "deletable": false,
    "nbgrader": {
     "cell_type": "code",
     "checksum": "9e6f7ab33de176f29ce29ef39b92e21a",
     "grade": true,
     "grade_id": "Q1-4",
     "locked": false,
     "points": 1,
     "schema_version": 3,
     "solution": true,
     "task": false
    }
   },
   "outputs": [],
   "source": [
    "# YOUR CODE HERE\n",
    "raise NotImplementedError()"
   ]
  },
  {
   "cell_type": "markdown",
   "metadata": {
    "deletable": false,
    "editable": false,
    "nbgrader": {
     "cell_type": "markdown",
     "checksum": "386de2e821923db52bfc4a3a881d2b4b",
     "grade": false,
     "grade_id": "cell-c49f1c86accce8b6",
     "locked": true,
     "schema_version": 3,
     "solution": false,
     "task": false
    }
   },
   "source": [
    "5. Displace the values of:  \n",
    "  a. The third element of `H`  \n",
    "  b. The first element of `V`  \n",
    "  c. The first row of `M`  \n",
    "  d. The second column of `M`"
   ]
  },
  {
   "cell_type": "code",
   "execution_count": null,
   "metadata": {
    "deletable": false,
    "nbgrader": {
     "cell_type": "code",
     "checksum": "d404361b7e7b2405a624ec752888496e",
     "grade": true,
     "grade_id": "cell-1009a72856227599",
     "locked": false,
     "points": 4,
     "schema_version": 3,
     "solution": true,
     "task": false
    }
   },
   "outputs": [],
   "source": [
    "# YOUR CODE HERE\n",
    "raise NotImplementedError()"
   ]
  },
  {
   "cell_type": "markdown",
   "metadata": {
    "deletable": false,
    "editable": false,
    "nbgrader": {
     "cell_type": "markdown",
     "checksum": "c59c0731281b6546921386e8165eb1e3",
     "grade": false,
     "grade_id": "cell-f447128e8c6a8716",
     "locked": true,
     "schema_version": 3,
     "solution": false,
     "task": false
    }
   },
   "source": [
    "# Exercise  2: Functions (7 points) \n",
    "\n",
    "Write a function that calculates the distance between two vectors in the form $R(\\vec x, \\vec y)$. Where $R$ is a function that takes two vectors (i.e. $\\vec x$,$\\vec y$) as input a returns a scalar value of distance. Use your function to calculate the distance between the follow vector pairs:  \n",
    "  1. `x = [3, 5]`, `y = [3, 4]`  \n",
    "  2. `x = [2, 0]`, `y = [0, 2]`  \n",
    "  3. `x = [-100, 30]`, `y = [-10, -50]` \n",
    "  \n",
    "Hint: [mathematical formula to use](http://mathonline.wikidot.com/the-distance-between-two-vectors)."
   ]
  },
  {
   "cell_type": "code",
   "execution_count": null,
   "metadata": {
    "deletable": false,
    "nbgrader": {
     "cell_type": "code",
     "checksum": "a401702d2fef33aeb56280c932fe1be0",
     "grade": true,
     "grade_id": "Q2-function",
     "locked": false,
     "points": 4,
     "schema_version": 3,
     "solution": true,
     "task": false
    }
   },
   "outputs": [],
   "source": [
    "def R(x,y):\n",
    "    '''Returns the distance between two vectors of length 2. \n",
    "\n",
    "            Parameters:\n",
    "                    x (array): A vector of length 2\n",
    "                    y (array): Another vector of length 2\n",
    "\n",
    "            Returns:\n",
    "                    distance (float): The distance between the two input vectors\n",
    "    '''\n",
    "    # YOUR CODE HERE\n",
    "    raise NotImplementedError()"
   ]
  },
  {
   "cell_type": "code",
   "execution_count": null,
   "metadata": {
    "deletable": false,
    "editable": false,
    "nbgrader": {
     "cell_type": "code",
     "checksum": "d83d09b75013d6649b710164e59e0b4f",
     "grade": true,
     "grade_id": "Q2-1",
     "locked": true,
     "points": 1,
     "schema_version": 3,
     "solution": false,
     "task": false
    }
   },
   "outputs": [],
   "source": [
    "# Q2.1 Autograde test (DO NOT EDIT)\n",
    "assert R(np.array([3,5]),np.array([3,4])) == 1.0"
   ]
  },
  {
   "cell_type": "code",
   "execution_count": null,
   "metadata": {
    "deletable": false,
    "editable": false,
    "nbgrader": {
     "cell_type": "code",
     "checksum": "feaec9acb48f579ed6185dea8c3d148c",
     "grade": true,
     "grade_id": "Q2-2",
     "locked": true,
     "points": 1,
     "schema_version": 3,
     "solution": false,
     "task": false
    }
   },
   "outputs": [],
   "source": [
    "# Q2.2 Autograde test (DO NOT EDIT)\n",
    "assert np.round(R(np.array([2,0]),np.array([0,2])),4) == 2.8284"
   ]
  },
  {
   "cell_type": "code",
   "execution_count": null,
   "metadata": {
    "deletable": false,
    "editable": false,
    "nbgrader": {
     "cell_type": "code",
     "checksum": "af7dfe71bfb443d1c4ec5f5a3ffdf681",
     "grade": true,
     "grade_id": "Q2-3",
     "locked": true,
     "points": 1,
     "schema_version": 3,
     "solution": false,
     "task": false
    }
   },
   "outputs": [],
   "source": [
    "# Q2.3 Autograde test (DO NOT EDIT)\n",
    "assert np.round(R(np.array([-100,30]),np.array([-10,-50])),4) == 120.4159"
   ]
  },
  {
   "cell_type": "markdown",
   "metadata": {
    "deletable": false,
    "editable": false,
    "nbgrader": {
     "cell_type": "markdown",
     "checksum": "5e446278883f2565aac918620706a419",
     "grade": false,
     "grade_id": "cell-6114c6f7c402168b",
     "locked": true,
     "schema_version": 3,
     "solution": false,
     "task": false
    }
   },
   "source": [
    "#### Bonus : (3 points)  \n",
    "Can you \"vectorize\" (i.e. use element-wise vector operations to simplify) this function? "
   ]
  },
  {
   "cell_type": "markdown",
   "metadata": {
    "deletable": false,
    "editable": false,
    "nbgrader": {
     "cell_type": "markdown",
     "checksum": "e10e36adbb3df68474f5305c38157dfa",
     "grade": false,
     "grade_id": "cell-e6b45746a4e6f722",
     "locked": true,
     "schema_version": 3,
     "solution": false,
     "task": false
    }
   },
   "source": [
    "## Exercise 3: Loading Data and Plotting (10 pts)  \n",
    "\n",
    "1. Load the `well_data.txt` data using `numpy`'s `loadtxt` function. The data is formatted such that the columns are:  \n",
    "\n",
    "  Depth (ft), Electrical Conductivity (mS/m), Temperature (C)   \n",
    " "
   ]
  },
  {
   "cell_type": "code",
   "execution_count": null,
   "metadata": {
    "deletable": false,
    "nbgrader": {
     "cell_type": "code",
     "checksum": "167e7c22cb58c46f75c54c8802e28c82",
     "grade": true,
     "grade_id": "Q3-1",
     "locked": false,
     "points": 3,
     "schema_version": 3,
     "solution": true,
     "task": false
    }
   },
   "outputs": [],
   "source": [
    "# YOUR CODE HERE\n",
    "raise NotImplementedError()"
   ]
  },
  {
   "cell_type": "markdown",
   "metadata": {
    "deletable": false,
    "editable": false,
    "nbgrader": {
     "cell_type": "markdown",
     "checksum": "70de8cd8eb770ba184b16c8df3c159c4",
     "grade": false,
     "grade_id": "Q3-2-description",
     "locked": true,
     "schema_version": 3,
     "solution": false,
     "task": false
    }
   },
   "source": [
    " 2. Convert depth to meters."
   ]
  },
  {
   "cell_type": "code",
   "execution_count": null,
   "metadata": {
    "deletable": false,
    "nbgrader": {
     "cell_type": "code",
     "checksum": "541a5d7c9bc3fb6cd5045cf43bb84993",
     "grade": true,
     "grade_id": "Q3-2",
     "locked": false,
     "points": 1,
     "schema_version": 3,
     "solution": true,
     "task": false
    }
   },
   "outputs": [],
   "source": [
    "# YOUR CODE HERE\n",
    "raise NotImplementedError()"
   ]
  },
  {
   "cell_type": "markdown",
   "metadata": {
    "deletable": false,
    "editable": false,
    "nbgrader": {
     "cell_type": "markdown",
     "checksum": "463cb4348a70561554a84788f21cca15",
     "grade": false,
     "grade_id": "Q3-3-desc",
     "locked": true,
     "schema_version": 3,
     "solution": false,
     "task": false
    }
   },
   "source": [
    "3. Produce the following plot using this data (you have creative freedom to make your plot extra  \n",
    "beautiful). Make sure your figure has:  \n",
    "  a. Title          (2 points; one for each subplot)  \n",
    "  b. Axis labels    (2 points; one for each subplot)  \n",
    "  d. Readable text  (2 points; one for each subplot)  "
   ]
  },
  {
   "cell_type": "code",
   "execution_count": null,
   "metadata": {
    "deletable": false,
    "nbgrader": {
     "cell_type": "code",
     "checksum": "9b6a17b4795f5dc40a0ae7b0d1a3fab7",
     "grade": true,
     "grade_id": "Q3-3",
     "locked": false,
     "points": 6,
     "schema_version": 3,
     "solution": true,
     "task": false
    }
   },
   "outputs": [],
   "source": [
    "# YOUR CODE HERE\n",
    "raise NotImplementedError()"
   ]
  },
  {
   "cell_type": "markdown",
   "metadata": {
    "deletable": false,
    "editable": false,
    "nbgrader": {
     "cell_type": "markdown",
     "checksum": "4ec7f2720cc93f3cbdc72023c5d5ded0",
     "grade": false,
     "grade_id": "cell-f84c0b395b6f0e76",
     "locked": true,
     "schema_version": 3,
     "solution": false,
     "task": false
    }
   },
   "source": [
    "## Exercise 4: Loading Data and Plotting (10 pts)  \n",
    "\n",
    "Load the data file `ammonoids.mat`, which contains the variables `NumAm` and `MasAm`. The values within `NumAm` represent the number of ammonoid shells found in each grid cell, while `MasAm` gives the average weight of the shells found in each grid cell. `NumAm` and `MasAm` are both $m \\times n$ matrices of the same dimension (representing the grid in which the shells were originally found). In this case, we will define that there are $m$ cells in the $x$ direction with a spacing ($\\Delta x$) of 10m, and $n$ cells in the $y$ direction with a spacing ($\\Delta y$) of 10m (see figure).\n"
   ]
  },
  {
   "cell_type": "code",
   "execution_count": null,
   "metadata": {},
   "outputs": [],
   "source": [
    "import numpy as np \n",
    "import scipy.io as sio\n",
    "\n",
    "data  = sio.loadmat('ammonoids.mat')\n",
    "NumAm = data['NumAm'].astype(np.float32)\n",
    "MasAm = data['MasAm'].astype(np.float32)"
   ]
  },
  {
   "cell_type": "markdown",
   "metadata": {
    "deletable": false,
    "editable": false,
    "nbgrader": {
     "cell_type": "markdown",
     "checksum": "a8512fd6fcd9e62bfebfe63e4326b808",
     "grade": false,
     "grade_id": "cell-0cc54a1ee4e0252b",
     "locked": true,
     "schema_version": 3,
     "solution": false,
     "task": false
    }
   },
   "source": [
    "Provide a brief (one or two sentence) about how I am loading in the data. For example what type of data structure is the variable `data`? What is the point of the `.astype()` call?"
   ]
  },
  {
   "cell_type": "markdown",
   "metadata": {
    "deletable": false,
    "nbgrader": {
     "cell_type": "markdown",
     "checksum": "6a451ff88bc2c07644ae83c77bde8142",
     "grade": true,
     "grade_id": "cell-22599f6ff8d88405",
     "locked": false,
     "points": 1,
     "schema_version": 3,
     "solution": true,
     "task": false
    }
   },
   "source": [
    "YOUR ANSWER HERE"
   ]
  },
  {
   "cell_type": "markdown",
   "metadata": {
    "deletable": false,
    "editable": false,
    "nbgrader": {
     "cell_type": "markdown",
     "checksum": "81d5b18d04bcd8e2e10b02e6a2f218e4",
     "grade": false,
     "grade_id": "Q4-a-descr",
     "locked": true,
     "schema_version": 3,
     "solution": false,
     "task": false
    }
   },
   "source": [
    "a. Write an `if` statement that checks if the sizes of `MasAm` and `NumAm` are equal. If they are, set $m$ to the number of cells in the $x$-direction and $n$ to the number of cells in the $y$-direction. Hint: use `.shape` attribute of NumPy arrays to determine the arrays size. (4 pts)"
   ]
  },
  {
   "cell_type": "code",
   "execution_count": null,
   "metadata": {
    "deletable": false,
    "nbgrader": {
     "cell_type": "code",
     "checksum": "c9314ed345c846cc6da015cbc532a1db",
     "grade": true,
     "grade_id": "Q4-a",
     "locked": false,
     "points": 4,
     "schema_version": 3,
     "solution": true,
     "task": false
    }
   },
   "outputs": [],
   "source": [
    "# YOUR CODE HERE\n",
    "raise NotImplementedError()"
   ]
  },
  {
   "cell_type": "markdown",
   "metadata": {
    "deletable": false,
    "editable": false,
    "nbgrader": {
     "cell_type": "markdown",
     "checksum": "99cde5b41971a62bc3908c8cc5726dee",
     "grade": false,
     "grade_id": "Q4-b-descr",
     "locked": true,
     "schema_version": 3,
     "solution": false,
     "task": false
    }
   },
   "source": [
    "b. Create a new matrix `TMA` whose elements represent the total mass of the ammonoids within each grid cell. (1 pt)  "
   ]
  },
  {
   "cell_type": "code",
   "execution_count": null,
   "metadata": {
    "deletable": false,
    "nbgrader": {
     "cell_type": "code",
     "checksum": "bbdc70540450a9d2a15e6877d61db41d",
     "grade": true,
     "grade_id": "Q4-b",
     "locked": false,
     "points": 1,
     "schema_version": 3,
     "solution": true,
     "task": false
    }
   },
   "outputs": [],
   "source": [
    "# YOUR CODE HERE\n",
    "raise NotImplementedError()"
   ]
  },
  {
   "cell_type": "markdown",
   "metadata": {
    "deletable": false,
    "editable": false,
    "nbgrader": {
     "cell_type": "markdown",
     "checksum": "5279df3b5f13d54cecb0bd5de616040c",
     "grade": false,
     "grade_id": "Q4-c-descr",
     "locked": true,
     "schema_version": 3,
     "solution": false,
     "task": false
    }
   },
   "source": [
    "c. Find the total and average mass of ammonoids per cell in the first row using two different methods: 1) using indexing and the `.mean()` method of NumPy arrays and 2) with a `for` loop. (8 pts)"
   ]
  },
  {
   "cell_type": "code",
   "execution_count": null,
   "metadata": {
    "deletable": false,
    "nbgrader": {
     "cell_type": "code",
     "checksum": "afce447b7ea9354ce461bb72b2e374e3",
     "grade": true,
     "grade_id": "Q4-c",
     "locked": false,
     "points": 8,
     "schema_version": 3,
     "solution": true,
     "task": false
    }
   },
   "outputs": [],
   "source": [
    "# YOUR CODE HERE\n",
    "raise NotImplementedError()"
   ]
  },
  {
   "cell_type": "markdown",
   "metadata": {
    "deletable": false,
    "editable": false,
    "nbgrader": {
     "cell_type": "markdown",
     "checksum": "1eee60b1041009cbe674f327bd54c1d2",
     "grade": false,
     "grade_id": "Q4-d-descr",
     "locked": true,
     "schema_version": 3,
     "solution": false,
     "task": false
    }
   },
   "source": [
    "d. Make a new variable called `TMA300` that is the same size as `TMA` using the `np.zeros(m,n)` function. If the total mass of the ammonoids in a cell is greater than 300, place the total mass (value in `TMA`) in your new variable at the same cell location. \n",
    "\n",
    "_Hint_: Use Boolean Indexing here!"
   ]
  },
  {
   "cell_type": "code",
   "execution_count": null,
   "metadata": {
    "deletable": false,
    "nbgrader": {
     "cell_type": "code",
     "checksum": "4a22ec064a4f5f45699acece85b4bf44",
     "grade": true,
     "grade_id": "Q4-d",
     "locked": false,
     "points": 4,
     "schema_version": 3,
     "solution": true,
     "task": false
    }
   },
   "outputs": [],
   "source": [
    "# YOUR CODE HERE\n",
    "raise NotImplementedError()"
   ]
  },
  {
   "cell_type": "markdown",
   "metadata": {
    "deletable": false,
    "editable": false,
    "nbgrader": {
     "cell_type": "markdown",
     "checksum": "8ee9f8415cec2041b6388914b9170bd1",
     "grade": false,
     "grade_id": "Q4-e-descr",
     "locked": true,
     "schema_version": 3,
     "solution": false,
     "task": false
    }
   },
   "source": [
    "e. Repeat step (d) making a new variable `TMA100` that only includes mass values less than 100, and new variable `TMA200` that only include mass values greater than 100 and less than 300. (5 pts)\n",
    "\n",
    "_Hint_: You can combine boolean indexing condition by enclosing the conditions in parentheses `(`_condition 1_`)`  and join them via an or(`|`) statement or and (`&`). i.e. `(`_condition 1_`)`  `|` `(`_condition 2_`)`"
   ]
  },
  {
   "cell_type": "code",
   "execution_count": null,
   "metadata": {
    "deletable": false,
    "nbgrader": {
     "cell_type": "code",
     "checksum": "3881a33f72d99a3d4da1566561f2fdcc",
     "grade": true,
     "grade_id": "Q4-e",
     "locked": false,
     "points": 5,
     "schema_version": 3,
     "solution": true,
     "task": false
    }
   },
   "outputs": [],
   "source": [
    "# YOUR CODE HERE\n",
    "raise NotImplementedError()"
   ]
  },
  {
   "cell_type": "markdown",
   "metadata": {
    "deletable": false,
    "editable": false,
    "nbgrader": {
     "cell_type": "markdown",
     "checksum": "e428289e637b44985a1dd106e67dad0a",
     "grade": false,
     "grade_id": "Q4-f-desc",
     "locked": true,
     "schema_version": 3,
     "solution": false,
     "task": false
    }
   },
   "source": [
    "f. Calculate the mean mass of the ammonoids greater than 100 and less than 300. Hint: use the function `np.nanmean`. (3 pts)"
   ]
  },
  {
   "cell_type": "code",
   "execution_count": null,
   "metadata": {
    "deletable": false,
    "nbgrader": {
     "cell_type": "code",
     "checksum": "d33ac06343b660e93eca3a30c5804580",
     "grade": true,
     "grade_id": "Q4-f",
     "locked": false,
     "points": 3,
     "schema_version": 3,
     "solution": true,
     "task": false
    }
   },
   "outputs": [],
   "source": [
    "# YOUR CODE HERE\n",
    "raise NotImplementedError()"
   ]
  },
  {
   "cell_type": "markdown",
   "metadata": {
    "deletable": false,
    "editable": false,
    "nbgrader": {
     "cell_type": "markdown",
     "checksum": "969fe2180a6fd7d2782760ad9eeeeacf",
     "grade": false,
     "grade_id": "Q4-g-descr",
     "locked": true,
     "schema_version": 3,
     "solution": false,
     "task": false
    }
   },
   "source": [
    "g. Make a spatial plot of `TMA100`, `TMA200`, and `TMA300`. Hint: Make the spatial plot using `plt.imshow()`. Put all three plots on figure using the array of subplot axes `ax`, which can be indexed. Furthermore, use the `ax[i].set_title()` method to add a title to each subplot. "
   ]
  },
  {
   "cell_type": "code",
   "execution_count": null,
   "metadata": {
    "deletable": false,
    "nbgrader": {
     "cell_type": "code",
     "checksum": "01f0ece26375b4bf77e59088d896b6ee",
     "grade": true,
     "grade_id": "Q4-g",
     "locked": false,
     "points": 9,
     "schema_version": 3,
     "solution": true,
     "task": false
    }
   },
   "outputs": [],
   "source": [
    "fig, ax = plt.subplots(1,3,sharex=True,sharey=True,figsize=(9,3))\n",
    "\n",
    "# YOUR CODE HERE\n",
    "raise NotImplementedError()\n",
    "\n",
    "# Don't worry about this. Formatting a colorbar with subplots can be tricky.\n",
    "# So I've done it for you, but can you explain what's going on?\n",
    "plt.tight_layout()\n",
    "plt.subplots_adjust(wspace=0.075,hspace=0.1,right=0.9)\n",
    "\n",
    "cmap  = plt.get_cmap('viridis')            \n",
    "cNorm = plt.matplotlib.colors.Normalize(vmin=0, vmax=400.0)\n",
    "axcb  = fig.add_axes([0.925, 0.05, 0.03, 0.9])\n",
    "cb1   = plt.matplotlib.colorbar.ColorbarBase(axcb, cmap=cmap, norm=cNorm)"
   ]
  }
 ],
 "metadata": {
  "kernelspec": {
   "display_name": "Python 3",
   "language": "python",
   "name": "python3"
  },
  "language_info": {
   "codemirror_mode": {
    "name": "ipython",
    "version": 3
   },
   "file_extension": ".py",
   "mimetype": "text/x-python",
   "name": "python",
   "nbconvert_exporter": "python",
   "pygments_lexer": "ipython3",
   "version": "3.7.9"
  },
  "latex_envs": {
   "LaTeX_envs_menu_present": true,
   "autoclose": true,
   "autocomplete": true,
   "bibliofile": "ipython.bib",
   "cite_by": "apalike",
   "current_citInitial": 1,
   "eqLabelWithNumbers": true,
   "eqNumInitial": 1,
   "hotkeys": {
    "equation": "Ctrl-E",
    "itemize": "Ctrl-I"
   },
   "labels_anchors": false,
   "latex_user_defs": false,
   "report_style_numbering": false,
   "user_envs_cfg": false
  }
 },
 "nbformat": 4,
 "nbformat_minor": 2
}
