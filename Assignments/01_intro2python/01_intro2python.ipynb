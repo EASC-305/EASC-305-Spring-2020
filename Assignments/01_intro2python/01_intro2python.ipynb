{
 "cells": [
  {
   "cell_type": "markdown",
   "metadata": {
    "nbgrader": {
     "grade": false,
     "grade_id": "cell-29dce37b5595f948",
     "locked": true,
     "schema_version": 3,
     "solution": false,
     "task": false
    }
   },
   "source": [
    "# Lab 1: Introduction to Python "
   ]
  },
  {
   "cell_type": "markdown",
   "metadata": {
    "nbgrader": {
     "grade": false,
     "grade_id": "cell-fb6b4f560cd50b9e",
     "locked": true,
     "schema_version": 3,
     "solution": false,
     "task": false
    }
   },
   "source": [
    "## Exercise 1: Defining Variables (8 pts)  \n",
    "1.) Create 4 scalar variables `a,b,c,d` containing the values 1,2,3,4 respectively.  "
   ]
  },
  {
   "cell_type": "code",
   "execution_count": 1,
   "metadata": {
    "nbgrader": {
     "grade": true,
     "grade_id": "cell-f025eb3cb228233c",
     "locked": false,
     "points": 1,
     "schema_version": 3,
     "solution": true,
     "task": false
    }
   },
   "outputs": [],
   "source": [
    "a = 1\n",
    "b = 2 \n",
    "c = 3 \n",
    "d = 4"
   ]
  },
  {
   "cell_type": "markdown",
   "metadata": {
    "nbgrader": {
     "grade": false,
     "grade_id": "cell-ffc25244f5ddb648",
     "locked": true,
     "schema_version": 3,
     "solution": false,
     "task": false
    }
   },
   "source": [
    "2.) Define a 3-component vector `H` containing `a,b,c`.  "
   ]
  },
  {
   "cell_type": "code",
   "execution_count": 2,
   "metadata": {
    "nbgrader": {
     "grade": true,
     "grade_id": "cell-2cefcd5c9026e8d7",
     "locked": false,
     "points": 1,
     "schema_version": 3,
     "solution": true,
     "task": false
    }
   },
   "outputs": [],
   "source": [
    "import numpy as np \n",
    "\n",
    "H = np.array([a,b,c])"
   ]
  },
  {
   "cell_type": "markdown",
   "metadata": {
    "nbgrader": {
     "grade": false,
     "grade_id": "cell-139150e625588e67",
     "locked": true,
     "schema_version": 3,
     "solution": false,
     "task": false
    }
   },
   "source": [
    "3.) Define a 3-component vertical vector `V` containing `b,c,d`. \n",
    "\n",
    "_Note_: \"Vertical vector\" means the array should be of shape (3,1). "
   ]
  },
  {
   "cell_type": "code",
   "execution_count": 3,
   "metadata": {
    "nbgrader": {
     "grade": true,
     "grade_id": "cell-f0b9d3b5a0fa2b32",
     "locked": false,
     "points": 1,
     "schema_version": 3,
     "solution": true,
     "task": false
    }
   },
   "outputs": [],
   "source": [
    "V = np.array([b,c,d]).reshape(-1,1)"
   ]
  },
  {
   "cell_type": "markdown",
   "metadata": {
    "nbgrader": {
     "grade": false,
     "grade_id": "cell-74a115606c30b1b9",
     "locked": true,
     "schema_version": 3,
     "solution": false,
     "task": false
    }
   },
   "source": [
    "4.) Define a 2x2 matric `M` containing a,b,c,d as:  \n",
    "$$ M = \\begin{pmatrix} a & b \\\\ c & d \\end{pmatrix} $$  \n"
   ]
  },
  {
   "cell_type": "code",
   "execution_count": 4,
   "metadata": {
    "nbgrader": {
     "grade": true,
     "grade_id": "Q1-4",
     "locked": false,
     "points": 1,
     "schema_version": 3,
     "solution": true,
     "task": false
    }
   },
   "outputs": [],
   "source": [
    "M = np.array([[a,b],[c,d]])"
   ]
  },
  {
   "cell_type": "markdown",
   "metadata": {
    "nbgrader": {
     "grade": false,
     "grade_id": "cell-c49f1c86accce8b6",
     "locked": true,
     "schema_version": 3,
     "solution": false,
     "task": false
    }
   },
   "source": [
    "5.) Displace the values of:  \n",
    "  a. The third element of `H`  \n",
    "  b. The first element of `V`  \n",
    "  c. The first row of `M`  \n",
    "  d. The second column of `M`  \n",
    "  \n",
    " _Reminder_: `python` is zero index. We start counting from 0."
   ]
  },
  {
   "cell_type": "code",
   "execution_count": 5,
   "metadata": {
    "nbgrader": {
     "grade": true,
     "grade_id": "cell-1009a72856227599",
     "locked": false,
     "points": 4,
     "schema_version": 3,
     "solution": true,
     "task": false
    }
   },
   "outputs": [
    {
     "name": "stdout",
     "output_type": "stream",
     "text": [
      "a. The third element of H: 3\n",
      "b. The first element of V: [2]\n",
      "c. The third element of H: [1 2]\n",
      "d. The third element of H: [2 4]\n"
     ]
    }
   ],
   "source": [
    "print('a. The third element of H:', H[2])\n",
    "print('b. The first element of V:', V[0])\n",
    "print('c. The third element of H:', M[0,:])\n",
    "print('d. The third element of H:', M[:,1])"
   ]
  },
  {
   "cell_type": "markdown",
   "metadata": {
    "nbgrader": {
     "grade": false,
     "grade_id": "cell-f447128e8c6a8716",
     "locked": true,
     "schema_version": 3,
     "solution": false,
     "task": false
    }
   },
   "source": [
    "# Exercise  2: Functions (7 points) \n",
    "\n",
    "Write a function that calculates the distance between two vectors in the form $R(\\vec x, \\vec y)$. Where $R$ is a function that takes two vectors (i.e. $\\vec x$,$\\vec y$) as input a returns a scalar value of distance. Use your function to calculate the distance between the follow vector pairs:  \n",
    "  1. `x = [3, 5]`, `y = [3, 4]`  \n",
    "  2. `x = [2, 0]`, `y = [0, 2]`  \n",
    "  3. `x = [-100, 30]`, `y = [-10, -50]` \n",
    "  \n",
    "Hint: [mathematical formula to use](http://mathonline.wikidot.com/the-distance-between-two-vectors)."
   ]
  },
  {
   "cell_type": "code",
   "execution_count": 6,
   "metadata": {
    "nbgrader": {
     "grade": true,
     "grade_id": "Q2-function",
     "locked": false,
     "points": 4,
     "schema_version": 3,
     "solution": true,
     "task": false
    }
   },
   "outputs": [],
   "source": [
    "def R(x,y):\n",
    "    '''Returns the distance between two vectors of length 2. \n",
    "\n",
    "            Parameters:\n",
    "                    x (array): A vector of length 2\n",
    "                    y (array): Another vector of length 2\n",
    "\n",
    "            Returns:\n",
    "                    distance (float): The distance between the two input vectors\n",
    "    '''\n",
    "    ### BEGIN SOLUTION\n",
    "    return np.sqrt(sum((x - y)**2))\n",
    "    ### END SOLUTION"
   ]
  },
  {
   "cell_type": "code",
   "execution_count": 7,
   "metadata": {
    "nbgrader": {
     "grade": true,
     "grade_id": "Q2-1",
     "locked": true,
     "points": 1,
     "schema_version": 3,
     "solution": false,
     "task": false
    }
   },
   "outputs": [],
   "source": [
    "# Q2.1 Autograde test (DO NOT EDIT)\n",
    "assert R(np.array([3,5]),np.array([3,4])) == 1.0"
   ]
  },
  {
   "cell_type": "code",
   "execution_count": 8,
   "metadata": {
    "nbgrader": {
     "grade": true,
     "grade_id": "Q2-2",
     "locked": true,
     "points": 1,
     "schema_version": 3,
     "solution": false,
     "task": false
    }
   },
   "outputs": [],
   "source": [
    "# Q2.2 Autograde test (DO NOT EDIT)\n",
    "assert np.round(R(np.array([2,0]),np.array([0,2])),4) == 2.8284"
   ]
  },
  {
   "cell_type": "code",
   "execution_count": 9,
   "metadata": {
    "nbgrader": {
     "grade": true,
     "grade_id": "Q2-3",
     "locked": true,
     "points": 1,
     "schema_version": 3,
     "solution": false,
     "task": false
    }
   },
   "outputs": [],
   "source": [
    "# Q2.3 Autograde test (DO NOT EDIT)\n",
    "assert np.round(R(np.array([-100,30]),np.array([-10,-50])),4) == 120.4159"
   ]
  },
  {
   "cell_type": "markdown",
   "metadata": {
    "nbgrader": {
     "grade": false,
     "grade_id": "cell-6114c6f7c402168b",
     "locked": true,
     "schema_version": 3,
     "solution": false,
     "task": false
    }
   },
   "source": [
    "#### Bonus : (3 points)  \n",
    "Can you \"vectorize\" (i.e. use element-wise vector operations to simplify) this function? "
   ]
  },
  {
   "cell_type": "markdown",
   "metadata": {
    "nbgrader": {
     "grade": false,
     "grade_id": "cell-e6b45746a4e6f722",
     "locked": true,
     "schema_version": 3,
     "solution": false,
     "task": false
    }
   },
   "source": [
    "## Exercise 3: Loading Data and Plotting (10 pts)  \n",
    "\n",
    "a. Load the `well_data.txt` data using `numpy`'s `loadtxt` function. The data is formatted such that the columns are:  \n",
    "\n",
    "  Depth (ft), Electrical Conductivity (mS/m), Temperature (C)   \n",
    " "
   ]
  },
  {
   "cell_type": "code",
   "execution_count": 10,
   "metadata": {
    "nbgrader": {
     "grade": true,
     "grade_id": "Q3-1",
     "locked": false,
     "points": 3,
     "schema_version": 3,
     "solution": true,
     "task": false
    }
   },
   "outputs": [],
   "source": [
    "#1 load data\n",
    "\n",
    "data_mat = np.loadtxt('well_data.txt')\n",
    "\n",
    "depth_ft = data_mat[:,0]\n",
    "conduct  = data_mat[:,1]\n",
    "temp_C   = data_mat[:,1]"
   ]
  },
  {
   "cell_type": "markdown",
   "metadata": {
    "nbgrader": {
     "grade": false,
     "grade_id": "Q3-2-description",
     "locked": true,
     "schema_version": 3,
     "solution": false,
     "task": false
    }
   },
   "source": [
    " b. Convert depth to meters."
   ]
  },
  {
   "cell_type": "code",
   "execution_count": 11,
   "metadata": {
    "nbgrader": {
     "grade": true,
     "grade_id": "Q3-2",
     "locked": false,
     "points": 1,
     "schema_version": 3,
     "solution": true,
     "task": false
    }
   },
   "outputs": [],
   "source": [
    "# 2. Convert depth to meters\n",
    "depth_m  = depth_ft * 0.3048"
   ]
  },
  {
   "cell_type": "markdown",
   "metadata": {
    "nbgrader": {
     "grade": false,
     "grade_id": "Q3-3-desc",
     "locked": true,
     "schema_version": 3,
     "solution": false,
     "task": false
    }
   },
   "source": [
    "c. Plot this data on two separate subplots, where the y-axis is Depth (m) and the x-axes are conductivity and temperature. Make sure your figure has:  \n",
    "  1. Title          (2 points; one for each subplot)  \n",
    "  2. Axis labels w/ units     (2 points; one for each subplot)  \n",
    "  3. Readable text  (2 points; one for each subplot)  \n",
    "  \n",
    "To create a nice two panel subplots use:  \n",
    "\n",
    "```python\n",
    "# import the plotting package \n",
    "import matplotlib.pyplot as plt\n",
    "\n",
    "# create a fig object, and an axes array that share an Y-axis\n",
    "fig, ax = plt.subplots(nrows=1,ncols=2,sharey=True)\n",
    "\n",
    "# PLOT THE DATA HERE\n",
    "\n",
    "# Invert y-axis to make the plot with depth from surface \n",
    "ax[1].invert_yaxis()\n",
    "```\n",
    "\n",
    "where: \n",
    "- ```ax``` will be a `np` array where `ax[0]` is the left subplot and `ax[1]` is the right subplot. \n",
    "- `ax[1].invert_yaxis()` will flip the y-axis to make the plots with depth from the surface. Note you can only call this once (i.e. on the last axes) or else inverting twice negates itself. "
   ]
  },
  {
   "cell_type": "code",
   "execution_count": 12,
   "metadata": {
    "nbgrader": {
     "grade": true,
     "grade_id": "Q3-3",
     "locked": false,
     "points": 6,
     "schema_version": 3,
     "solution": true,
     "task": false
    }
   },
   "outputs": [
    {
     "data": {
      "image/png": "[encoded data removed]",
      "text/plain": [
       "<Figure size 432x288 with 2 Axes>"
      ]
     },
     "metadata": {
      "needs_background": "light"
     },
     "output_type": "display_data"
    }
   ],
   "source": [
    "import matplotlib.pyplot as plt\n",
    "\n",
    "fig, ax = plt.subplots(nrows=1,ncols=2,sharey=True)\n",
    "\n",
    "ax[0].plot(conduct,depth_m)\n",
    "ax[0].set_title('Electrical Conductivity')\n",
    "ax[0].set_xlabel('(mS/m)')\n",
    "\n",
    "ax[0].set_ylabel('Depth (m)')\n",
    "\n",
    "\n",
    "ax[1].plot(temp_C,depth_m)\n",
    "ax[1].set_title('Temperature')\n",
    "ax[1].set_xlabel('(C)')\n",
    "\n",
    "ax[1].invert_yaxis()"
   ]
  },
  {
   "cell_type": "markdown",
   "metadata": {
    "nbgrader": {
     "grade": false,
     "grade_id": "cell-f84c0b395b6f0e76",
     "locked": true,
     "schema_version": 3,
     "solution": false,
     "task": false
    }
   },
   "source": [
    "## Exercise 4: Loading Data and Plotting (35 pts)  \n",
    "\n",
    "Load the data file `ammonoids.mat`, which contains the variables `NumAm` and `MasAm`. The values within `NumAm` represent the number of ammonoid shells found in each grid cell, while `MasAm` gives the average weight of the shells found in each grid cell. `NumAm` and `MasAm` are both $m \\times n$ matrices of the same dimension (representing the grid in which the shells were originally found). In this case, we will define that there are $m$ cells in the $x$ direction with a spacing ($\\Delta x$) of 10m, and $n$ cells in the $y$ direction with a spacing ($\\Delta y$) of 10m (see figure).\n"
   ]
  },
  {
   "cell_type": "code",
   "execution_count": 13,
   "metadata": {},
   "outputs": [],
   "source": [
    "import numpy as np \n",
    "import scipy.io as sio\n",
    "\n",
    "data  = sio.loadmat('ammonoids.mat')\n",
    "NumAm = data['NumAm'].astype(np.float32)\n",
    "MasAm = data['MasAm'].astype(np.float32)"
   ]
  },
  {
   "cell_type": "markdown",
   "metadata": {
    "nbgrader": {
     "grade": false,
     "grade_id": "cell-0cc54a1ee4e0252b",
     "locked": true,
     "schema_version": 3,
     "solution": false,
     "task": false
    }
   },
   "source": [
    "Provide a brief (one or two sentence) about how I am loading in the data. For example what type of data structure is the variable `data`? What is the point of the `.astype()` call?"
   ]
  },
  {
   "cell_type": "markdown",
   "metadata": {
    "nbgrader": {
     "grade": true,
     "grade_id": "cell-22599f6ff8d88405",
     "locked": false,
     "points": 1,
     "schema_version": 3,
     "solution": true,
     "task": false
    }
   },
   "source": []
  },
  {
   "cell_type": "markdown",
   "metadata": {
    "nbgrader": {
     "grade": false,
     "grade_id": "Q4-a-descr",
     "locked": true,
     "schema_version": 3,
     "solution": false,
     "task": false
    }
   },
   "source": [
    "a. Write an `if` statement that checks if the sizes of `MasAm` and `NumAm` are equal. If they are, set $m$ to the number of cells in the $x$-direction and $n$ to the number of cells in the $y$-direction. Hint: use `.shape` attribute of NumPy arrays to determine the arrays size. (4 pts)"
   ]
  },
  {
   "cell_type": "code",
   "execution_count": 14,
   "metadata": {
    "nbgrader": {
     "grade": true,
     "grade_id": "Q4-a",
     "locked": false,
     "points": 4,
     "schema_version": 3,
     "solution": true,
     "task": false
    }
   },
   "outputs": [],
   "source": [
    "assert NumAm.shape == MasAm.shape\n",
    "\n",
    "m,n = NumAm.shape"
   ]
  },
  {
   "cell_type": "markdown",
   "metadata": {
    "nbgrader": {
     "grade": false,
     "grade_id": "Q4-b-descr",
     "locked": true,
     "schema_version": 3,
     "solution": false,
     "task": false
    }
   },
   "source": [
    "b. Create a new matrix `TMA` whose elements represent the total mass of the ammonoids within each grid cell. (1 pt)  "
   ]
  },
  {
   "cell_type": "code",
   "execution_count": 15,
   "metadata": {
    "nbgrader": {
     "grade": true,
     "grade_id": "Q4-b",
     "locked": false,
     "points": 1,
     "schema_version": 3,
     "solution": true,
     "task": false
    }
   },
   "outputs": [],
   "source": [
    "TMA = NumAm * MasAm"
   ]
  },
  {
   "cell_type": "markdown",
   "metadata": {
    "nbgrader": {
     "grade": false,
     "grade_id": "Q4-c-descr",
     "locked": true,
     "schema_version": 3,
     "solution": false,
     "task": false
    }
   },
   "source": [
    "c. Find the total and average mass of ammonoids per cell in the first row using two different methods: 1) using indexing and the `.mean()` method of NumPy arrays and 2) with a `for` loop. (8 pts)"
   ]
  },
  {
   "cell_type": "code",
   "execution_count": 16,
   "metadata": {
    "nbgrader": {
     "grade": true,
     "grade_id": "Q4-c-1",
     "locked": false,
     "points": 4,
     "schema_version": 3,
     "solution": true,
     "task": false
    }
   },
   "outputs": [
    {
     "data": {
      "text/plain": [
       "170.16667"
      ]
     },
     "execution_count": 16,
     "metadata": {},
     "output_type": "execute_result"
    }
   ],
   "source": [
    "# Method One: Indexing \n",
    "\n",
    "### BEGIN SOLUTION\n",
    "np.mean(TMA[0,:])\n",
    "### END SOLUTION"
   ]
  },
  {
   "cell_type": "code",
   "execution_count": 17,
   "metadata": {
    "nbgrader": {
     "grade": true,
     "grade_id": "Q4-c-2",
     "locked": false,
     "points": 4,
     "schema_version": 3,
     "solution": true,
     "task": false
    }
   },
   "outputs": [
    {
     "name": "stdout",
     "output_type": "stream",
     "text": [
      "170.16666666666666\n"
     ]
    }
   ],
   "source": [
    "# Method Two: for loop \n",
    "\n",
    "### BEGIN SOLUTION\n",
    "vals = []\n",
    "for j in range(TMA.shape[1]):\n",
    "    vals.append(TMA[0,j])\n",
    "\n",
    "print(sum(vals)/len(vals))\n",
    "### END SOLUTION"
   ]
  },
  {
   "cell_type": "markdown",
   "metadata": {
    "nbgrader": {
     "grade": false,
     "grade_id": "Q4-d-descr",
     "locked": true,
     "schema_version": 3,
     "solution": false,
     "task": false
    }
   },
   "source": [
    "d. Make a new variable called `TMA300` that is the same size as `TMA` using the `np.zeros(m,n)` function. If the total mass of the ammonoids in a cell is greater than 300, place the total mass (value in `TMA`) in your new variable at the same cell location. \n",
    "\n",
    "__Suggestion__:   \n",
    "  - _Those programing for the first time_: We will need two nested for loops to iterate over the rows then columns. \n",
    "  - _Those with programing experience_: Use Boolean Indexing here! See [here](http://www.math.buffalo.edu/~badzioch/MTH337/PT/PT-boolean_numpy_arrays/PT-boolean_numpy_arrays.html) for a quick introduction. "
   ]
  },
  {
   "cell_type": "code",
   "execution_count": 18,
   "metadata": {
    "nbgrader": {
     "grade": true,
     "grade_id": "Q4-d",
     "locked": false,
     "points": 4,
     "schema_version": 3,
     "solution": true,
     "task": false
    }
   },
   "outputs": [],
   "source": [
    "TMA300 = TMA.copy()\n",
    "TMA300[TMA300 < 300.] = np.nan"
   ]
  },
  {
   "cell_type": "markdown",
   "metadata": {
    "nbgrader": {
     "grade": false,
     "grade_id": "Q4-e-descr",
     "locked": true,
     "schema_version": 3,
     "solution": false,
     "task": false
    }
   },
   "source": [
    "e. Repeat step (d) making a new variable `TMA100` that only includes mass values less than 100, and new variable `TMA200` that only include mass values greater than 100 and less than 300. (5 pts)\n",
    "\n",
    "_Hint_: For those attempting boolean indexing, see [here](http://www.math.buffalo.edu/~badzioch/MTH337/PT/PT-boolean_numpy_arrays/PT-boolean_numpy_arrays.html#logical-operations-on-boolean-arrays) for combining logical operations.  Make sure to enclose your conditions in parentheses. Use `|` for `or` and `&` for `and`.  "
   ]
  },
  {
   "cell_type": "code",
   "execution_count": 19,
   "metadata": {
    "nbgrader": {
     "grade": true,
     "grade_id": "Q4-e",
     "locked": false,
     "points": 5,
     "schema_version": 3,
     "solution": true,
     "task": false
    }
   },
   "outputs": [],
   "source": [
    "TMA100 = TMA.copy()\n",
    "TMA100[TMA100 > 100.] = np.nan\n",
    "\n",
    "TMA200 = TMA.copy()\n",
    "TMA200[(100. > TMA200) | (TMA200 > 300.)] = np.nan"
   ]
  },
  {
   "cell_type": "markdown",
   "metadata": {
    "nbgrader": {
     "grade": false,
     "grade_id": "Q4-f-desc",
     "locked": true,
     "schema_version": 3,
     "solution": false,
     "task": false
    }
   },
   "source": [
    "f. Calculate the mean mass of the ammonoids greater than 100 and less than 300. Hint: use the function `np.nanmean`. (3 pts)"
   ]
  },
  {
   "cell_type": "code",
   "execution_count": 20,
   "metadata": {
    "nbgrader": {
     "grade": true,
     "grade_id": "Q4-f",
     "locked": false,
     "points": 3,
     "schema_version": 3,
     "solution": true,
     "task": false
    }
   },
   "outputs": [
    {
     "data": {
      "text/plain": [
       "186.85"
      ]
     },
     "execution_count": 20,
     "metadata": {},
     "output_type": "execute_result"
    }
   ],
   "source": [
    "np.nanmean(TMA200)"
   ]
  },
  {
   "cell_type": "markdown",
   "metadata": {
    "nbgrader": {
     "grade": false,
     "grade_id": "Q4-g-descr",
     "locked": true,
     "schema_version": 3,
     "solution": false,
     "task": false
    }
   },
   "source": [
    "g. Make a spatial plot of `TMA100`, `TMA200`, and `TMA300` using `ax[i].imshow()`. Put all three plots on the same figure using the array of subplot axes `ax`. Furthermore, use the `ax[i].set_title()` method to add a title to each subplot. \n",
    "\n",
    "_Note_: To add a colorbar to your figure use: \n",
    "\n",
    "```python\n",
    "cbar = fig.colorbar(im, ax=ax)\n",
    "cbar.set_label('Ammonoids Mass')\n",
    "```\n",
    "after your calls to `.imshow()`, where:\n",
    "- `fig` is the figure object returned from `plt.subplots`.   \n",
    "- `im` is the output of `.imshow()`. It's okay to assign it multiple times (or just once).  \n",
    "- `ax` is the array of subplot axes.  \n",
    "- `cbar` is colorbar object which has similar methods/attributes as a subplot object.  "
   ]
  },
  {
   "cell_type": "code",
   "execution_count": 21,
   "metadata": {
    "nbgrader": {
     "grade": true,
     "grade_id": "Q4-g",
     "locked": false,
     "points": 9,
     "schema_version": 3,
     "solution": true,
     "task": false
    }
   },
   "outputs": [
    {
     "data": {
      "image/png": "[encoded data removed]",
      "text/plain": [
       "<Figure size 792x216 with 4 Axes>"
      ]
     },
     "metadata": {
      "needs_background": "light"
     },
     "output_type": "display_data"
    }
   ],
   "source": [
    "fig, ax = plt.subplots(nrows=1,ncols=3,sharex=True,sharey=True,figsize=(11,3), constrained_layout=True)\n",
    "\n",
    "### BEGIN SOLUTION\n",
    "im = ax[0].imshow(TMA100,clim=(0,400))\n",
    "im = ax[1].imshow(TMA200,clim=(0,400))\n",
    "im = ax[2].imshow(TMA300,clim=(0,400))\n",
    "\n",
    "\n",
    "ax[0].set_title(\"n<100\")\n",
    "ax[1].set_title(\"100<n<200\")\n",
    "ax[2].set_title(\"300<n\")\n",
    "\n",
    "cbar = fig.colorbar(im, ax=ax)\n",
    "cbar.set_label('Ammonoids Mass')\n",
    "### END SOLUTION\n"
   ]
  },
  {
   "cell_type": "code",
   "execution_count": null,
   "metadata": {},
   "outputs": [],
   "source": []
  }
 ],
 "metadata": {
  "celltoolbar": "Create Assignment",
  "kernelspec": {
   "display_name": "Python 3",
   "language": "python",
   "name": "python3"
  },
  "language_info": {
   "codemirror_mode": {
    "name": "ipython",
    "version": 3
   },
   "file_extension": ".py",
   "mimetype": "text/x-python",
   "name": "python",
   "nbconvert_exporter": "python",
   "pygments_lexer": "ipython3",
   "version": "3.7.9"
  },
  "latex_envs": {
   "LaTeX_envs_menu_present": true,
   "autoclose": true,
   "autocomplete": true,
   "bibliofile": "ipython.bib",
   "cite_by": "apalike",
   "current_citInitial": 1,
   "eqLabelWithNumbers": true,
   "eqNumInitial": 1,
   "hotkeys": {
    "equation": "Ctrl-E",
    "itemize": "Ctrl-I"
   },
   "labels_anchors": false,
   "latex_user_defs": false,
   "report_style_numbering": false,
   "user_envs_cfg": false
  }
 },
 "nbformat": 4,
 "nbformat_minor": 2
}
