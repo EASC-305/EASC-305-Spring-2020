{
 "cells": [
  {
   "cell_type": "markdown",
   "metadata": {},
   "source": [
    "Before you turn this problem in, make sure everything runs as expected. First, **restart the kernel** (in the menubar, select Kernel$\\rightarrow$Restart) and then **run all cells** (in the menubar, select Cell$\\rightarrow$Run All).\n",
    "\n",
    "Make sure you fill in any place that says `YOUR CODE HERE` or \"YOUR ANSWER HERE\", as well as your name and collaborators below:"
   ]
  },
  {
   "cell_type": "code",
   "execution_count": null,
   "metadata": {},
   "outputs": [],
   "source": [
    "NAME = \"\"\n",
    "COLLABORATORS = \"\""
   ]
  },
  {
   "cell_type": "markdown",
   "metadata": {},
   "source": [
    "---"
   ]
  },
  {
   "cell_type": "markdown",
   "metadata": {
    "deletable": false,
    "editable": false,
    "nbgrader": {
     "cell_type": "markdown",
     "checksum": "55bdb761391990b147220bc2cbaf3f00",
     "grade": false,
     "grade_id": "cell-032e8c11d2b8bfe2",
     "locked": true,
     "schema_version": 3,
     "solution": false,
     "task": false
    }
   },
   "source": [
    "# Lab 10: Geostatistics  and Kriging \n",
    "\n",
    "In this lab, you will use geostatistics to explore a real data set produced by the SFU Glaciology Group. You are given a module of functions to use. This lab emphasizes your ability to interpret and modify the code provided.\n",
    "\n",
    "---\n",
    "\n",
    "## Exercise 1: Semivariogram  \n",
    "\n",
    "Load the data file `SouthGlacier.h5` into memory. This file contains the following:\n",
    "```\n",
    "[distance along an east-west grid, distance along the north-south grid, bedrock elevation anomaly]\n",
    "```\n",
    "The bedrock elevation at South Glacier was calculated by subtracting the ice thickness measured using ice-penetrating radar from the ice-surface elevation. The bedrock surface elevation has been detrended to produce the bedrock elevation anomaly data you will be using. \n",
    "\n",
    "__a__. Using the outputs of the `semivariogram` function from the `Lab10.py` script, create a figure showing the semivariogram of the data.   __(3 points)__\n",
    "\n",
    "__b__. How are distances between pairs of points computed? How are the values of semivariance being binned by distance? You may want to reference line numbers of code in your explanation.  \n",
    "\n",
    "__c__. What happens to the semivariogram if the bin size is increased by a factor of two? What if it is decreased by a factor of two?  Support you answer by plotting and calculating the effects on bin sizes of the `s` (scale) argument to the `Lab10.semivariogram` function. __(5 points)__\n",
    "\n",
    "__d__. Fit the semivariogram with circular and exponential models. Which model produces the best fit to the semivariance data? __(3 points)__\n",
    "\n",
    "---"
   ]
  },
  {
   "cell_type": "code",
   "execution_count": null,
   "metadata": {},
   "outputs": [],
   "source": [
    "# Local import of functions for this Lab\n",
    "import Lab10\n",
    "import h5py as h5\n",
    "import numpy as np \n",
    "import matplotlib.pyplot as plt "
   ]
  },
  {
   "cell_type": "code",
   "execution_count": null,
   "metadata": {},
   "outputs": [],
   "source": [
    "# Read the contents of .h5 file into \"memory\"\n",
    "with h5.File('SouthGlacier.h5', 'r') as f:    \n",
    "    x = f['x'][:]         # [m] Easting\n",
    "    y = f['y'][:]         # [m] Northing\n",
    "    z = f['z'][:]         # [m] bedrock elevation anomaly"
   ]
  },
  {
   "cell_type": "markdown",
   "metadata": {
    "deletable": false,
    "editable": false,
    "nbgrader": {
     "cell_type": "markdown",
     "checksum": "c81f32b54547070099f67b34c3b98004",
     "grade": false,
     "grade_id": "cell-32fa45aefa6fbf3e",
     "locked": true,
     "schema_version": 3,
     "solution": false,
     "task": false
    }
   },
   "source": [
    "---\n",
    "__a__. Using the outputs of the `semivariogram` function from the `Lab10.py` script, create a figure showing the semivariogram of the data.   __(3 points)__\n",
    "\n",
    "---"
   ]
  },
  {
   "cell_type": "code",
   "execution_count": null,
   "metadata": {
    "deletable": false,
    "nbgrader": {
     "cell_type": "code",
     "checksum": "6eb57fe6cc17074b0c5ae4513992bb25",
     "grade": true,
     "grade_id": "cell-067f3a57a101a64f",
     "locked": false,
     "points": 3,
     "schema_version": 3,
     "solution": true,
     "task": false
    }
   },
   "outputs": [],
   "source": [
    "# Use the function provided to compute the semivariogram\n",
    "mean_lags, vario, varz = Lab10.semivariogram(x,y,z)\n",
    "\n",
    "# YOUR CODE HERE\n",
    "raise NotImplementedError()"
   ]
  },
  {
   "cell_type": "markdown",
   "metadata": {
    "deletable": false,
    "editable": false,
    "nbgrader": {
     "cell_type": "markdown",
     "checksum": "ceb154dbfd119de2976513568e740b87",
     "grade": false,
     "grade_id": "cell-5e9f91db26ea4374",
     "locked": true,
     "schema_version": 3,
     "solution": false,
     "task": false
    }
   },
   "source": [
    "---\n",
    "__b__. How are distances between pairs of points computed? How are the values of semivariance being binned by distance? You may want to reference line numbers of code in your explanation.  \n",
    "\n",
    "_Hint_: You'll need to examine the source code of the `Lab10.semivariogram` function either by opening the python file  or accessing the source code of the function directly in the notebook by executing `Lab10.semivariogram??`.\n",
    "\n",
    "---"
   ]
  },
  {
   "cell_type": "markdown",
   "metadata": {
    "deletable": false,
    "nbgrader": {
     "cell_type": "markdown",
     "checksum": "e92c30268e8a8683a2b8c16e91a518a6",
     "grade": true,
     "grade_id": "cell-73da6bba3a6cc59b",
     "locked": false,
     "points": 4,
     "schema_version": 3,
     "solution": true,
     "task": false
    }
   },
   "source": [
    "YOUR ANSWER HERE"
   ]
  },
  {
   "cell_type": "markdown",
   "metadata": {
    "deletable": false,
    "editable": false,
    "nbgrader": {
     "cell_type": "markdown",
     "checksum": "b9a73af3d0184bd276446dade53d25cb",
     "grade": false,
     "grade_id": "cell-ad18664ceb066cc8",
     "locked": true,
     "schema_version": 3,
     "solution": false,
     "task": false
    },
    "slideshow": {
     "slide_type": "slide"
    }
   },
   "source": [
    "---\n",
    "__c__. What happens to the semivariogram if the bin size is increased by a factor of two? What if it is decreased by a factor of two?  Support you answer by plotting and calculating the effects on bin sizes of the `s` (scale) argument to the `Lab10.semivariogram` function. __(5 points)__\n",
    "\n",
    "---"
   ]
  },
  {
   "cell_type": "markdown",
   "metadata": {
    "deletable": false,
    "nbgrader": {
     "cell_type": "markdown",
     "checksum": "f65a26ca3b8961aaec6b7f1a3578797a",
     "grade": true,
     "grade_id": "cell-b3f03a03ad1a3072",
     "locked": false,
     "points": 2,
     "schema_version": 3,
     "solution": true,
     "task": false
    }
   },
   "source": [
    "YOUR ANSWER HERE"
   ]
  },
  {
   "cell_type": "code",
   "execution_count": null,
   "metadata": {
    "deletable": false,
    "nbgrader": {
     "cell_type": "code",
     "checksum": "06cd709ac282ba46cf4fa665609af66d",
     "grade": true,
     "grade_id": "cell-587a1234242be71d",
     "locked": false,
     "points": 3,
     "schema_version": 3,
     "solution": true,
     "task": false
    }
   },
   "outputs": [],
   "source": [
    "# YOUR CODE HERE\n",
    "raise NotImplementedError()"
   ]
  },
  {
   "cell_type": "markdown",
   "metadata": {
    "deletable": false,
    "editable": false,
    "nbgrader": {
     "cell_type": "markdown",
     "checksum": "e9adb433e928f4daf450484ba0cbac76",
     "grade": false,
     "grade_id": "cell-985883e4d7118e77",
     "locked": true,
     "schema_version": 3,
     "solution": false,
     "task": false
    }
   },
   "source": [
    "---\n",
    "__d__. Fit the semivariogram with circular and exponential models. Which model produces the best fit to the semivariance data? __(3 points)__\n",
    "\n",
    "__Hint__: Use the same \"nugget\" as the linear model. You'll need to use an appropriate value for the \"range\". \n",
    "\n",
    "---"
   ]
  },
  {
   "cell_type": "code",
   "execution_count": null,
   "metadata": {
    "deletable": false,
    "nbgrader": {
     "cell_type": "code",
     "checksum": "59c24f3d27779afe2ebda1af6043a03c",
     "grade": true,
     "grade_id": "cell-6c5e3f7ce5c2c78f",
     "locked": false,
     "points": 3,
     "schema_version": 3,
     "solution": true,
     "task": false
    }
   },
   "outputs": [],
   "source": [
    "# Initalize the semivariogram plot\n",
    "\n",
    "mean_lags, vario, varz = Lab10.semivariogram(x,y,z,s=1)\n",
    "\n",
    "# Plot the semivariogram\n",
    "fig, ax = plt.subplots(figsize=(8,6))\n",
    "\n",
    "ax.plot(mean_lags, vario,'o')\n",
    "ax.axhline(varz, ls='--', c='grey', lw = 1.0, label='Variance')\n",
    "ax.grid()\n",
    "ax.set_ylabel('Semivariance (m$^2$)')\n",
    "ax.set_xlabel('Lag (m)')\n",
    "ax.set_title('Semivariance as a function of lag')\n",
    "\n",
    "lags = np.arange(0,mean_lags.max())\n",
    "\n",
    "# Linear model with nugget:\n",
    "nugget = 0.0\n",
    "slope  = 0.9\n",
    "\n",
    "mod_lin = (nugget + slope*lags) * (nugget + slope*lags < varz) + \\\n",
    "          varz*(nugget + slope*lags >= varz)\n",
    "\n",
    "ax.plot(lags, mod_lin, label='Linear Model')\n",
    "\n",
    "##############################################################################\n",
    "# Create and plot the spherical and exponential models here \n",
    "##############################################################################\n",
    "\n",
    "# YOUR CODE HERE\n",
    "raise NotImplementedError()"
   ]
  },
  {
   "cell_type": "markdown",
   "metadata": {
    "deletable": false,
    "nbgrader": {
     "cell_type": "markdown",
     "checksum": "528c4279f28599862690c6f54ea92526",
     "grade": true,
     "grade_id": "cell-741d4242b190e696",
     "locked": false,
     "points": 1,
     "schema_version": 3,
     "solution": true,
     "task": false
    }
   },
   "source": [
    "YOUR ANSWER HERE"
   ]
  },
  {
   "cell_type": "markdown",
   "metadata": {
    "deletable": false,
    "editable": false,
    "nbgrader": {
     "cell_type": "markdown",
     "checksum": "27978dc38cf2099e21a0f17170b9353d",
     "grade": false,
     "grade_id": "cell-b56478213ab51367",
     "locked": true,
     "schema_version": 3,
     "solution": false,
     "task": false
    }
   },
   "source": [
    "---\n",
    "\n",
    "# Exercise 2: Kriging\n",
    "\n",
    "__a__. You are given function `ordinary_krig` which currently only supports a linear model. Modify this function, in the `Lab10.py` `python` file, to support kriging using an exponential model. Make a figure comparing both the kriged surface and the variance between the two models. __(5 points)__   \n",
    "\n",
    "__b__. How many points are used to calculate the kriged value at each grid cell and how are these points weighted in the linear model as compared to the exponential model?  __(2 point)__   \n",
    "\n",
    "__c__. Modify the function (`ordinary_krig`) to krige the data using a spherical model. How does this kriged surface compare to your result in 2a?   __(5 points)__\n",
    "\n",
    "__d__. Which model behaves most similarly to a surface interpolated with the `griddata()` function from the `scipy.interpolate` library? Use both qualitative (i.e. visual comparison) and quantitative metrics (e.g. MSE, RMSE) to support your findings.  __(7 points)__\n",
    "\n",
    "---"
   ]
  },
  {
   "cell_type": "markdown",
   "metadata": {
    "deletable": false,
    "editable": false,
    "nbgrader": {
     "cell_type": "markdown",
     "checksum": "a926bc888414a5ff6b22f0bbacb5066e",
     "grade": false,
     "grade_id": "cell-99ecf479a2afe265",
     "locked": true,
     "schema_version": 3,
     "solution": false,
     "task": false
    }
   },
   "source": [
    "__a__. You are given function `ordinary_krig` which currently only supports a linear model. Modify this function, in the `Lab10.py` `python` file, to support kriging using an exponential model. Make a figure comparing both the kriged surface and the variance between the two models. __(5 points)__   \n",
    "\n",
    "__Hint__: You'll need to open the `Lab10.py` file with the text editor and add the exponential model. A good place to start is by identifying where and how the linear model is implemented. Keep an eye out for the `if` statements checking the value of `model`. You'll need to add `if` or `elif` statements for the exponential model. After you've saved your changes to the `Lab10.py` file, the kernel must be restarted (Kernel$\\rightarrow$Restart) before the changes are registered within the notebook. \n",
    "\n",
    "\n",
    "---"
   ]
  },
  {
   "cell_type": "code",
   "execution_count": null,
   "metadata": {
    "deletable": false,
    "nbgrader": {
     "cell_type": "code",
     "checksum": "6e69a0dff9dd0617354610ec7d5d6571",
     "grade": true,
     "grade_id": "cell-ba4f599b02698fa1",
     "locked": false,
     "points": 2,
     "schema_version": 3,
     "solution": true,
     "task": false
    }
   },
   "outputs": [],
   "source": [
    "Z_l, S_l, X, Y = Lab10.ordinary_krig(x,y,z, model='linear', nugget=0.0)\n",
    "\n",
    "# YOUR CODE HERE\n",
    "raise NotImplementedError()"
   ]
  },
  {
   "cell_type": "code",
   "execution_count": null,
   "metadata": {
    "deletable": false,
    "nbgrader": {
     "cell_type": "code",
     "checksum": "03d81dd877085de84695f6f9f1e99aef",
     "grade": true,
     "grade_id": "cell-22dfd27037b4995e",
     "locked": false,
     "points": 3,
     "schema_version": 3,
     "solution": true,
     "task": false
    }
   },
   "outputs": [],
   "source": [
    "# YOUR CODE HERE\n",
    "raise NotImplementedError()"
   ]
  },
  {
   "cell_type": "markdown",
   "metadata": {
    "deletable": false,
    "editable": false,
    "nbgrader": {
     "cell_type": "markdown",
     "checksum": "fcef22a57b86ca4caacd51bf1bad864e",
     "grade": false,
     "grade_id": "cell-a16499e6d81daff1",
     "locked": true,
     "schema_version": 3,
     "solution": false,
     "task": false
    }
   },
   "source": [
    "---\n",
    "__b__. How many points are used to calculate the kriged value at each grid cell and how are these points weighted in the linear model as compared to the exponential model?  __(2 point)__   \n",
    "\n",
    "---"
   ]
  },
  {
   "cell_type": "markdown",
   "metadata": {
    "deletable": false,
    "nbgrader": {
     "cell_type": "markdown",
     "checksum": "89cf73d8c3569c1656c2acd0335ef6b9",
     "grade": true,
     "grade_id": "cell-353637405558401c",
     "locked": false,
     "points": 2,
     "schema_version": 3,
     "solution": true,
     "task": false
    }
   },
   "source": [
    "YOUR ANSWER HERE"
   ]
  },
  {
   "cell_type": "markdown",
   "metadata": {
    "deletable": false,
    "editable": false,
    "nbgrader": {
     "cell_type": "markdown",
     "checksum": "ca8e89566a247a1470944a009b6592d0",
     "grade": false,
     "grade_id": "cell-36acccd9bb71d633",
     "locked": true,
     "schema_version": 3,
     "solution": false,
     "task": false
    }
   },
   "source": [
    "---\n",
    "__c__. Modify the function (`ordinary_krig`) to krige the data using a spherical model. How does this kriged surface compare to your result in 2a?   __(5 points)__\n",
    "\n",
    "__Hint:__ Add another column to the figure from __2a__ showing the kriged surface and kriging variance with the spherical model. \n",
    "\n",
    "\n",
    "---"
   ]
  },
  {
   "cell_type": "code",
   "execution_count": null,
   "metadata": {
    "deletable": false,
    "nbgrader": {
     "cell_type": "code",
     "checksum": "218028258393606839497febdb8e29f5",
     "grade": true,
     "grade_id": "cell-de2da7c441043beb",
     "locked": false,
     "points": 2,
     "schema_version": 3,
     "solution": true,
     "task": false
    }
   },
   "outputs": [],
   "source": [
    "# YOUR CODE HERE\n",
    "raise NotImplementedError()"
   ]
  },
  {
   "cell_type": "code",
   "execution_count": null,
   "metadata": {
    "deletable": false,
    "nbgrader": {
     "cell_type": "code",
     "checksum": "e3544981a7f3f235aafbe56353800890",
     "grade": true,
     "grade_id": "cell-df4453a3c850c063",
     "locked": false,
     "points": 3,
     "schema_version": 3,
     "solution": true,
     "task": false
    }
   },
   "outputs": [],
   "source": [
    "# YOUR CODE HERE\n",
    "raise NotImplementedError()"
   ]
  },
  {
   "cell_type": "markdown",
   "metadata": {
    "deletable": false,
    "editable": false,
    "nbgrader": {
     "cell_type": "markdown",
     "checksum": "b6533cf2e09781da319eb6a1324a67d2",
     "grade": false,
     "grade_id": "cell-84cc1b4b66d3279d",
     "locked": true,
     "schema_version": 3,
     "solution": false,
     "task": false
    }
   },
   "source": [
    "---\n",
    "__d__. Which model behaves most similarly to a surface interpolated with the `griddata()` function from the `scipy.interpolate` library? Use both qualitative (i.e. visual comparison) and quantitative metrics (e.g. MSE, RMSE) to support your findings.  __(7 points)__\n",
    "\n",
    "---"
   ]
  },
  {
   "cell_type": "code",
   "execution_count": null,
   "metadata": {
    "deletable": false,
    "nbgrader": {
     "cell_type": "code",
     "checksum": "9707102c0947315a8a7648df106aa5ac",
     "grade": true,
     "grade_id": "cell-372256d0d2ecd793",
     "locked": false,
     "points": 5,
     "schema_version": 3,
     "solution": true,
     "task": false
    }
   },
   "outputs": [],
   "source": [
    "# YOUR CODE HERE\n",
    "raise NotImplementedError()"
   ]
  },
  {
   "cell_type": "code",
   "execution_count": null,
   "metadata": {
    "deletable": false,
    "nbgrader": {
     "cell_type": "code",
     "checksum": "1a338709cd6c13d282b58efd5e710e84",
     "grade": true,
     "grade_id": "cell-18ad91b4a54ba90c",
     "locked": false,
     "points": 1,
     "schema_version": 3,
     "solution": true,
     "task": false
    }
   },
   "outputs": [],
   "source": [
    "# YOUR CODE HERE\n",
    "raise NotImplementedError()"
   ]
  },
  {
   "cell_type": "markdown",
   "metadata": {
    "deletable": false,
    "nbgrader": {
     "cell_type": "markdown",
     "checksum": "f46c112f5ff1875bc43fc7c474ec95fe",
     "grade": true,
     "grade_id": "cell-c277c3c452928ac5",
     "locked": false,
     "points": 1,
     "schema_version": 3,
     "solution": true,
     "task": false
    }
   },
   "source": [
    "YOUR ANSWER HERE"
   ]
  },
  {
   "cell_type": "code",
   "execution_count": null,
   "metadata": {},
   "outputs": [],
   "source": []
  }
 ],
 "metadata": {
  "kernelspec": {
   "display_name": "Python 3",
   "language": "python",
   "name": "python3"
  },
  "language_info": {
   "codemirror_mode": {
    "name": "ipython",
    "version": 3
   },
   "file_extension": ".py",
   "mimetype": "text/x-python",
   "name": "python",
   "nbconvert_exporter": "python",
   "pygments_lexer": "ipython3",
   "version": "3.7.9"
  }
 },
 "nbformat": 4,
 "nbformat_minor": 4
}
