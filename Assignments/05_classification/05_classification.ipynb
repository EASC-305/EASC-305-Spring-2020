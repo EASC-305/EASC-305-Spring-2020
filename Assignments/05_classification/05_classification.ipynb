{
 "cells": [
  {
   "cell_type": "markdown",
   "metadata": {},
   "source": [
    "Before you turn this problem in, make sure everything runs as expected. First, **restart the kernel** (in the menubar, select Kernel$\\rightarrow$Restart) and then **run all cells** (in the menubar, select Cell$\\rightarrow$Run All).\n",
    "\n",
    "Make sure you fill in any place that says `YOUR CODE HERE` or \"YOUR ANSWER HERE\", as well as your name and collaborators below:"
   ]
  },
  {
   "cell_type": "code",
   "execution_count": null,
   "metadata": {},
   "outputs": [],
   "source": [
    "NAME = \"\"\n",
    "COLLABORATORS = \"\""
   ]
  },
  {
   "cell_type": "markdown",
   "metadata": {},
   "source": [
    "---"
   ]
  },
  {
   "cell_type": "markdown",
   "metadata": {
    "deletable": false,
    "editable": false,
    "nbgrader": {
     "cell_type": "markdown",
     "checksum": "7934da3126750ed43b42acbaa4e9c07c",
     "grade": false,
     "grade_id": "cell-d644789204215a61",
     "locked": true,
     "schema_version": 3,
     "solution": false,
     "task": false
    }
   },
   "source": [
    "# Lab 5: Principal Component Analysis  \n",
    "\n",
    "In this lab you will be working with a synthetic dataset that describes geometrical attributes of talus samples, used to characterize a failed rock mass. \n",
    "You will be using principal component analysis (PCA) to better under the concept of eigenvectors and eigenvalues, and to gain statistical insight into the dataset. \n",
    "Catching up on your textbook reading is highly recommended before starting this lab.  \n",
    "\n",
    "\n",
    "----"
   ]
  },
  {
   "cell_type": "markdown",
   "metadata": {
    "deletable": false,
    "editable": false,
    "nbgrader": {
     "cell_type": "markdown",
     "checksum": "925e13d38bbf59ce3cef109570875923",
     "grade": false,
     "grade_id": "cell-fd215bffe7580f03",
     "locked": true,
     "schema_version": 3,
     "solution": false,
     "task": false
    }
   },
   "source": [
    "# Exercise 1  \n",
    "\n",
    "__Description__:  \n",
    "\n",
    "   Read the datafile `talus.txt` in as a NumPy array. The file contains a data matrix, where each of the 20 rows    represents an individual talus sample. \n",
    "   Each of the 5 columns represents a measured or derived geometric property in the following order: (1) length of long axis (m), (2) length of intermediate axis (m), (3) length of short axis (m), (4) longest diagonal axis (m), (5) surface-area-to-volume ratio (m$^2$/m$^3$). \n",
    "\n",
    "__Questions__:  \n",
    "\n",
    "  a. Give a specific example of a problem (outside of the lecture notes and textbook reading) in which principal component analysis would be useful.  \n",
    "  b. Compute the correlation matrix for the length of the long and intermediate axes of the samples (the first two columns) without using the `NumPy` function `np.corrcoef()`   .          \n",
    "  c. Calculate the eigenvalues of the correlation matrix in (b). Check you answer by working out the problem by hand (see submission directions).   \n",
    "  d. Calculate the eigenvectors of the correlation matrix in (b). Check your answer by working out the problem by hand.   \n",
    "  e. What percent of the variance in the dataset is explained by each principal component?\n",
    "  \n",
    "__Note__: For hand written questions (1.c and 1.d) please hand in a single scanned PDF of your work. If you are comfortable with `latex` feel free to instead typset your work directly in this notebook in the markdown cells provided. "
   ]
  },
  {
   "cell_type": "markdown",
   "metadata": {
    "deletable": false,
    "editable": false,
    "nbgrader": {
     "cell_type": "markdown",
     "checksum": "a53d0319810b5f6d006467270ab994c5",
     "grade": false,
     "grade_id": "cell-13da551177baa06b",
     "locked": true,
     "schema_version": 3,
     "solution": false,
     "task": false
    }
   },
   "source": [
    "---\n",
    "a. Give a specific example of a problem (outside of the lecture notes and textbook reading) in which principal component analysis would be useful. \n",
    "\n",
    "---"
   ]
  },
  {
   "cell_type": "markdown",
   "metadata": {
    "deletable": false,
    "nbgrader": {
     "cell_type": "markdown",
     "checksum": "4278cdd17c7dc1b638019b7ca8d71d1c",
     "grade": true,
     "grade_id": "cell-e0b424836bab1905",
     "locked": false,
     "points": 1,
     "schema_version": 3,
     "solution": true,
     "task": false
    }
   },
   "source": [
    "YOUR ANSWER HERE"
   ]
  },
  {
   "cell_type": "markdown",
   "metadata": {
    "deletable": false,
    "editable": false,
    "nbgrader": {
     "cell_type": "markdown",
     "checksum": "cd66cf6991d5e3edde2046c3ebe0b180",
     "grade": false,
     "grade_id": "cell-e49f2dee04815281",
     "locked": true,
     "schema_version": 3,
     "solution": false,
     "task": false
    }
   },
   "source": [
    "---\n",
    "b. Compute the correlation matrix for the length of the long and intermediate axes of the samples (the first two columns) without using the `NumPy` function `np.corrcoef()`.  \n",
    "\n",
    "__Hint__ : Compare your manually calculated answer to the output of `np.corrcoef()`. \n",
    "\n",
    "---"
   ]
  },
  {
   "cell_type": "code",
   "execution_count": null,
   "metadata": {
    "deletable": false,
    "nbgrader": {
     "cell_type": "code",
     "checksum": "2fd909e31b3f33a5126f8b27a36551d8",
     "grade": true,
     "grade_id": "cell-333856a548ba347b",
     "locked": false,
     "points": 5,
     "schema_version": 3,
     "solution": true,
     "task": false
    }
   },
   "outputs": [],
   "source": [
    "# YOUR CODE HERE\n",
    "raise NotImplementedError()"
   ]
  },
  {
   "cell_type": "markdown",
   "metadata": {
    "deletable": false,
    "editable": false,
    "nbgrader": {
     "cell_type": "markdown",
     "checksum": "a3a0b2ce7cd3231f833df548cba18e26",
     "grade": false,
     "grade_id": "cell-3e20c76b3fa322d3",
     "locked": true,
     "schema_version": 3,
     "solution": false,
     "task": false
    }
   },
   "source": [
    "---\n",
    "  c. Calculate the eigenvalues of the correlation matrix in (b). Check you answer by working out the problem by hand (see submission directions). HINT: it's fine to use `LA.eigvals` for the `python` calculation.   \n",
    "  \n",
    "__Note__: For hand written questions (1.c and 1.d) please hand in a single scanned PDF of your work. \n",
    "  \n",
    "---"
   ]
  },
  {
   "cell_type": "code",
   "execution_count": null,
   "metadata": {
    "deletable": false,
    "nbgrader": {
     "cell_type": "code",
     "checksum": "3500a063163d4cf98aad772a27b670b3",
     "grade": true,
     "grade_id": "cell-2a5a5a40da641efb",
     "locked": false,
     "points": 4,
     "schema_version": 3,
     "solution": true,
     "task": false
    }
   },
   "outputs": [],
   "source": [
    "# YOUR CODE HERE\n",
    "raise NotImplementedError()"
   ]
  },
  {
   "cell_type": "markdown",
   "metadata": {
    "deletable": false,
    "nbgrader": {
     "cell_type": "markdown",
     "checksum": "7a9304b7ef631324ccb38f45fe8c6cde",
     "grade": true,
     "grade_id": "cell-82a4c89db37b8fa9",
     "locked": false,
     "points": 7,
     "schema_version": 3,
     "solution": true,
     "task": false
    }
   },
   "source": [
    "YOUR ANSWER HERE"
   ]
  },
  {
   "cell_type": "markdown",
   "metadata": {
    "deletable": false,
    "editable": false,
    "nbgrader": {
     "cell_type": "markdown",
     "checksum": "298d17123f3d7f0eec9fde7153838e27",
     "grade": false,
     "grade_id": "cell-d766dcdd70c53494",
     "locked": true,
     "schema_version": 3,
     "solution": false,
     "task": false
    }
   },
   "source": [
    "---\n",
    "d. Calculate the eigenvectors of the correlation matrix in (b). Check your answer by working out the problem by hand. \n",
    "\n",
    "__Note__: For hand written questions (1.c and 1.d) please hand in a single scanned PDF of your work. \n",
    "  \n",
    "---"
   ]
  },
  {
   "cell_type": "code",
   "execution_count": null,
   "metadata": {
    "deletable": false,
    "nbgrader": {
     "cell_type": "code",
     "checksum": "1ce0db21b608d1863bb4da5590c337c7",
     "grade": true,
     "grade_id": "cell-07e05f8ca1d77ba4",
     "locked": false,
     "points": 2,
     "schema_version": 3,
     "solution": true,
     "task": false
    }
   },
   "outputs": [],
   "source": [
    "# YOUR CODE HERE\n",
    "raise NotImplementedError()"
   ]
  },
  {
   "cell_type": "markdown",
   "metadata": {
    "deletable": false,
    "nbgrader": {
     "cell_type": "markdown",
     "checksum": "c54c104a8baae2ab7ee931cf190918ac",
     "grade": true,
     "grade_id": "cell-12bbff94756b4e23",
     "locked": false,
     "points": 6,
     "schema_version": 3,
     "solution": true,
     "task": false
    }
   },
   "source": [
    "YOUR ANSWER HERE"
   ]
  },
  {
   "cell_type": "markdown",
   "metadata": {
    "deletable": false,
    "editable": false,
    "nbgrader": {
     "cell_type": "markdown",
     "checksum": "241890a2f4492f06d21ad5dff080f4ea",
     "grade": false,
     "grade_id": "cell-b6b3ed03811b102d",
     "locked": true,
     "schema_version": 3,
     "solution": false,
     "task": false
    }
   },
   "source": [
    "--- \n",
    "e. What percent of the variance in the dataset is explained by each principal component?\n",
    "\n",
    "---"
   ]
  },
  {
   "cell_type": "code",
   "execution_count": null,
   "metadata": {
    "deletable": false,
    "nbgrader": {
     "cell_type": "code",
     "checksum": "055a48afbbe9f70545d489f63efa8b64",
     "grade": true,
     "grade_id": "cell-5c5ad2bb7150df8d",
     "locked": false,
     "points": 2,
     "schema_version": 3,
     "solution": true,
     "task": false
    }
   },
   "outputs": [],
   "source": [
    "# YOUR CODE HERE\n",
    "raise NotImplementedError()"
   ]
  },
  {
   "cell_type": "markdown",
   "metadata": {
    "deletable": false,
    "editable": false,
    "nbgrader": {
     "cell_type": "markdown",
     "checksum": "8e7ca4eb97545c9d0e31b53abfe7ee96",
     "grade": false,
     "grade_id": "cell-7e4f9ad168e092b0",
     "locked": true,
     "schema_version": 3,
     "solution": false,
     "task": false
    }
   },
   "source": [
    "# Exercise 2\n",
    "\n",
    "__Description__:  \n",
    "\n",
    "For this exercise, you will use the `sklearn` function `PCA()` with the standardized (Z) form of the data stored in ‘talus.txt’ as input. The class `PCA()` performs a principal component analysis on the data and has methods to return a matrix of loads (each column is an eigenvector), a matrix of the data projected onto the eigenvectors (the scores), and a list of the eigenvalues (latency):\n",
    "\n",
    "```python\n",
    "from sklearn.decomposition import PCA\n",
    "\n",
    "# Initalize the model\n",
    "pca = PCA()\n",
    "\n",
    "# Use the standardized data Z\n",
    "pca.fit(Z)\n",
    "\n",
    "# Get PCA coefficients (i.e. loads)\n",
    "loads   = pca.components_\n",
    "\n",
    "# Scores (i.e. projection of the data into principal-component space)\n",
    "scores  = pca.transform(Z)\n",
    "\n",
    "# Latency (i.e. variance explained)\n",
    "latency = pca.explained_variance_\n",
    "```\n",
    "\n",
    "\n",
    "__Questions__:   \n",
    "\n",
    "a. Plot the correlation matrix using `plt.imshow()`. Make sure to add a color bar to your figure. What does the figure tell you about the data? What geometric properties are positively related, inversely related, or unrelated? __(5 points)__  \n",
    "\n",
    "b. Plot the data projected onto the principal components (scores) using colour to represent the values. By eye, how many principal components appear to account for most of the variance in the data? __(5 points)__   \n",
    "\n",
    "c. Plot the loads that define the first two principal components in a scatterplot. What does this figure tell you about the data? Be sure to include labels for each of the data points (see example code from lecture).  __(5 points)__ \n",
    "\n",
    "d. Plot the data projected onto the first two principal components in a scatterplot. What does this figure tell you about the data? Again, be sure to include labels for each of the data points (see example code from lecture). __(5 points)__   \n",
    "\n",
    "e. How many principal components are required to explain 90% of the variance in the data? Show this with a calculation and figure. __(3 points)__ "
   ]
  },
  {
   "cell_type": "markdown",
   "metadata": {
    "deletable": false,
    "editable": false,
    "nbgrader": {
     "cell_type": "markdown",
     "checksum": "8e6397bd0cc5f3519f0351e4c4b1967c",
     "grade": false,
     "grade_id": "cell-2454af553c42b60f",
     "locked": true,
     "schema_version": 3,
     "solution": false,
     "task": false
    }
   },
   "source": [
    "---\n",
    "a. Plot the correlation matrix using `plt.imshow()`. Make sure to add a color bar to your figure. What does the figure tell you about the data? What geometric properties are positively related, inversely related, or unrelated? __(5 points)__\n",
    "\n",
    "_Hint_: Presuming you have an axes object `ax` use code: \n",
    "```python \n",
    "# List of column names corresponding to the talus.txt matrix\n",
    "cols = ['long axis','intermediate axis','short axis','diagonal axis','surface area/volume']\n",
    "\n",
    ".\n",
    ". # initalize figure and axes, plus do the required calculations\n",
    ".\n",
    "\n",
    "# Set tick locations to 0,1,2,3,4 (i.e. one for each column)\n",
    "ax.set_yticks(np.arange(0,5))\n",
    "# Set tick labels as the corresponding column names\n",
    "ax.set_yticklabels(cols)\n",
    "\n",
    "```\n",
    "This code snippet can be reused for both the x and y axes. \n",
    "\n",
    "\n",
    "---"
   ]
  },
  {
   "cell_type": "code",
   "execution_count": null,
   "metadata": {
    "deletable": false,
    "nbgrader": {
     "cell_type": "code",
     "checksum": "612066ef597e1beaeeac61eb2cca26f1",
     "grade": true,
     "grade_id": "cell-b1c3473450ef2ae9",
     "locked": false,
     "points": 2,
     "schema_version": 3,
     "solution": true,
     "task": false
    }
   },
   "outputs": [],
   "source": [
    "# YOUR CODE HERE\n",
    "raise NotImplementedError()"
   ]
  },
  {
   "cell_type": "markdown",
   "metadata": {
    "deletable": false,
    "nbgrader": {
     "cell_type": "markdown",
     "checksum": "b13ee09c33e3d464505d9bc8c662ac2f",
     "grade": true,
     "grade_id": "cell-e7a6426a88d312ad",
     "locked": false,
     "points": 3,
     "schema_version": 3,
     "solution": true,
     "task": false
    }
   },
   "source": [
    "YOUR ANSWER HERE"
   ]
  },
  {
   "cell_type": "markdown",
   "metadata": {
    "deletable": false,
    "editable": false,
    "nbgrader": {
     "cell_type": "markdown",
     "checksum": "584308702d33f4dccb973ca389cf4ded",
     "grade": false,
     "grade_id": "cell-9cc5127eeb736154",
     "locked": true,
     "schema_version": 3,
     "solution": false,
     "task": false
    }
   },
   "source": [
    "---\n",
    "b. Use the code snippet above to calculate the `loads`, `scores` and `latency` for the normalized data using `sklearn`'s `PCA`.  Plot the data projected onto the principal components (scores) using colour to represent the values. By eye, how many principal components appear to account for most of the variance in the data? __(5 points)__ \n",
    "\n",
    "_Warning_: Make sure you normalize your data before preforming PCA. \n",
    "\n",
    "\n",
    "---"
   ]
  },
  {
   "cell_type": "code",
   "execution_count": null,
   "metadata": {
    "deletable": false,
    "nbgrader": {
     "cell_type": "code",
     "checksum": "08e6e0aa3001f77d878aa656d5a54a44",
     "grade": true,
     "grade_id": "cell-b662234f784aa7c8",
     "locked": false,
     "points": 4,
     "schema_version": 3,
     "solution": true,
     "task": false
    }
   },
   "outputs": [],
   "source": [
    "# YOUR CODE HERE\n",
    "raise NotImplementedError()"
   ]
  },
  {
   "cell_type": "markdown",
   "metadata": {
    "deletable": false,
    "nbgrader": {
     "cell_type": "markdown",
     "checksum": "a23b78ab52911ee9c17698f7e65d1eba",
     "grade": true,
     "grade_id": "cell-7e932326b2e09280",
     "locked": false,
     "points": 1,
     "schema_version": 3,
     "solution": true,
     "task": false
    }
   },
   "source": [
    "YOUR ANSWER HERE"
   ]
  },
  {
   "cell_type": "markdown",
   "metadata": {
    "deletable": false,
    "editable": false,
    "nbgrader": {
     "cell_type": "markdown",
     "checksum": "2879b889298316cf7b1b99ae6472b4bc",
     "grade": false,
     "grade_id": "cell-dda8a12a8ff99d5b",
     "locked": true,
     "schema_version": 3,
     "solution": false,
     "task": false
    }
   },
   "source": [
    "---  \n",
    "c. Plot the loads that define the first two principal components in a scatterplot. What does this figure tell you about the data? Be sure to include labels for each of the data points (see example code from lecture).  __(5 points)__     \n",
    "\n",
    "\n",
    "--- "
   ]
  },
  {
   "cell_type": "code",
   "execution_count": null,
   "metadata": {
    "deletable": false,
    "nbgrader": {
     "cell_type": "code",
     "checksum": "493c283de6455e945244b702ec169ef5",
     "grade": true,
     "grade_id": "cell-7aaba123844b7d03",
     "locked": false,
     "points": 2,
     "schema_version": 3,
     "solution": true,
     "task": false
    }
   },
   "outputs": [],
   "source": [
    "# YOUR CODE HERE\n",
    "raise NotImplementedError()"
   ]
  },
  {
   "cell_type": "markdown",
   "metadata": {
    "deletable": false,
    "nbgrader": {
     "cell_type": "markdown",
     "checksum": "6280ee1d9c345582a6c37d88bf77e8cc",
     "grade": true,
     "grade_id": "cell-79094084fea42992",
     "locked": false,
     "points": 3,
     "schema_version": 3,
     "solution": true,
     "task": false
    }
   },
   "source": [
    "YOUR ANSWER HERE"
   ]
  },
  {
   "cell_type": "markdown",
   "metadata": {
    "deletable": false,
    "editable": false,
    "nbgrader": {
     "cell_type": "markdown",
     "checksum": "2fb10cc5a7c5a0d258821c85860df562",
     "grade": false,
     "grade_id": "cell-ec04a984c6db0e6c",
     "locked": true,
     "schema_version": 3,
     "solution": false,
     "task": false
    }
   },
   "source": [
    "---  \n",
    "d. Plot the data projected onto the first two principal components in a scatterplot. What does this figure tell you about the data? Again, be sure to include labels for each of the data points (see example code from lecture). __(5 points)__   \n",
    "\n",
    "\n",
    "---"
   ]
  },
  {
   "cell_type": "code",
   "execution_count": null,
   "metadata": {
    "deletable": false,
    "nbgrader": {
     "cell_type": "code",
     "checksum": "437061310a0dc218b3ae336c42120422",
     "grade": true,
     "grade_id": "cell-4b4bc452a24f2397",
     "locked": false,
     "points": 2,
     "schema_version": 3,
     "solution": true,
     "task": false
    }
   },
   "outputs": [],
   "source": [
    "# YOUR CODE HERE\n",
    "raise NotImplementedError()"
   ]
  },
  {
   "cell_type": "markdown",
   "metadata": {
    "deletable": false,
    "nbgrader": {
     "cell_type": "markdown",
     "checksum": "fdd77ec6c2156cf04ed2373b348156f0",
     "grade": true,
     "grade_id": "cell-430a6e837ba46dfb",
     "locked": false,
     "points": 3,
     "schema_version": 3,
     "solution": true,
     "task": false
    }
   },
   "source": [
    "YOUR ANSWER HERE"
   ]
  },
  {
   "cell_type": "markdown",
   "metadata": {
    "deletable": false,
    "editable": false,
    "nbgrader": {
     "cell_type": "markdown",
     "checksum": "1e9579a767ca46f6a426efe0de9316a7",
     "grade": false,
     "grade_id": "cell-5529614bcad83ad8",
     "locked": true,
     "schema_version": 3,
     "solution": false,
     "task": false
    }
   },
   "source": [
    "---\n",
    "e. How many principal components are required to explain 90% of the variance in the data? Show this with a calculation and figure. __(3 points)__ \n",
    "\n",
    "---"
   ]
  },
  {
   "cell_type": "code",
   "execution_count": null,
   "metadata": {
    "deletable": false,
    "nbgrader": {
     "cell_type": "code",
     "checksum": "c285f88d38e4604e807a182e2e1f21e4",
     "grade": true,
     "grade_id": "cell-6270ca073b59a645",
     "locked": false,
     "points": 1,
     "schema_version": 3,
     "solution": true,
     "task": false
    }
   },
   "outputs": [],
   "source": [
    "# YOUR CODE HERE\n",
    "raise NotImplementedError()"
   ]
  },
  {
   "cell_type": "code",
   "execution_count": null,
   "metadata": {
    "deletable": false,
    "nbgrader": {
     "cell_type": "code",
     "checksum": "da550f7b070db36ddc52ed08b53cb8d0",
     "grade": true,
     "grade_id": "cell-95d9c41a5e092cd8",
     "locked": false,
     "points": 2,
     "schema_version": 3,
     "solution": true,
     "task": false
    }
   },
   "outputs": [],
   "source": [
    "# YOUR CODE HERE\n",
    "raise NotImplementedError()"
   ]
  },
  {
   "cell_type": "code",
   "execution_count": null,
   "metadata": {},
   "outputs": [],
   "source": [
    "# Feel free to add cells if needed"
   ]
  }
 ],
 "metadata": {
  "kernelspec": {
   "display_name": "Python 3",
   "language": "python",
   "name": "python3"
  },
  "language_info": {
   "codemirror_mode": {
    "name": "ipython",
    "version": 3
   },
   "file_extension": ".py",
   "mimetype": "text/x-python",
   "name": "python",
   "nbconvert_exporter": "python",
   "pygments_lexer": "ipython3",
   "version": "3.7.9"
  },
  "latex_envs": {
   "LaTeX_envs_menu_present": true,
   "autoclose": true,
   "autocomplete": true,
   "bibliofile": "ipython.bib",
   "cite_by": "apalike",
   "current_citInitial": 1,
   "eqLabelWithNumbers": true,
   "eqNumInitial": 1,
   "hotkeys": {
    "equation": "Ctrl-E",
    "itemize": "Ctrl-I"
   },
   "labels_anchors": false,
   "latex_user_defs": false,
   "report_style_numbering": false,
   "user_envs_cfg": false
  }
 },
 "nbformat": 4,
 "nbformat_minor": 4
}
