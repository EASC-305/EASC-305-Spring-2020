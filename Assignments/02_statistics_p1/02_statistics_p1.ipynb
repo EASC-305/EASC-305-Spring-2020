{
 "cells": [
  {
   "cell_type": "markdown",
   "metadata": {},
   "source": [
    "Before you turn this problem in, make sure everything runs as expected. First, **restart the kernel** (in the menubar, select Kernel$\\rightarrow$Restart) and then **run all cells** (in the menubar, select Cell$\\rightarrow$Run All).\n",
    "\n",
    "Make sure you fill in any place that says `YOUR CODE HERE` or \"YOUR ANSWER HERE\", as well as your name and collaborators below:"
   ]
  },
  {
   "cell_type": "code",
   "execution_count": null,
   "metadata": {},
   "outputs": [],
   "source": [
    "NAME = \"\"\n",
    "COLLABORATORS = \"\""
   ]
  },
  {
   "cell_type": "markdown",
   "metadata": {},
   "source": [
    "---"
   ]
  },
  {
   "cell_type": "markdown",
   "metadata": {
    "deletable": false,
    "editable": false,
    "nbgrader": {
     "cell_type": "markdown",
     "checksum": "74d79922cac8c42c66ff7114a33c14bb",
     "grade": false,
     "grade_id": "cell-2f8ba71aed4db87d",
     "locked": true,
     "schema_version": 3,
     "solution": false,
     "task": false
    }
   },
   "source": [
    "# Lab 2: Statistics \n"
   ]
  },
  {
   "cell_type": "markdown",
   "metadata": {
    "deletable": false,
    "editable": false,
    "nbgrader": {
     "cell_type": "markdown",
     "checksum": "a23632baf399cddb741e98a2b93eb90c",
     "grade": false,
     "grade_id": "Q1-1-des",
     "locked": true,
     "schema_version": 3,
     "solution": false,
     "task": false
    }
   },
   "source": [
    "## Exercise 1: Load Data and Compute Data Statistics (12 pts)  \n",
    "\n",
    "Load the data file `organicmatter.txt`.  \n",
    "\n",
    "1. Compute the following statistics  (6 points)  \n",
    "  a. Mean  \n",
    "  b. Median  \n",
    "  c. Variance  \n",
    "  d. Standard Deviation  \n",
    "  e. Skew  \n",
    "  f. Kurtosis  \n",
    "  \n",
    "_Hint_:  When printing the above statistics,  you can make it pretty by using string formating. "
   ]
  },
  {
   "cell_type": "code",
   "execution_count": null,
   "metadata": {
    "deletable": false,
    "nbgrader": {
     "cell_type": "code",
     "checksum": "213d7b206ca2b488070336038179bbbd",
     "grade": true,
     "grade_id": "Q1-1",
     "locked": false,
     "points": 6,
     "schema_version": 3,
     "solution": true,
     "task": false
    }
   },
   "outputs": [],
   "source": [
    "# YOUR CODE HERE\n",
    "raise NotImplementedError()"
   ]
  },
  {
   "cell_type": "markdown",
   "metadata": {
    "deletable": false,
    "editable": false,
    "nbgrader": {
     "cell_type": "markdown",
     "checksum": "39aba85b7f974fcdc302388fe5c18861",
     "grade": false,
     "grade_id": "Q1-2-des",
     "locked": true,
     "schema_version": 3,
     "solution": false,
     "task": false
    }
   },
   "source": [
    "2. Explain the meaning of variance, skew, and kurtosis. What would larger and smaller values mean in the context of each statistic?  \n",
    "\n",
    "_Note_: For some hints on how to format you written answers and make them look nice, check [here](https://github.com/adam-p/markdown-here/wiki/Markdown-Cheatsheet). "
   ]
  },
  {
   "cell_type": "markdown",
   "metadata": {
    "deletable": false,
    "nbgrader": {
     "cell_type": "markdown",
     "checksum": "595cfbc793acec4e2dbb13d54b1471ca",
     "grade": true,
     "grade_id": "Q1-2",
     "locked": false,
     "points": 6,
     "schema_version": 3,
     "solution": true,
     "task": false
    }
   },
   "source": [
    "YOUR ANSWER HERE"
   ]
  },
  {
   "cell_type": "markdown",
   "metadata": {
    "deletable": false,
    "editable": false,
    "nbgrader": {
     "cell_type": "markdown",
     "checksum": "01761e09e81a652b7828e43a5a4948b0",
     "grade": false,
     "grade_id": "Q2-description",
     "locked": true,
     "schema_version": 3,
     "solution": false,
     "task": false
    }
   },
   "source": [
    "## Exercise 2: Default Histogram Functions\n",
    "Instead of looking at all data values individually, you can group the data into bins. The width of a bin relates to the range of data values you allow in each bin, and the height of a bin is the number of data values it holds.\n",
    "\n",
    "1. What is a PDF and a CDF? Why are they useful when evaluating data?     \n",
    "2. Figure 1: Generate a PDF of your data using the function `plt.hist(data)`.  \n",
    "  - How does `plt.hist(data)` bin the data? \n",
    "3. Figure 2: Create a PDF of your data where you manually specify the number of bins (e.g. `plt.hist(data,nbins)`). Check the lecture 2 part 1 demo for a good rule of thumb for calculatinng the appropriate number of bins.  \n",
    "  - What is the bin width in this case?\n",
    "  \n",
    "__Note__: To make your histograms look nice, pass the keyword argument (kwarg) `edgecolor='k'` in your call to `plt.hist()`. "
   ]
  },
  {
   "cell_type": "markdown",
   "metadata": {
    "deletable": false,
    "editable": false,
    "nbgrader": {
     "cell_type": "markdown",
     "checksum": "6073f2177483cb023f8ee7c5992a6682",
     "grade": false,
     "grade_id": "Q2-1-desc",
     "locked": true,
     "schema_version": 3,
     "solution": false,
     "task": false
    }
   },
   "source": [
    "1. What is a PDF and a CDF? Why are they useful when evaluating data?     "
   ]
  },
  {
   "cell_type": "markdown",
   "metadata": {
    "deletable": false,
    "nbgrader": {
     "cell_type": "markdown",
     "checksum": "fb06aefddf298d7e08b32d1e496a302b",
     "grade": true,
     "grade_id": "Q2-1",
     "locked": false,
     "points": 3,
     "schema_version": 3,
     "solution": true,
     "task": false
    }
   },
   "source": [
    "YOUR ANSWER HERE"
   ]
  },
  {
   "cell_type": "markdown",
   "metadata": {
    "deletable": false,
    "editable": false,
    "nbgrader": {
     "cell_type": "markdown",
     "checksum": "e8e2a25e0a551c5cf9c60c6ce0fbb98d",
     "grade": false,
     "grade_id": "Q2-2-desc",
     "locked": true,
     "schema_version": 3,
     "solution": false,
     "task": false
    }
   },
   "source": [
    "2. Figure 1: Generate a PDF of your data using the function `plt.hist(data)`.   \n",
    "\n",
    "__Note__: To make your histograms look nice, pass the _kwarg_ `edgecolor='k'` in your call to `plt.hist()`. "
   ]
  },
  {
   "cell_type": "code",
   "execution_count": null,
   "metadata": {
    "deletable": false,
    "nbgrader": {
     "cell_type": "code",
     "checksum": "e71fbf46f57f5eb2f2a975c98614640f",
     "grade": true,
     "grade_id": "Q2-2",
     "locked": false,
     "points": 2,
     "schema_version": 3,
     "solution": true,
     "task": false
    }
   },
   "outputs": [],
   "source": [
    "# YOUR CODE HERE\n",
    "raise NotImplementedError()"
   ]
  },
  {
   "cell_type": "markdown",
   "metadata": {
    "deletable": false,
    "editable": false,
    "nbgrader": {
     "cell_type": "markdown",
     "checksum": "f07a446b7de9ef7d53ebe586d0d8b8f2",
     "grade": false,
     "grade_id": "cell-96a3e36bfa0f52bd",
     "locked": true,
     "schema_version": 3,
     "solution": false,
     "task": false
    }
   },
   "source": [
    "2a. How does `plt.hist(data)` bin the data?\n",
    "\n",
    "_Hint_: Check the doc-string of `plt.hist` or the [`matplotlib` website](https://matplotlib.org/3.1.1/api/_as_gen/matplotlib.pyplot.hist.html) for info about thats happening under the hood. "
   ]
  },
  {
   "cell_type": "markdown",
   "metadata": {
    "deletable": false,
    "nbgrader": {
     "cell_type": "markdown",
     "checksum": "76c36f8485f3231aca47e634f9af7bec",
     "grade": true,
     "grade_id": "cell-40ef95b4910abf31",
     "locked": false,
     "points": 1,
     "schema_version": 3,
     "solution": true,
     "task": false
    }
   },
   "source": [
    "YOUR ANSWER HERE"
   ]
  },
  {
   "cell_type": "markdown",
   "metadata": {
    "deletable": false,
    "editable": false,
    "nbgrader": {
     "cell_type": "markdown",
     "checksum": "2653fb18878584be18e9afc1c94d36db",
     "grade": false,
     "grade_id": "Q2-3-desc",
     "locked": true,
     "schema_version": 3,
     "solution": false,
     "task": false
    }
   },
   "source": [
    "3. Figure 2: Create a PDF of your data where you manually specify the number of bins (e.g. `plt.hist(data,nbins)`). Check the lecture 2 part 1 demo for a good rule of thumb for calculatinng the appropriate number of bins.  \n",
    "  - What is the bin width in this case?\n",
    "  \n",
    " __Note__: To make your histograms look nice, pass the _kwarg_ `edgecolor='k'` in your call to `plt.hist()`. "
   ]
  },
  {
   "cell_type": "code",
   "execution_count": null,
   "metadata": {
    "deletable": false,
    "nbgrader": {
     "cell_type": "code",
     "checksum": "cecaed66552c747239aed4c1e2694b05",
     "grade": true,
     "grade_id": "Q2-3",
     "locked": false,
     "points": 3,
     "schema_version": 3,
     "solution": true,
     "task": false
    }
   },
   "outputs": [],
   "source": [
    "# YOUR CODE HERE\n",
    "raise NotImplementedError()"
   ]
  },
  {
   "cell_type": "markdown",
   "metadata": {
    "deletable": false,
    "editable": false,
    "nbgrader": {
     "cell_type": "markdown",
     "checksum": "c6292c310d4a1465b87002f3581793f6",
     "grade": false,
     "grade_id": "Q3-description",
     "locked": true,
     "schema_version": 3,
     "solution": false,
     "task": false
    }
   },
   "source": [
    "## Exercise 3: Making Your Own PDF and CDF Function  (12 points) \n",
    "\n",
    "Create your own code to generate PDFs and CDFs for a given data set. You will need to organize your data into bins. The width of a bin relates to the range of data values you allow in each bin, and the height of a bin is the number of data values it holds.  \n",
    "\n",
    "Think of the bullet points below as a blue print for the final form of you code. For the sake of debugging and making sure things work correctly, __start at point 3__. Once you can confirm you're able to do steps 3-6 for one bin size, (i.e. make a PDF and CDF, and plot them); then add steps 1. and 2. at the top of you code. \n",
    "\n",
    "\n",
    "1. Create a figure with three subplots  \n",
    "2. `for` each bin with of `[0.1, 0.5, 1.0]` we will create a custom PDF and CDF.  \n",
    "3. Create bins for the given width:   \n",
    "  - Bins will start at the integer below the lowest data point (i.e. `data.min()`) and extend to the\n",
    "integer above the highest data point (i.e. `data.max()`). \n",
    "    - Hint: use `np.floor()` and `np.ceil()`.  \n",
    "  - Every bin should have a lower edge and an upper edge.  \n",
    "4. Calculate the PDF.  \n",
    "  - You'll need two `for` loops for this\n",
    "5. Calculate the CDF.  \n",
    "  - You can do this in one line\n",
    "6. Plot both the CDF and the PDF on the same graph using `plt.bar()`  \n",
    "  a. Create title using string formating outlined above with:  \n",
    "      - the bin width and, \n",
    "      - the mode (i.e. the “bin” corresponding to the tallest bar in each PDF).\n",
    "      \n",
    "__Note__: Because we are plotting our manually calculate histogram with `plt.bar()`, look into the _kwarg_ `align=` to make sure you data lines up correctly (see [here](https://matplotlib.org/3.1.1/api/_as_gen/matplotlib.pyplot.bar.html) for details). Also, to make your manual PDF/CDFs look nice, pass the _kwarg_ `edgecolor='k'` in your call to `plt.bar()`."
   ]
  },
  {
   "cell_type": "code",
   "execution_count": null,
   "metadata": {},
   "outputs": [],
   "source": [
    "xstart   = np.floor(data.min())\n",
    "xend     = np.ceil(data.max())\n",
    "binwidth = [0.1, 0.5, 1.0]"
   ]
  },
  {
   "cell_type": "code",
   "execution_count": null,
   "metadata": {
    "deletable": false,
    "nbgrader": {
     "cell_type": "code",
     "checksum": "89d6ad92ef99ae360da53a40e7b23bda",
     "grade": true,
     "grade_id": "cell-82c9a1b89527b722",
     "locked": false,
     "points": 12,
     "schema_version": 3,
     "solution": true,
     "task": false
    }
   },
   "outputs": [],
   "source": [
    "# YOUR CODE HERE\n",
    "raise NotImplementedError()"
   ]
  },
  {
   "cell_type": "code",
   "execution_count": null,
   "metadata": {},
   "outputs": [],
   "source": []
  }
 ],
 "metadata": {
  "kernelspec": {
   "display_name": "Python 3",
   "language": "python",
   "name": "python3"
  },
  "language_info": {
   "codemirror_mode": {
    "name": "ipython",
    "version": 3
   },
   "file_extension": ".py",
   "mimetype": "text/x-python",
   "name": "python",
   "nbconvert_exporter": "python",
   "pygments_lexer": "ipython3",
   "version": "3.7.9"
  },
  "latex_envs": {
   "LaTeX_envs_menu_present": true,
   "autoclose": true,
   "autocomplete": true,
   "bibliofile": "ipython.bib",
   "cite_by": "apalike",
   "current_citInitial": 1,
   "eqLabelWithNumbers": true,
   "eqNumInitial": 1,
   "hotkeys": {
    "equation": "Ctrl-E",
    "itemize": "Ctrl-I"
   },
   "labels_anchors": false,
   "latex_user_defs": false,
   "report_style_numbering": false,
   "user_envs_cfg": false
  }
 },
 "nbformat": 4,
 "nbformat_minor": 4
}
