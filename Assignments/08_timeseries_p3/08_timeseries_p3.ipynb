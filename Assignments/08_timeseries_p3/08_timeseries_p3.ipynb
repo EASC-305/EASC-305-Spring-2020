{
 "cells": [
  {
   "cell_type": "markdown",
   "metadata": {},
   "source": [
    "Before you turn this problem in, make sure everything runs as expected. First, **restart the kernel** (in the menubar, select Kernel$\\rightarrow$Restart) and then **run all cells** (in the menubar, select Cell$\\rightarrow$Run All).\n",
    "\n",
    "Make sure you fill in any place that says `YOUR CODE HERE` or \"YOUR ANSWER HERE\", as well as your name and collaborators below:"
   ]
  },
  {
   "cell_type": "code",
   "execution_count": null,
   "metadata": {},
   "outputs": [],
   "source": [
    "NAME = \"\"\n",
    "COLLABORATORS = \"\""
   ]
  },
  {
   "cell_type": "markdown",
   "metadata": {},
   "source": [
    "---"
   ]
  },
  {
   "cell_type": "markdown",
   "metadata": {
    "deletable": false,
    "editable": false,
    "nbgrader": {
     "cell_type": "markdown",
     "checksum": "80191dd973a188d0fd7c447a7c074aa9",
     "grade": false,
     "grade_id": "cell-9d7088c44052ff76",
     "locked": true,
     "schema_version": 3,
     "solution": false,
     "task": false
    }
   },
   "source": [
    "# Lab 8: Filtering\n",
    "\n",
    "\n",
    "In this lab, you will be investigating the effects of using various filters on signals in the time and frequency domains. \n",
    "\n",
    "---\n"
   ]
  },
  {
   "cell_type": "markdown",
   "metadata": {
    "deletable": false,
    "editable": false,
    "nbgrader": {
     "cell_type": "markdown",
     "checksum": "128392c6964828d64f0b92df3fa5a2a5",
     "grade": false,
     "grade_id": "cell-7514b73a0c6b7990",
     "locked": true,
     "schema_version": 3,
     "solution": false,
     "task": false
    }
   },
   "source": [
    "---\n",
    "\n",
    "# Exercise 1:  \n",
    "\n",
    "__Description__:   \n",
    "\n",
    "In this exercise you will be implementing two filters in the time domain and comparing their effects when applied to the same timeseries. We will be using a seismic dataset that was collected 24 hours prior to a volcanic event. The data represent the vertical component of 3D ground motion, where ground velocity is measured in microns per second. Data were collected over 24 hours at a constant sampling rate during this time interval (HINT: use this information to refine your time axis when plotting).\n",
    "\n",
    "The original dataset is very large, so for this exercise we will only be using the last 1000 samples. Before you begin, load `VOLCANOS.txt` and normalize the data by subtracting the mean of the original dataset.\n",
    "\n",
    "__Questions__:   \n",
    "\n",
    "  __a__. Smooth the data in the time domain by using a boxcar filter (moving average) with an 11-point, 31-point and 51-point kernel. Create one plot that demonstrates how the results change with the different filters. Discuss your results. __(12 points)__\n",
    "  \n",
    "  __b__. Filter the original timeseries using an 51-point Gaussian kernel that is designed to conserve energy (at least 99% of it). Play around with the standard deviation. Add this filtered dataset the plot from part __a__. __(7 points)__\n",
    "  \n",
    "  __c__. What might the benefits be of using a boxcar versus Gaussian filter?   __(2 points)__\n",
    "  \n",
    "---"
   ]
  },
  {
   "cell_type": "code",
   "execution_count": 2,
   "metadata": {
    "deletable": false,
    "nbgrader": {
     "cell_type": "code",
     "checksum": "6e2616d536b72c4e295d695e8fa5332e",
     "grade": true,
     "grade_id": "cell-a02562fab92ac1de",
     "locked": false,
     "points": 0,
     "schema_version": 3,
     "solution": true,
     "task": false
    }
   },
   "outputs": [],
   "source": [
    "import numpy as np \n",
    "from scipy import signal\n",
    "import matplotlib.pyplot as plt\n",
    "\n",
    "plt.rcParams['text.usetex'] = True\n",
    "\n",
    "SMALL_SIZE  = 8\n",
    "MEDIUM_SIZE = 10\n",
    "BIGGER_SIZE = 12\n",
    "\n",
    "plt.rc('font',   size     =BIGGER_SIZE)  # controls default text sizes\n",
    "plt.rc('axes',   titlesize=BIGGER_SIZE)  # fontsize of the axes title\n",
    "plt.rc('axes',   labelsize=BIGGER_SIZE)  # fontsize of the x and y labels\n",
    "plt.rc('xtick',  labelsize=BIGGER_SIZE)  # fontsize of the tick labels\n",
    "plt.rc('ytick',  labelsize=BIGGER_SIZE)  # fontsize of the tick labels\n",
    "plt.rc('legend', fontsize =BIGGER_SIZE)  # legend fontsize\n",
    "plt.rc('figure', titlesize=BIGGER_SIZE)  # fontsize of the figure title\n",
    "\n",
    "# LOAD YOUR DATA HERE\n",
    "\n",
    "# # YOUR CODE HERE\n",
    "# raise NotImplementedError()"
   ]
  },
  {
   "cell_type": "markdown",
   "metadata": {
    "deletable": false,
    "editable": false,
    "nbgrader": {
     "cell_type": "markdown",
     "checksum": "165d469aacefc69a66dc8a9aa4613efb",
     "grade": false,
     "grade_id": "cell-2c6b3d192aea907b",
     "locked": true,
     "schema_version": 3,
     "solution": false,
     "task": false
    }
   },
   "source": [
    "---\n",
    "  __a__. Smooth the data in the time domain by using a boxcar filter (moving average) with an 11-point, 21-point and 51-point kernel. Create one plot that demonstrates how the results change with the different filters. Discuss your results. __(12 points)__\n",
    "  \n",
    "  __Hint__: It might be useful to define a function to smooth the data, where the inputs to the function would be the timeseries to be smoothed and the characteristics of the filter (e.g. the kernel size and shape). \n",
    "  \n",
    "  __b__. Filter the original timeseries using an 51-point Gaussian kernel that is designed to conserve energy (at least 99% of it). Play around with the standard deviation. Add this filtered dataset the plot from part __a__. __(7 points)__\n",
    "  \n",
    "__Hint__: Take a look into [`scipy.signal.gaussian()`](https://docs.scipy.org/doc/scipy-0.14.0/reference/generated/scipy.signal.gaussian.html) for creating the Gaussian kernel. \n",
    "\n",
    "\n",
    "---"
   ]
  },
  {
   "cell_type": "code",
   "execution_count": 3,
   "metadata": {
    "code_folding": [],
    "deletable": false,
    "nbgrader": {
     "cell_type": "code",
     "checksum": "d631c649ab039cc4a7974ff085863651",
     "grade": true,
     "grade_id": "cell-18580a215f048d5a",
     "locked": false,
     "points": 19,
     "schema_version": 3,
     "solution": true,
     "task": false
    }
   },
   "outputs": [
    {
     "data": {
      "text/plain": [
       "Text(0.1, 0.5, 'Plot the original and Gaussian filtered timeseries here (ax5)')"
      ]
     },
     "execution_count": 3,
     "metadata": {},
     "output_type": "execute_result"
    },
    {
     "data": {
      "image/png": "[encoded data removed]",
      "text/plain": [
       "<Figure size 576x576 with 6 Axes>"
      ]
     },
     "metadata": {
      "needs_background": "light"
     },
     "output_type": "display_data"
    }
   ],
   "source": [
    "# Create a figure that permits multiple subplots of varying sizes\n",
    "fig = plt.figure(figsize=(8,8), constrained_layout=True)\n",
    "gs  = fig.add_gridspec(5, 2)\n",
    "ax0 = fig.add_subplot(gs[0, 0])\n",
    "ax1 = fig.add_subplot(gs[0, 1])\n",
    "ax2 = fig.add_subplot(gs[1, :])\n",
    "ax3 = fig.add_subplot(gs[2, :])\n",
    "ax4 = fig.add_subplot(gs[3, :])\n",
    "ax5 = fig.add_subplot(gs[4, :])\n",
    "\n",
    "# Create an array of axes\n",
    "axes = [ax0, ax1, ax2, ax3, ax4, ax5]\n",
    "\n",
    "# Annotate the figure to help clarify where each timeseries should be plotted. \n",
    "# Comment out (or delete) these annotations in your final submission. \n",
    "axes[0].text(0.1, 0.5, 'Plot the original timeseries here (ax0)',                  transform=ax0.transAxes)\n",
    "axes[1].text(0.1, 0.5, 'Plot the windows used to filter here (ax1)' ,              transform=ax1.transAxes)\n",
    "axes[2].text(0.1, 0.5, 'Plot the original and 11-pt filtered timeseries here (ax2)', transform=ax2.transAxes)\n",
    "axes[3].text(0.1, 0.5, 'Plot the original and 21-pt filtered timeseries here (ax3)' ,transform=ax3.transAxes)\n",
    "axes[4].text(0.1, 0.5, 'Plot the original and 51-pt filtered timeseries here (ax4)',transform=ax4.transAxes)\n",
    "axes[5].text(0.1, 0.5, 'Plot the original and Gaussian filtered timeseries here (ax5)',transform=ax5.transAxes)\n",
    "\n",
    "# # YOUR CODE HERE\n",
    "# raise NotImplementedError()"
   ]
  },
  {
   "cell_type": "markdown",
   "metadata": {
    "deletable": false,
    "editable": false,
    "nbgrader": {
     "cell_type": "markdown",
     "checksum": "b4f72d545969d7b29f9c6270cb098d55",
     "grade": false,
     "grade_id": "cell-0b8d2c5d653740f8",
     "locked": true,
     "schema_version": 3,
     "solution": false,
     "task": false
    }
   },
   "source": [
    "---  \n",
    "__a__ (continued). Discuss your results.\n",
    "\n",
    "---"
   ]
  },
  {
   "cell_type": "markdown",
   "metadata": {
    "deletable": false,
    "nbgrader": {
     "cell_type": "markdown",
     "checksum": "9718c0d6392ce8bff7a7158fe7b3dae6",
     "grade": true,
     "grade_id": "cell-439104995eb654c4",
     "locked": false,
     "points": 3,
     "schema_version": 3,
     "solution": true,
     "task": false
    }
   },
   "source": [
    "YOUR ANSWER HERE"
   ]
  },
  {
   "cell_type": "markdown",
   "metadata": {
    "deletable": false,
    "editable": false,
    "nbgrader": {
     "cell_type": "markdown",
     "checksum": "31a842c295a816d061a0b2a642fbe0be",
     "grade": false,
     "grade_id": "cell-1d8c33300c06c278",
     "locked": true,
     "schema_version": 3,
     "solution": false,
     "task": false
    }
   },
   "source": [
    "---\n",
    "\n",
    " __c__. What might the benefits be of using a boxcar versus Gaussian filter?   __(2 points)__\n",
    "\n",
    "---"
   ]
  },
  {
   "cell_type": "markdown",
   "metadata": {
    "deletable": false,
    "nbgrader": {
     "cell_type": "markdown",
     "checksum": "d748b04fd74eb27bcaa6428866cb0596",
     "grade": true,
     "grade_id": "cell-4f3894804cf7d370",
     "locked": false,
     "points": 2,
     "schema_version": 3,
     "solution": true,
     "task": false
    }
   },
   "source": [
    "YOUR ANSWER HERE"
   ]
  },
  {
   "cell_type": "markdown",
   "metadata": {
    "deletable": false,
    "editable": false,
    "nbgrader": {
     "cell_type": "markdown",
     "checksum": "983db643e145271787bc08185ed24a37",
     "grade": false,
     "grade_id": "cell-7c7a7a4e81d88a8e",
     "locked": true,
     "schema_version": 3,
     "solution": false,
     "task": false
    }
   },
   "source": [
    "---\n",
    "\n",
    "\n",
    "# Exercise 2: \n",
    "\n",
    "__Description__:\n",
    "\n",
    "Microseismic, seismic and magma transport activity are common precursors to a volcanic eruption. These events are contained in the `VOLCANOS` data. Here we will use spectrograms (see https://en.wikipedia.org/wiki/Spectrogram) to visually determine the effects of high- and low-pass filtering. For this exercise we will use the first million samples of the _normalized_ `VOLCANOS` data.\n",
    "\n",
    "__Questions__: \n",
    "\n",
    "__a__. Plot the data in time domain and plot the power spectrum.  __(4 points)__\n",
    "\n",
    "__b__. Plot a spectrogram of the data (using `plt.pcolormesh`) and explain what the spectrogram\n",
    "shows. __(2 points)__\n",
    "\n",
    "  __Hint__: Use the function `spectrogram` that has been written for you. This is a [\"wrapper function\"](https://en.wikipedia.org/wiki/Wrapper_function), meaning the main purpose of the function is to call another function but with some specified arguments. You will need to pass arguments for `x` and `fs`, but can you use the default parameters for `t_out`, `norm`, `nperseg`, `noverlap` and `nfft`. You can check the docstring  of this function for an explanation of the parameters and an example of how to use the function. \n",
    "  \n",
    "__c__. Create a low-pass and high-pass filter using `scipy.signal.butter`. Use a 5th-order filter for both (i.e. `N=5`). For the low-pass filter, use a critical frequency (`Wn`) of `0.25`.  For the high-pass filter, use a critical frequency `0.50`. You will need use the keyword argument `btype` to create the two types of filters.\n",
    "\n",
    "Once you have created the filters, use them on the time-domain volcanic data with `scipy.signal.filtfilt`. Plot the spectrogram of your original data, your low-pass filtered data, and your high-pass filtered data (one plot with three subplots). Each subplot should have its own colorbar with consistent color limits between them (say from 0 to 100). \n",
    "\n",
    "Then plot the two filtered timeseries to compare with the original data plotted earlier in (a). Zoom in until you can see the effects of the high- and low-pass filters. __(14 points)__\n",
    "\n",
    "\n",
    "\n",
    "__d__. What differences do you observe in the filtered data? __(2 points)__\n",
    "\n",
    "---"
   ]
  },
  {
   "cell_type": "code",
   "execution_count": null,
   "metadata": {
    "code_folding": [
     0
    ]
   },
   "outputs": [],
   "source": [
    "def spectrogram(x, fs=1.0, t_out=\"time\", norm=False, nperseg=5000, noverlap=4000,  nfft=5000): \n",
    "    \"\"\" Wrapper for `scipy.signal.spectrogram`\n",
    "        \n",
    "        Compute the spectrogram analgous to the MATLAB style output. \n",
    "        \n",
    "        Parameters\n",
    "        ----------\n",
    "        x : array_like\n",
    "            Timeseries of measurement values\n",
    "        t_out: string, optional \n",
    "            Return the t vector (x-axis of pcolormesh) as time (\"time\") or \n",
    "            as sample number (\"sample\").\n",
    "        fs : float, optional\n",
    "            Sampling frequency of the `x` time series. Defaults to 1.0.\n",
    "        norm: bool, optional\n",
    "            Normalize the frequency. Scaled b/w 0 and 1 w/ units of ($\\pi$rad/sample)\n",
    "        nperseg: int, optional\n",
    "            Length of each segment. Default is 5000.\n",
    "            See `scipy.signal.spectrogram` for more details.\n",
    "        noverlap: int, optional\n",
    "            Number of points to overlap between segments. Default is 4000.\n",
    "            See `scipy.signal.spectrogram` for more details. \n",
    "        nfft: int, optional\n",
    "            Length of the FFT used, if a zero padded FFT is desired. Defeault is 5000.\n",
    "            See `scipy.signal.spectrogram` for more details.\n",
    "        \n",
    "        Returns\n",
    "        -------\n",
    "        f : ndarray\n",
    "            Array of sample frequencies.\n",
    "        t : ndarray\n",
    "            Array of segment times (if t_out is \"time\") or sample number (if t_out is \"sample\")\n",
    "        Sxx: ndarray\n",
    "            Spectrogram of x. In units of power.\n",
    "        \n",
    "        Examples\n",
    "        --------\n",
    "        >>> from scipy import signal\n",
    "        >>> import matplotlib.pyplot as plt\n",
    "        \n",
    "        Generate a test signal, a 2 Vrms sine wave whose frequency is slowly\n",
    "        modulated around 3kHz, corrupted by white noise of exponentially\n",
    "        decreasing magnitude sampled at 10 kHz. \n",
    "        (^^^^ This a very complicated way to generate a signal, but we are following \n",
    "        the example from \"scipy.signal.spectrogram\" )\n",
    "        \n",
    "        >>> fs = 10e3\n",
    "        >>> N = 1e5\n",
    "        >>> amp = 2 * np.sqrt(2)\n",
    "        >>> noise_power = 0.01 * fs / 2\n",
    "        >>> time = np.arange(N) / float(fs)\n",
    "        >>> mod = 500*np.cos(2*np.pi*0.25*time)\n",
    "        >>> carrier = amp * np.sin(2*np.pi*3e3*time + mod)\n",
    "        >>> noise = np.random.normal(scale=np.sqrt(noise_power), size=time.shape)\n",
    "        >>> noise *= np.exp(-time/5)\n",
    "        >>> x = carrier + noise\n",
    "        \n",
    "        Compute and plot the spectrogram.\n",
    "        \n",
    "        >>> f, t, Sxx = spectrogram(x, fs)\n",
    "        >>> plt.pcolormesh(t, f, Sxx, shading='gouraud')\n",
    "        >>> # This y-axis label assumes \"norm=False\"\n",
    "        >>> plt.ylabel('Frequency [Hz]')\n",
    "        >>> # This x-axis t assumes \"t_out=time\"\n",
    "        >>> plt.xlabel('Time')\n",
    "        >>> # This colorbar label assumes \"norm=False\"\n",
    "        >>> plt.colorbar(label='Power (dB)')\n",
    "    \"\"\"\n",
    "    import scipy.signal as signal\n",
    "    \n",
    "    # Make sure that the \"t_out\" variable is passed \n",
    "    if t_out not in [\"time\", \"sample\"]:\n",
    "        raise ValueError('unknown value for t_out {}, must be one of {}'\n",
    "                         .format(t_out, [\"time\", \"sample\"]))\n",
    "        \n",
    "    # Calculate the spectrogram with scipy.signal \n",
    "    f, t, Sxx = signal.spectrogram(x, fs=fs,\n",
    "                                   nperseg=nperseg, \n",
    "                                   noverlap=noverlap, \n",
    "                                   nfft=nfft,\n",
    "                                   scaling='spectrum'\n",
    "                                   )\n",
    "    # Convert the spectrogram from scipy default to power in dB\n",
    "    Sxx = 10*np.log10(Sxx)\n",
    "    # Normalize frequency if kwarg passed\n",
    "    if norm == True: \n",
    "        f /= np.max(f)\n",
    "    # Let's check how the time data should be returned\n",
    "    if t_out == \"sample\":\n",
    "        t = np.linspace(0, t[-1] / dt, t.shape[0])\n",
    "        \n",
    "    return f, t, Sxx"
   ]
  },
  {
   "cell_type": "code",
   "execution_count": null,
   "metadata": {
    "deletable": false,
    "nbgrader": {
     "cell_type": "code",
     "checksum": "beaabea5e76aa681108d96cf60ca041c",
     "grade": true,
     "grade_id": "cell-390a06ce36b47755",
     "locked": false,
     "points": 0,
     "schema_version": 3,
     "solution": true,
     "task": false
    }
   },
   "outputs": [],
   "source": [
    "import scipy.fft as fft\n",
    "\n",
    "# LOAD YOUR DATA HERE\n",
    "\n",
    "# print(data.size) => 4320000\n",
    "\n",
    "# YOUR CODE HERE\n",
    "raise NotImplementedError()"
   ]
  },
  {
   "cell_type": "markdown",
   "metadata": {
    "deletable": false,
    "editable": false,
    "nbgrader": {
     "cell_type": "markdown",
     "checksum": "caff8cb917a074be01c284de2fe0da58",
     "grade": false,
     "grade_id": "cell-23eb892f50cabf8e",
     "locked": true,
     "schema_version": 3,
     "solution": false,
     "task": false
    }
   },
   "source": [
    "---\n",
    "__a__. Plot the data in time domain and plot the power spectrum.  __(4 points)__\n",
    "\n",
    "---"
   ]
  },
  {
   "cell_type": "code",
   "execution_count": null,
   "metadata": {
    "deletable": false,
    "nbgrader": {
     "cell_type": "code",
     "checksum": "707fa27b090c61ff9a97c3eb30b8fd6c",
     "grade": true,
     "grade_id": "cell-5ce59d34d9b03b37",
     "locked": false,
     "points": 4,
     "schema_version": 3,
     "solution": true,
     "task": false
    }
   },
   "outputs": [],
   "source": [
    "# YOUR CODE HERE\n",
    "raise NotImplementedError()"
   ]
  },
  {
   "cell_type": "markdown",
   "metadata": {
    "deletable": false,
    "editable": false,
    "nbgrader": {
     "cell_type": "markdown",
     "checksum": "42dc51305f450487642a907e9bcd6a1b",
     "grade": false,
     "grade_id": "cell-a5c3b178121f88df",
     "locked": true,
     "schema_version": 3,
     "solution": false,
     "task": false
    }
   },
   "source": [
    "---\n",
    "__b__. Plot a spectrogram of the data (using `plt.pcolormesh`) and explain what the spectrogram\n",
    "shows. Set the `vmin` and `vmax` within `plt.pcolormesh` so that the colorbar is scaled between 0 and 100. __(4 points)__\n",
    "\n",
    "  __Hint__: Use the function `spectrogram` that has been written for you. This is a [\"wrapper function\"](https://en.wikipedia.org/wiki/Wrapper_function), meaning the main purpose of the function is to call another function but with some specified arguments. You will need to pass arguments for `x` and `fs`, but can you use the default parameters for `t_out`, `norm`, `nperseg`, `noverlap` and `nfft`. You can check the docstring  of this function for an explanation of the parameters and an example of how to use the function.  \n",
    "  \n",
    "\n",
    "---"
   ]
  },
  {
   "cell_type": "code",
   "execution_count": null,
   "metadata": {
    "deletable": false,
    "nbgrader": {
     "cell_type": "code",
     "checksum": "f99c1a8efa144ebcf837fe4b58bacb65",
     "grade": true,
     "grade_id": "cell-4e353b35744cdbaa",
     "locked": false,
     "points": 2,
     "schema_version": 3,
     "solution": true,
     "task": false
    }
   },
   "outputs": [],
   "source": [
    "# YOUR CODE HERE\n",
    "raise NotImplementedError()"
   ]
  },
  {
   "cell_type": "markdown",
   "metadata": {
    "deletable": false,
    "editable": false,
    "nbgrader": {
     "cell_type": "markdown",
     "checksum": "c2a11f94b9285f8b893adc239d5497f9",
     "grade": false,
     "grade_id": "cell-8c1f1e1050697b9b",
     "locked": true,
     "schema_version": 3,
     "solution": false,
     "task": false
    }
   },
   "source": [
    "__b__. (cont.) .....explain what the spectrogram shows."
   ]
  },
  {
   "cell_type": "markdown",
   "metadata": {
    "deletable": false,
    "nbgrader": {
     "cell_type": "markdown",
     "checksum": "c6f16858b4bfbc3bca60ff10bf531946",
     "grade": true,
     "grade_id": "cell-4dc9f8829a41fa1f",
     "locked": false,
     "points": 2,
     "schema_version": 3,
     "solution": true,
     "task": false
    }
   },
   "source": [
    "YOUR ANSWER HERE"
   ]
  },
  {
   "cell_type": "markdown",
   "metadata": {
    "deletable": false,
    "editable": false,
    "nbgrader": {
     "cell_type": "markdown",
     "checksum": "42fb9dda3623d1adfdc56c64780e4f0c",
     "grade": false,
     "grade_id": "cell-ee39d09554f4a1f5",
     "locked": true,
     "schema_version": 3,
     "solution": false,
     "task": false
    }
   },
   "source": [
    "---\n",
    "\n",
    "__c__. Create a low-pass and high-pass filter using `scipy.signal.butter`. Use a 5th-order filter for both (i.e. `N=5`). For the low-pass filter, use a critical relative frequency (`Wn`) of `0.25`.  For the high-pass filter, use a critical relative frequency `0.50`. You will need use the keyword argument `btype` to create the two types of filters.\n",
    "\n",
    "Once you have created the filters, use them on the time-domain volcanic data with `scipy.signal.filtfilt`. Plot the spectrogram of your original data, your low-pass filtered data, and your high-pass filtered data (one plot with three subplots). Each subplot should have its own colorbar with consistent color limits between them (say from 0 to 100). \n",
    "\n",
    "Then plot the two filtered timeseries to compare with the original data plotted earlier in (a). Zoom in until you can see the effects of the high- and low-pass filters. __(14 points)__\n",
    "\n",
    "---"
   ]
  },
  {
   "cell_type": "code",
   "execution_count": null,
   "metadata": {
    "deletable": false,
    "nbgrader": {
     "cell_type": "code",
     "checksum": "90912f757981ac58d1fdbcfc54ae1188",
     "grade": true,
     "grade_id": "cell-590def5e6a7013ea",
     "locked": false,
     "points": 12,
     "schema_version": 3,
     "solution": true,
     "task": false
    }
   },
   "outputs": [],
   "source": [
    "# Create the figure and axes instances\n",
    "fig, ax = plt.subplots(3,1, sharex=True, sharey=True, \n",
    "                       figsize=(8,8), constrained_layout=True)\n",
    "\n",
    "# YOUR CODE HERE\n",
    "raise NotImplementedError()"
   ]
  },
  {
   "cell_type": "markdown",
   "metadata": {
    "deletable": false,
    "editable": false,
    "nbgrader": {
     "cell_type": "markdown",
     "checksum": "312a848cf99c0a238727bec0626bcfd6",
     "grade": false,
     "grade_id": "cell-eda1a71c1b5211ed",
     "locked": true,
     "schema_version": 3,
     "solution": false,
     "task": false
    }
   },
   "source": [
    "---\n",
    "__c__. (cont.) Then plot the two filtered timeseries to compare with the original data plotted earlier in (a). Zoom in until you can see the effects of the high- and low-pass filters. \n",
    "\n",
    "---"
   ]
  },
  {
   "cell_type": "code",
   "execution_count": null,
   "metadata": {
    "deletable": false,
    "nbgrader": {
     "cell_type": "code",
     "checksum": "c6ac09198c8dc6d2ce29f5381b2c0747",
     "grade": true,
     "grade_id": "cell-b77c0a127d82221b",
     "locked": false,
     "points": 2,
     "schema_version": 3,
     "solution": true,
     "task": false
    }
   },
   "outputs": [],
   "source": [
    "# YOUR CODE HERE\n",
    "raise NotImplementedError()"
   ]
  },
  {
   "cell_type": "markdown",
   "metadata": {
    "deletable": false,
    "editable": false,
    "nbgrader": {
     "cell_type": "markdown",
     "checksum": "8c3c2c5493a731fc53bf14a82ae866fa",
     "grade": false,
     "grade_id": "cell-d9d1dae8594cfcee",
     "locked": true,
     "schema_version": 3,
     "solution": false,
     "task": false
    }
   },
   "source": [
    "----\n",
    "__d__. What differences do you observe in the filtered data? __(2 points)__\n",
    "\n",
    "----"
   ]
  },
  {
   "cell_type": "markdown",
   "metadata": {
    "deletable": false,
    "nbgrader": {
     "cell_type": "markdown",
     "checksum": "c90b7f1c32ad2af1c6d97b7c5b583a95",
     "grade": true,
     "grade_id": "cell-09b239b791755efa",
     "locked": false,
     "points": 2,
     "schema_version": 3,
     "solution": true,
     "task": false
    }
   },
   "source": [
    "YOUR ANSWER HERE"
   ]
  },
  {
   "cell_type": "markdown",
   "metadata": {
    "deletable": false,
    "editable": false,
    "nbgrader": {
     "cell_type": "markdown",
     "checksum": "dc657c42e9d169693a5c7272e91fd7ac",
     "grade": false,
     "grade_id": "cell-0c35fd6176f22b76",
     "locked": true,
     "schema_version": 3,
     "solution": false,
     "task": false
    }
   },
   "source": [
    "---\n",
    "\n",
    "# Exercise 3:\n",
    "\n",
    "__Questions__: \n",
    "\n",
    "__a__. What are the characteristics of a linear time-invariant system?  __(1 point)__   \n",
    "__b__. Explain causality in the context of filters used for timeseries.  __(2 points)__   \n",
    "__c__. Describe the utility of using a high-pass or low-pass filter when processing geoscience data. __(3 points)__  \n",
    "\n",
    "---"
   ]
  },
  {
   "cell_type": "markdown",
   "metadata": {
    "deletable": false,
    "editable": false,
    "nbgrader": {
     "cell_type": "markdown",
     "checksum": "b78fda53ef592d18ab18cf9de95fbee6",
     "grade": false,
     "grade_id": "cell-cb711db4595cb6df",
     "locked": true,
     "schema_version": 3,
     "solution": false,
     "task": false
    }
   },
   "source": [
    "---\n",
    "__a__. What are the characteristics of a linear time-invariant system?  __(1 point)__   \n",
    "\n",
    "---"
   ]
  },
  {
   "cell_type": "markdown",
   "metadata": {
    "deletable": false,
    "nbgrader": {
     "cell_type": "markdown",
     "checksum": "7e02c2ab50f8c1c5328782107a60caf4",
     "grade": true,
     "grade_id": "cell-a5693da235db40e2",
     "locked": false,
     "points": 1,
     "schema_version": 3,
     "solution": true,
     "task": false
    }
   },
   "source": [
    "YOUR ANSWER HERE"
   ]
  },
  {
   "cell_type": "markdown",
   "metadata": {
    "deletable": false,
    "editable": false,
    "nbgrader": {
     "cell_type": "markdown",
     "checksum": "ea82012a43d6c5775b20d1845fafc400",
     "grade": false,
     "grade_id": "cell-ba6b482aacdee9d4",
     "locked": true,
     "schema_version": 3,
     "solution": false,
     "task": false
    }
   },
   "source": [
    "---\n",
    "__b__. Explain causality in the context of filters used for timeseries.  __(2 points)__   \n",
    "\n",
    "---"
   ]
  },
  {
   "cell_type": "markdown",
   "metadata": {
    "deletable": false,
    "nbgrader": {
     "cell_type": "markdown",
     "checksum": "9cdbdcd630ee25991729ebd7566d2f75",
     "grade": true,
     "grade_id": "cell-767cb8cb3fc18383",
     "locked": false,
     "points": 2,
     "schema_version": 3,
     "solution": true,
     "task": false
    }
   },
   "source": [
    "YOUR ANSWER HERE"
   ]
  },
  {
   "cell_type": "markdown",
   "metadata": {
    "deletable": false,
    "editable": false,
    "nbgrader": {
     "cell_type": "markdown",
     "checksum": "2a470d25f780bc51502c1f65cbfa0965",
     "grade": false,
     "grade_id": "cell-a7eae5fcf7633a40",
     "locked": true,
     "schema_version": 3,
     "solution": false,
     "task": false
    }
   },
   "source": [
    "---\n",
    "\n",
    "__c__. Describe the utility of using a high-pass or low-pass filter when processing geoscience data. __(3 points)__  \n",
    "\n",
    "---"
   ]
  },
  {
   "cell_type": "markdown",
   "metadata": {
    "deletable": false,
    "nbgrader": {
     "cell_type": "markdown",
     "checksum": "7498d3ad40e29e86063c747637e1a7bb",
     "grade": true,
     "grade_id": "cell-e07ef368fffc311b",
     "locked": false,
     "points": 3,
     "schema_version": 3,
     "solution": true,
     "task": false
    }
   },
   "source": [
    "YOUR ANSWER HERE"
   ]
  },
  {
   "cell_type": "code",
   "execution_count": null,
   "metadata": {},
   "outputs": [],
   "source": [
    "# You are free to add more cells here or throughout the notebook as needed. "
   ]
  }
 ],
 "metadata": {
  "kernelspec": {
   "display_name": "Python 3",
   "language": "python",
   "name": "python3"
  },
  "language_info": {
   "codemirror_mode": {
    "name": "ipython",
    "version": 3
   },
   "file_extension": ".py",
   "mimetype": "text/x-python",
   "name": "python",
   "nbconvert_exporter": "python",
   "pygments_lexer": "ipython3",
   "version": "3.7.9"
  },
  "latex_envs": {
   "LaTeX_envs_menu_present": true,
   "autoclose": true,
   "autocomplete": true,
   "bibliofile": "ipython.bib",
   "cite_by": "apalike",
   "current_citInitial": 1,
   "eqLabelWithNumbers": true,
   "eqNumInitial": 1,
   "hotkeys": {
    "equation": "Ctrl-E",
    "itemize": "Ctrl-I"
   },
   "labels_anchors": false,
   "latex_user_defs": false,
   "report_style_numbering": false,
   "user_envs_cfg": false
  }
 },
 "nbformat": 4,
 "nbformat_minor": 4
}
