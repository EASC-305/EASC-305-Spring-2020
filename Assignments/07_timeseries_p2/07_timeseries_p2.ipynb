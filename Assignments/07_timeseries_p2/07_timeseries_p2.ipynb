{
 "cells": [
  {
   "cell_type": "markdown",
   "metadata": {},
   "source": [
    "Before you turn this problem in, make sure everything runs as expected. First, **restart the kernel** (in the menubar, select Kernel$\\rightarrow$Restart) and then **run all cells** (in the menubar, select Cell$\\rightarrow$Run All).\n",
    "\n",
    "Make sure you fill in any place that says `YOUR CODE HERE` or \"YOUR ANSWER HERE\", as well as your name and collaborators below:"
   ]
  },
  {
   "cell_type": "code",
   "execution_count": null,
   "metadata": {},
   "outputs": [],
   "source": [
    "NAME = \"\"\n",
    "COLLABORATORS = \"\""
   ]
  },
  {
   "cell_type": "markdown",
   "metadata": {},
   "source": [
    "---"
   ]
  },
  {
   "cell_type": "markdown",
   "metadata": {
    "deletable": false,
    "editable": false,
    "nbgrader": {
     "cell_type": "markdown",
     "checksum": "e6327a1c6666ff327ea92329887b718c",
     "grade": false,
     "grade_id": "cell-b561905748981086",
     "locked": true,
     "schema_version": 3,
     "solution": false,
     "task": false
    }
   },
   "source": [
    "# Lab 7: Fourier Analysis  \n",
    "\n",
    "In this lab, we will use Fourier series to produce some common waveforms. We will then use Fourier analysis to transform time-domain data into the frequency domain and compute the power spectrum.\n",
    "\n",
    "\n",
    "----"
   ]
  },
  {
   "cell_type": "markdown",
   "metadata": {
    "deletable": false,
    "editable": false,
    "nbgrader": {
     "cell_type": "markdown",
     "checksum": "5a5e9a4f0a69c40de5209feb4015cb16",
     "grade": false,
     "grade_id": "cell-57d9ce6248db14ef",
     "locked": true,
     "schema_version": 3,
     "solution": false,
     "task": false
    }
   },
   "source": [
    "# Exercise 1:  \n",
    "\n",
    "__Description__:   \n",
    "\n",
    "In lecture, we saw that a box-car function (aka a square wave) can be represented as the sum of the following periodic functions:   \n",
    "\n",
    "\\begin{align}\n",
    "f(t) = \\sum_{k=0}^\\infty \\frac{\\sin((2k+1)\\pi t)}{(2k+1)}\n",
    "\\label{eq:box-car}\n",
    "\\end{align}  \n",
    "\n",
    "where $k = 0, 1, 2, 3 \\ldots$ . The example in lecture showed a square wave with a period of 2. Consider the following three functions:   \n",
    "\n",
    "\\begin{gather}\n",
    "f(t) = \\sum_{k=0}^\\infty  \\frac{(-1)^k}{(2k+1)^2} \\sin\\left(\\frac{(2k+1)\\pi t}{5} \\right)\n",
    "\\label{eq:function1} \\\\\n",
    "f(t) = \\sum_{k=0}^\\infty  \\frac{(-1)^k}{k+1} \\sin\\left((k+1) t \\right)\n",
    "\\label{eq:function2}\\\\\n",
    "f(t) = \\sum_{k=0}^\\infty  \\cos\\left(2\\pi k t \\right)\n",
    "\\label{eq:function3}\\\\\n",
    "\\end{gather}\n",
    "\n",
    "\n",
    "__Questions__:  \n",
    "\n",
    "a. Plot the first three harmonics of each of the three functions above (i.e. one waveform each for $k = 0, 1, 2$). Create one figure with nine subplots in it, where the three columns correspond to the three equations and the three rows to the three harmonics. Use the period of each waveform as the legend entry of each subplot. __(10 points)__\n",
    "\n",
    "b. Add a fourth row to the bottom of this figure that shows the linear combination of all three harmonics. Now you should have a figure with 12 subplot in it.   __(4 points)__\n",
    "\n",
    "c. Compute and plot the full waveforms ($k = 0,\\ldots,N$) described by Equations 2-4 in one figure with three subplots. Identify each function by name and describe the benefit of using Fourier analysis to generate these functions. Explain anything that looks odd in your graphs.  __(10 points)__\n",
    "\n",
    "\n",
    "  - __Hint 1__: Begin with $k=0$ and progressively add more terms until you can identify the true shape of the waveforms that would emerge with $k =\\infty$.  \n",
    "  - __Hint 2__: Scroll down to “Basic special functions” on https://en.wikipedia.org/wiki/List_of_mathematical_functions.  \n",
    "  - __Hint 3__:  If you've taken EASC 207, you may want to review the time-frequency lab to help interpret some of what you're seeing in your graphs."
   ]
  },
  {
   "cell_type": "markdown",
   "metadata": {
    "deletable": false,
    "editable": false,
    "nbgrader": {
     "cell_type": "markdown",
     "checksum": "e6ebaf38c24ba69e2e1126211552016e",
     "grade": false,
     "grade_id": "cell-000a421c19dcda08",
     "locked": true,
     "schema_version": 3,
     "solution": false,
     "task": false
    }
   },
   "source": [
    "---\n",
    "a. Plot the first three harmonics of each of the three functions above (i.e. one waveform each for $k = 0, 1, 2$). Create one figure with nine subplots in it, where the three columns correspond to the three equations and the three rows to the three harmonics. Use the period of each waveform as the legend entry of each subplot. __(10 points)__\n",
    "\n",
    "b. Add a fourth row to the bottom of this figure that shows the linear combination of all three harmonics. Now you should have a figure with 12 subplot in it.   __(4 points)__\n",
    "\n",
    "\n",
    "\n",
    "---"
   ]
  },
  {
   "cell_type": "code",
   "execution_count": null,
   "metadata": {
    "deletable": false,
    "nbgrader": {
     "cell_type": "code",
     "checksum": "4457c46f82d9f894919ce5f07c557252",
     "grade": true,
     "grade_id": "cell-ebb109e0987cbd6e",
     "locked": false,
     "points": 14,
     "schema_version": 3,
     "solution": true,
     "task": false
    }
   },
   "outputs": [],
   "source": [
    "# YOUR CODE HERE\n",
    "raise NotImplementedError()"
   ]
  },
  {
   "cell_type": "markdown",
   "metadata": {
    "deletable": false,
    "editable": false,
    "nbgrader": {
     "cell_type": "markdown",
     "checksum": "5098a1863fd6419704b6d96433677df5",
     "grade": false,
     "grade_id": "cell-5eee34a6651dcb75",
     "locked": true,
     "schema_version": 3,
     "solution": false,
     "task": false
    }
   },
   "source": [
    "---\n",
    "c. Compute and plot the full waveforms ($k = 0,\\ldots,N$) described by Equations 2-4 in one figure with three subplots. Identify each function by name by adding the function name as the title for each subplot. Describe the benefit of using Fourier analysis to generate these functions. Explain anything that looks odd in your graphs.  __(10 points)__\n",
    "\n",
    "  - __Hint 1__: Begin with $k=0$ and progressively add more terms until you can identify the true shape of the waveforms that would emerge with $k =\\infty$. Plot a couple of different values of $k$ for each function on each subplot. For example plot $k= 2, 10, 100, 1000$.    \n",
    "  - __Hint 2__: Scroll down to “Basic special functions” on https://en.wikipedia.org/wiki/List_of_mathematical_functions.  \n",
    "  - __Hint 3__:  If you've taken EASC 207, you may want to review the time-frequency lab to help interpret some of what you're seeing in your graphs.  \n",
    "\n",
    "__Fancy titles (Optional):__     \n",
    "Let's presume you have an axes array `ax` that is of length 3 (i.e. you have three subplots). Let's also presume you plot the functions in the order they are listed above, so Eqn ($2$), then Eqn ($3$),  then Eqn ($4$). We could make some fancy titles with the mathematical equations for each of the respective functions using: \n",
    "\n",
    "```python\n",
    "# This is crucial: it tells matplotlib to render our fancy Latex equations. \n",
    "plt.rcParams['text.usetex']= True\n",
    "\n",
    "ax[0].set_title(r'... Function $= \\sum_{k=0}^N \\frac{(-1)^k}{(2k+1)^2} \\sin\\left(\\frac{(2k+1)\\pi t}{5}  \\right)$')\n",
    "ax[1].set_title(r'... Function $= \\sum_{k=0}^N \\frac{(-1)^k}{k+1} \\sin\\left((2k+1) t \\right)$')\n",
    "ax[2].set_title(r'... Function $= \\sum_{k=0}^N \\cos\\left(2\\pi k t \\right)$')\n",
    "```\n",
    "\n",
    "Note: you will need to replace the `...` in each string with the actual function name for each subplot, but the following latex code will create a typeset version of the equation in the title as well. This is optional to use, but will make our plots look super sleek. \n",
    "\n",
    "\n",
    "---"
   ]
  },
  {
   "cell_type": "code",
   "execution_count": null,
   "metadata": {
    "deletable": false,
    "nbgrader": {
     "cell_type": "code",
     "checksum": "5d8437ecee5d68b8e7063eac2d12574c",
     "grade": true,
     "grade_id": "cell-6d95919db773320e",
     "locked": false,
     "points": 6,
     "schema_version": 3,
     "solution": true,
     "task": false
    }
   },
   "outputs": [],
   "source": [
    "# YOUR CODE HERE\n",
    "raise NotImplementedError()"
   ]
  },
  {
   "cell_type": "markdown",
   "metadata": {
    "deletable": false,
    "editable": false,
    "nbgrader": {
     "cell_type": "markdown",
     "checksum": "2bf3506caf44caeba95aa29873398a24",
     "grade": false,
     "grade_id": "cell-91d7e1c6c4ed7628",
     "locked": true,
     "schema_version": 3,
     "solution": false,
     "task": false
    }
   },
   "source": [
    "---\n",
    "1c (continued). Describe the benefit of using Fourier analysis to generate these functions. Explain anything that looks odd in your graphs.  \n",
    "\n",
    "---"
   ]
  },
  {
   "cell_type": "markdown",
   "metadata": {
    "deletable": false,
    "nbgrader": {
     "cell_type": "markdown",
     "checksum": "8b4c2940bed13e50b1d2a90ff9e26fd4",
     "grade": true,
     "grade_id": "cell-7d3aa010d8dbc306",
     "locked": false,
     "points": 4,
     "schema_version": 3,
     "solution": true,
     "task": false
    }
   },
   "source": [
    "YOUR ANSWER HERE"
   ]
  },
  {
   "cell_type": "markdown",
   "metadata": {
    "deletable": false,
    "editable": false,
    "nbgrader": {
     "cell_type": "markdown",
     "checksum": "8fd01da1299b57c35992db1ebfb9f016",
     "grade": false,
     "grade_id": "cell-9dcbc81bacaef230",
     "locked": true,
     "schema_version": 3,
     "solution": false,
     "task": false
    }
   },
   "source": [
    "# Exercise 2:   \n",
    "\n",
    "__Description__:   \n",
    "\n",
    "\n",
    "On 3 September 2017 at 3:30 am (UCT), North Korea completed a nuclear weapons test. This question examines the ground motion signals arriving at the MDJ seismic station located in Mudanjiang, Heilongjiang Province, China. These data were collected using [`Obspy`](https://docs.obspy.org/) (a Python seismic analysis package) to query the IRIS database for the recording of the vertical component of ground motion at this station for the time during the nuclear test. Data have been provided for the 2017 nuclear test (`PRK_test17.txt`) and for a smaller nuclear test that occurred in 2016 (`PRK_test16.txt`).   \n",
    "\n",
    "\n",
    "__Questions__:  \n",
    "\n",
    "a. The ground displacement data are currently in nm. Convert the data to mm. __(1 point)__  \n",
    "\n",
    "b. Plot the ground motion timeseries and power spectra for each of the nuclear tests (in one figure). You may use the `fft()`, `fftshift()` and `fftfreq` functions from `SciPy`'s `fft` library. \n",
    "\n",
    "- __HINT__: Create a vector of frequencies appropriate for the x-axis of the power spectrum using `fftfreq`. The sampling frequency used to collect this dataset is 20 Hz. Make sure the vector of frequencies is centred at 0 (i.e. you'll need to use the `fftshift()` function). You'll also want to normalize the power spectra. This can be done manually or by `kwargs` to `fft()`.  __(11 points)__\n",
    "\n",
    "c. What do you observe about the strength of the ground motion in the 2016 versus 2017 nuclear tests? __(3 points)__\n",
    "\n",
    "d. What is the bandwidth of the two datasets? __(2 points)__\n",
    "\n",
    "---"
   ]
  },
  {
   "cell_type": "markdown",
   "metadata": {
    "deletable": false,
    "editable": false,
    "nbgrader": {
     "cell_type": "markdown",
     "checksum": "c52e52dfb96b5a45b7bafc8a37b63274",
     "grade": false,
     "grade_id": "cell-18eae2a78a9300a5",
     "locked": true,
     "schema_version": 3,
     "solution": false,
     "task": false
    }
   },
   "source": [
    "---\n",
    "a. The ground displacement data are currently in nm. Convert the data to mm. __(1 point)__  \n",
    "\n",
    "---"
   ]
  },
  {
   "cell_type": "code",
   "execution_count": null,
   "metadata": {
    "deletable": false,
    "nbgrader": {
     "cell_type": "code",
     "checksum": "f46a0cde270ce6048627c0006c27fb29",
     "grade": true,
     "grade_id": "cell-859d657fe56eb8f7",
     "locked": false,
     "points": 1,
     "schema_version": 3,
     "solution": true,
     "task": false
    }
   },
   "outputs": [],
   "source": [
    "# YOUR CODE HERE\n",
    "raise NotImplementedError()"
   ]
  },
  {
   "cell_type": "markdown",
   "metadata": {
    "deletable": false,
    "editable": false,
    "nbgrader": {
     "cell_type": "markdown",
     "checksum": "8759f7dc4119b58291a10b5480496428",
     "grade": false,
     "grade_id": "cell-d6d65c5b3134b5a0",
     "locked": true,
     "schema_version": 3,
     "solution": false,
     "task": false
    }
   },
   "source": [
    "---\n",
    "\n",
    "b. Plot the ground motion timeseries and power spectra for each of the nuclear tests (in one figure). You may use the `fft()`, `fftshift()` and `fftfreq` functions from `SciPy`'s `fft` library. \n",
    "\n",
    "- __HINT__: Create a vector of frequencies appropriate for the x-axis of the power spectrum using `fftfreq`. The sampling frequency used to collect this dataset is 20 Hz, but `fftfreq` requires the sample spacing. Take a look at the [`scipy.fft` tutorial on `fftfreq`](https://docs.scipy.org/doc/scipy/reference/tutorial/fft.html#id10) and the [`fftfreq` documentation](https://docs.scipy.org/doc/scipy/reference/generated/scipy.fft.fftfreq.html#scipy.fft.fftfreq).   Make sure the vector of frequencies is centred at 0 (i.e. you'll need to use the `fftshift()` function). You'll also want to normalize the power spectra. This can be done manually or by `kwargs` to `fft()`.  __(11 points)__\n",
    "\n",
    "---"
   ]
  },
  {
   "cell_type": "code",
   "execution_count": null,
   "metadata": {
    "deletable": false,
    "nbgrader": {
     "cell_type": "code",
     "checksum": "0319cc36c4611591dbba26cf99160e5e",
     "grade": true,
     "grade_id": "cell-3184d5ca608b3484",
     "locked": false,
     "points": 11,
     "schema_version": 3,
     "solution": true,
     "task": false
    }
   },
   "outputs": [],
   "source": [
    "# YOUR CODE HERE\n",
    "raise NotImplementedError()"
   ]
  },
  {
   "cell_type": "markdown",
   "metadata": {
    "deletable": false,
    "editable": false,
    "nbgrader": {
     "cell_type": "markdown",
     "checksum": "1a305523a1ccfcc87b63ba5ff81a6096",
     "grade": false,
     "grade_id": "cell-01d089d63f3b8b9d",
     "locked": true,
     "schema_version": 3,
     "solution": false,
     "task": false
    }
   },
   "source": [
    "---\n",
    "c. What do you observe about the strength of the ground motion in the 2016 versus 2017 nuclear tests? __(3 points)__\n",
    "\n",
    "---"
   ]
  },
  {
   "cell_type": "markdown",
   "metadata": {
    "deletable": false,
    "nbgrader": {
     "cell_type": "markdown",
     "checksum": "972074237ec58c3484a08c189fb76440",
     "grade": true,
     "grade_id": "cell-6beda7746e2ae8da",
     "locked": false,
     "points": 3,
     "schema_version": 3,
     "solution": true,
     "task": false
    }
   },
   "source": [
    "YOUR ANSWER HERE"
   ]
  },
  {
   "cell_type": "markdown",
   "metadata": {
    "deletable": false,
    "editable": false,
    "nbgrader": {
     "cell_type": "markdown",
     "checksum": "d632b3683bbbe11a61ad43ba59070f97",
     "grade": false,
     "grade_id": "cell-f3de9a37d78cbc15",
     "locked": true,
     "schema_version": 3,
     "solution": false,
     "task": false
    }
   },
   "source": [
    "---\n",
    "d. What is the bandwidth of the two datasets? __(2 points)__\n",
    "\n",
    "---"
   ]
  },
  {
   "cell_type": "markdown",
   "metadata": {
    "deletable": false,
    "nbgrader": {
     "cell_type": "markdown",
     "checksum": "37b9fc886a37e7b734e1698eca6cebc4",
     "grade": true,
     "grade_id": "cell-be85c80bcd1dbe6c",
     "locked": false,
     "points": 0,
     "schema_version": 3,
     "solution": true,
     "task": false
    }
   },
   "source": [
    "YOUR ANSWER HERE"
   ]
  },
  {
   "cell_type": "markdown",
   "metadata": {
    "deletable": false,
    "editable": false,
    "nbgrader": {
     "cell_type": "markdown",
     "checksum": "1ea3cee938ec3df6450b5f6e875cdf72",
     "grade": false,
     "grade_id": "cell-5d3ea871a06936eb",
     "locked": true,
     "schema_version": 3,
     "solution": false,
     "task": false
    }
   },
   "source": [
    "---\n",
    "# Exercise 3:  \n",
    "\n",
    "Look back at what you have done in Exercises 1 and 2 to help answer the following questions.  \n",
    "\n",
    "a. What is the “frequency domain” and what does it tell you about your data?  __(3 points)__\n",
    "\n",
    "b. What are the amplitude and power spectra in the frequency domain?  __(3 points)__\n",
    "\n",
    "c. If you have a function that is spread out in the time domain, what will it look like in the frequency domain and vice-versa?  __(3 points)__\n",
    "\n",
    "----"
   ]
  },
  {
   "cell_type": "markdown",
   "metadata": {
    "deletable": false,
    "editable": false,
    "nbgrader": {
     "cell_type": "markdown",
     "checksum": "4ef756021b40bdc74154f7e296e34faf",
     "grade": false,
     "grade_id": "cell-f4f81c57a5ea71a3",
     "locked": true,
     "schema_version": 3,
     "solution": false,
     "task": false
    }
   },
   "source": [
    "---\n",
    "a. What is the “frequency domain” and what does it tell you about your data?  __(3 points)__\n",
    "\n",
    "---"
   ]
  },
  {
   "cell_type": "markdown",
   "metadata": {
    "deletable": false,
    "nbgrader": {
     "cell_type": "markdown",
     "checksum": "c72af7586978d6e3f27e38c5dad0f235",
     "grade": true,
     "grade_id": "cell-63d80d3ff81921f4",
     "locked": false,
     "points": 3,
     "schema_version": 3,
     "solution": true,
     "task": false
    }
   },
   "source": [
    "YOUR ANSWER HERE"
   ]
  },
  {
   "cell_type": "markdown",
   "metadata": {
    "deletable": false,
    "editable": false,
    "nbgrader": {
     "cell_type": "markdown",
     "checksum": "4067e979869455dd6dfa8cafb20e31b0",
     "grade": false,
     "grade_id": "cell-fa2094058e97d12a",
     "locked": true,
     "schema_version": 3,
     "solution": false,
     "task": false
    }
   },
   "source": [
    "---\n",
    "b. What are the amplitude and power spectra in the frequency domain?  __(3 points)__\n",
    "\n",
    "---"
   ]
  },
  {
   "cell_type": "markdown",
   "metadata": {
    "deletable": false,
    "nbgrader": {
     "cell_type": "markdown",
     "checksum": "a7a95b8fa80c3fcc8acc6bd044fb5c7e",
     "grade": true,
     "grade_id": "cell-8d3c32c5708b12e7",
     "locked": false,
     "points": 3,
     "schema_version": 3,
     "solution": true,
     "task": false
    }
   },
   "source": [
    "YOUR ANSWER HERE"
   ]
  },
  {
   "cell_type": "markdown",
   "metadata": {
    "deletable": false,
    "editable": false,
    "nbgrader": {
     "cell_type": "markdown",
     "checksum": "949951cf71c0c38d2ab38f778ba43b42",
     "grade": false,
     "grade_id": "cell-ba2aa9ee448105f2",
     "locked": true,
     "schema_version": 3,
     "solution": false,
     "task": false
    }
   },
   "source": [
    "---\n",
    "c. If you have a function that is spread out in the time domain, what will it look like in the frequency domain and vice-versa?  __(3 points)__\n",
    "\n",
    "---"
   ]
  },
  {
   "cell_type": "markdown",
   "metadata": {
    "deletable": false,
    "nbgrader": {
     "cell_type": "markdown",
     "checksum": "350a4bfebba7439f3f1603c8723de98c",
     "grade": true,
     "grade_id": "cell-4ec3c4edade5930b",
     "locked": false,
     "points": 3,
     "schema_version": 3,
     "solution": true,
     "task": false
    }
   },
   "source": [
    "YOUR ANSWER HERE"
   ]
  },
  {
   "cell_type": "code",
   "execution_count": null,
   "metadata": {},
   "outputs": [],
   "source": [
    "# Please feel free to add more cells if need be"
   ]
  }
 ],
 "metadata": {
  "kernelspec": {
   "display_name": "Python 3",
   "language": "python",
   "name": "python3"
  },
  "language_info": {
   "codemirror_mode": {
    "name": "ipython",
    "version": 3
   },
   "file_extension": ".py",
   "mimetype": "text/x-python",
   "name": "python",
   "nbconvert_exporter": "python",
   "pygments_lexer": "ipython3",
   "version": "3.6.7"
  },
  "latex_envs": {
   "LaTeX_envs_menu_present": true,
   "autoclose": true,
   "autocomplete": true,
   "bibliofile": "ipython.bib",
   "cite_by": "apalike",
   "current_citInitial": 1,
   "eqLabelWithNumbers": true,
   "eqNumInitial": 1,
   "hotkeys": {
    "equation": "Ctrl-E",
    "itemize": "Ctrl-I"
   },
   "labels_anchors": false,
   "latex_user_defs": false,
   "report_style_numbering": false,
   "user_envs_cfg": false
  }
 },
 "nbformat": 4,
 "nbformat_minor": 4
}
