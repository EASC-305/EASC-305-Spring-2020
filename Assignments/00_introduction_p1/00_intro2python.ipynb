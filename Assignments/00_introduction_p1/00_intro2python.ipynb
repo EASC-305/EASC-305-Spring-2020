{
 "cells": [
  {
   "cell_type": "markdown",
   "metadata": {},
   "source": [
    "# Lab 0: Introduction to Python "
   ]
  },
  {
   "cell_type": "markdown",
   "metadata": {},
   "source": [
    "## Exercise 1: Defining Variables (8 pts)  \n",
    "1. Create 4 scalar variables `a,b,c,d` containing the values 1,2,3,4.  "
   ]
  },
  {
   "cell_type": "code",
   "execution_count": 10,
   "metadata": {},
   "outputs": [],
   "source": [
    "a = 1\n",
    "b = 2 \n",
    "c = 3 \n",
    "d = 4"
   ]
  },
  {
   "cell_type": "markdown",
   "metadata": {},
   "source": [
    "2. Define a 3-component horizontal vector `H` containing `a,b,c`.  "
   ]
  },
  {
   "cell_type": "code",
   "execution_count": 11,
   "metadata": {},
   "outputs": [],
   "source": [
    "import numpy as np \n",
    "\n",
    "H = np.array([a,b,c])"
   ]
  },
  {
   "cell_type": "markdown",
   "metadata": {},
   "source": [
    "3. Define a 3-component vertical vector `V` containing `b,c,d`.  "
   ]
  },
  {
   "cell_type": "code",
   "execution_count": 3,
   "metadata": {},
   "outputs": [],
   "source": [
    "V = np.array([b,c,d]).reshape(-1,1)"
   ]
  },
  {
   "cell_type": "markdown",
   "metadata": {},
   "source": [
    "4. Define a 2x2 matric `M` containing a,b,c,d as:  \n",
    "$$ M = \\begin{pmatrix} a & b \\\\ c & d \\end{pmatrix} $$  "
   ]
  },
  {
   "cell_type": "code",
   "execution_count": 4,
   "metadata": {},
   "outputs": [],
   "source": [
    "M = np.array([[a,b],[c,d]])"
   ]
  },
  {
   "cell_type": "markdown",
   "metadata": {},
   "source": [
    "5. Displace the values of:  \n",
    "  a. The third element of `H`  \n",
    "  b. The first element of `V`  \n",
    "  c. The first row of `M`  \n",
    "  d. The second column of `M`"
   ]
  },
  {
   "cell_type": "code",
   "execution_count": 5,
   "metadata": {},
   "outputs": [
    {
     "name": "stdout",
     "output_type": "stream",
     "text": [
      "a. The third element of H: 3\n",
      "b. The first element of V: [2]\n",
      "c. The third element of H: [1 2]\n",
      "d. The third element of H: [2 4]\n"
     ]
    }
   ],
   "source": [
    "print('a. The third element of H:', H[2])\n",
    "print('b. The first element of V:', V[0])\n",
    "print('c. The third element of H:', M[0,:])\n",
    "print('d. The third element of H:', M[:,1])"
   ]
  },
  {
   "cell_type": "markdown",
   "metadata": {},
   "source": [
    "## Exercise 2: Vector Math (15 points)  \n",
    "\n",
    "1. Using the variable you defined in Exercise 1, complete each of the following operations. \n",
    "Next to the operation comment on if the operation is defined. If the operation is not defined,\n",
    "comment out the line so your code continues running without an error and state why the operation is not valid. \n",
    "I have provided you with two examples to demonstrate formatting.  \n",
    "\n",
    "  a. `a+b`  \n",
    "  b. `V+H`  \n",
    "  c. `H+M`  \n",
    "  d. `H+H`  \n",
    "  e. `b+M`  \n",
    "  f. `b*d`  \n",
    "  g. `V.*V`  \n",
    "  h. `V*V`  \n",
    "  i. `V*H`   \n",
    "  j. `H*V`    \n",
    "  k. `V.*H`    \n",
    "  l. `H.*V`  \n",
    "  m. `d*M`  \n",
    "  n. `M*H`  \n",
    "  o. `M.*H`  \n",
    "  p. `M*M`  \n",
    "  \n",
    "2. What is the size of `V@H`?  What are the two ways you can find the shape of the variable? (_hint_ : One is globally defined function and one is an attribute of `numpy` arrays.)  \n",
    "\n",
    "3. What the difference between the `@` and `*` operators? "
   ]
  },
  {
   "cell_type": "code",
   "execution_count": 32,
   "metadata": {},
   "outputs": [
    {
     "data": {
      "text/plain": [
       "3"
      ]
     },
     "execution_count": 32,
     "metadata": {},
     "output_type": "execute_result"
    }
   ],
   "source": [
    "#a\n",
    "a + b"
   ]
  },
  {
   "cell_type": "code",
   "execution_count": 33,
   "metadata": {},
   "outputs": [
    {
     "data": {
      "text/plain": [
       "array([[3, 4, 5],\n",
       "       [4, 5, 6],\n",
       "       [5, 6, 7]])"
      ]
     },
     "execution_count": 33,
     "metadata": {},
     "output_type": "execute_result"
    }
   ],
   "source": [
    "#b\n",
    "V+H"
   ]
  },
  {
   "cell_type": "code",
   "execution_count": 39,
   "metadata": {},
   "outputs": [],
   "source": [
    "#c \n",
    "# H+M # Undefined, because the shapes do not match"
   ]
  },
  {
   "cell_type": "code",
   "execution_count": 35,
   "metadata": {},
   "outputs": [
    {
     "data": {
      "text/plain": [
       "array([2, 4, 6])"
      ]
     },
     "execution_count": 35,
     "metadata": {},
     "output_type": "execute_result"
    }
   ],
   "source": [
    "#d \n",
    "H+H"
   ]
  },
  {
   "cell_type": "code",
   "execution_count": 37,
   "metadata": {
    "code_folding": [
     0
    ]
   },
   "outputs": [
    {
     "data": {
      "text/plain": [
       "array([[3, 4],\n",
       "       [5, 6]])"
      ]
     },
     "execution_count": 37,
     "metadata": {},
     "output_type": "execute_result"
    }
   ],
   "source": [
    "#e\n",
    "b+M"
   ]
  },
  {
   "cell_type": "code",
   "execution_count": 38,
   "metadata": {},
   "outputs": [
    {
     "data": {
      "text/plain": [
       "8"
      ]
     },
     "execution_count": 38,
     "metadata": {},
     "output_type": "execute_result"
    }
   ],
   "source": [
    "#f \n",
    "b*d"
   ]
  },
  {
   "cell_type": "code",
   "execution_count": 40,
   "metadata": {
    "scrolled": true
   },
   "outputs": [
    {
     "data": {
      "text/plain": [
       "array([[ 4],\n",
       "       [ 9],\n",
       "       [16]])"
      ]
     },
     "execution_count": 40,
     "metadata": {},
     "output_type": "execute_result"
    }
   ],
   "source": [
    "#g\n",
    "V*V"
   ]
  },
  {
   "cell_type": "code",
   "execution_count": 43,
   "metadata": {},
   "outputs": [],
   "source": [
    "#h\n",
    "#V@V"
   ]
  },
  {
   "cell_type": "code",
   "execution_count": 46,
   "metadata": {},
   "outputs": [],
   "source": [
    "#i \n",
    "#V@H"
   ]
  },
  {
   "cell_type": "code",
   "execution_count": 47,
   "metadata": {},
   "outputs": [
    {
     "data": {
      "text/plain": [
       "array([20])"
      ]
     },
     "execution_count": 47,
     "metadata": {},
     "output_type": "execute_result"
    }
   ],
   "source": [
    "#j\n",
    "H@V"
   ]
  },
  {
   "cell_type": "code",
   "execution_count": 48,
   "metadata": {},
   "outputs": [
    {
     "data": {
      "text/plain": [
       "array([[ 2,  4,  6],\n",
       "       [ 3,  6,  9],\n",
       "       [ 4,  8, 12]])"
      ]
     },
     "execution_count": 48,
     "metadata": {},
     "output_type": "execute_result"
    }
   ],
   "source": [
    "#k\n",
    "V*H"
   ]
  },
  {
   "cell_type": "code",
   "execution_count": 49,
   "metadata": {},
   "outputs": [
    {
     "data": {
      "text/plain": [
       "array([[ 2,  4,  6],\n",
       "       [ 3,  6,  9],\n",
       "       [ 4,  8, 12]])"
      ]
     },
     "execution_count": 49,
     "metadata": {},
     "output_type": "execute_result"
    }
   ],
   "source": [
    "#l\n",
    "H*V"
   ]
  },
  {
   "cell_type": "code",
   "execution_count": 50,
   "metadata": {},
   "outputs": [
    {
     "data": {
      "text/plain": [
       "array([[ 4,  8],\n",
       "       [12, 16]])"
      ]
     },
     "execution_count": 50,
     "metadata": {},
     "output_type": "execute_result"
    }
   ],
   "source": [
    "#m\n",
    "d*M"
   ]
  },
  {
   "cell_type": "code",
   "execution_count": 56,
   "metadata": {},
   "outputs": [],
   "source": [
    "#n\n",
    "# M@H #undedifneds"
   ]
  },
  {
   "cell_type": "code",
   "execution_count": 55,
   "metadata": {},
   "outputs": [],
   "source": [
    "#o\n",
    "# M*H #undedifneds"
   ]
  },
  {
   "cell_type": "code",
   "execution_count": 54,
   "metadata": {},
   "outputs": [
    {
     "data": {
      "text/plain": [
       "array([[ 7, 10],\n",
       "       [15, 22]])"
      ]
     },
     "execution_count": 54,
     "metadata": {},
     "output_type": "execute_result"
    }
   ],
   "source": [
    "#p\n",
    "M@M"
   ]
  },
  {
   "cell_type": "markdown",
   "metadata": {},
   "source": [
    "# Exercise  3: Functions (7 points) \n",
    "\n",
    "Write a function that calculates the distance between two vectors in the form $R(\\vec x, \\vec y)$. Where $R$ is a function that takes two vectors (i.e. $\\vec x$,$\\vec y$) as input a returns a scalar value of distance. Use your function to calculate the distance between the follow vector pairs:  \n",
    "  1. `x = [3, 5]`, `y = [3, 4]`  \n",
    "  2. `x = [2, 0]`, `y = [0, 2]`  \n",
    "  3. `x = [-100, 30]`, `y = [-10, -50]` \n",
    "  \n",
    "Hint: [mathematical formula to use](http://mathonline.wikidot.com/the-distance-between-two-vectors)."
   ]
  },
  {
   "cell_type": "code",
   "execution_count": 15,
   "metadata": {},
   "outputs": [],
   "source": [
    "def R(x,y):\n",
    "    '''Returns the distance between two vectors of length 2. \n",
    "\n",
    "            Parameters:\n",
    "                    x (array): A vector of length 2\n",
    "                    y (array): Another vector of length 2\n",
    "\n",
    "            Returns:\n",
    "                    distance (float): The distance between the two input vectors\n",
    "    '''\n",
    "    return np.sqrt(sum((x - y)**2))"
   ]
  },
  {
   "cell_type": "code",
   "execution_count": 16,
   "metadata": {},
   "outputs": [],
   "source": [
    "# 1. \n",
    "assert R(np.array([3,5]),np.array([3,4])) == 1.0"
   ]
  },
  {
   "cell_type": "code",
   "execution_count": 18,
   "metadata": {},
   "outputs": [],
   "source": [
    "#2. \n",
    "assert R(np.array([3,5]),np.array([3,4])) == 1.0\n",
    "assert np.round(R(np.array([2,0]),np.array([0,2])),4) == 2.8284"
   ]
  },
  {
   "cell_type": "code",
   "execution_count": 22,
   "metadata": {},
   "outputs": [],
   "source": [
    "#3. \n",
    "assert R(np.array([3,5]),np.array([3,4]))                     == 1.0\n",
    "assert np.round(R(np.array([2,0]),np.array([0,2])),4)         == 2.8284\n",
    "assert np.round(R(np.array([-100,30]),np.array([-10,-50])),4) == 120.4159"
   ]
  },
  {
   "cell_type": "markdown",
   "metadata": {},
   "source": [
    "## Bonus : (3 points)  \n",
    "Can you \"vectorize\" (i.e. use element-wise vector operations to simplify) this function? "
   ]
  },
  {
   "cell_type": "code",
   "execution_count": null,
   "metadata": {},
   "outputs": [],
   "source": []
  }
 ],
 "metadata": {
  "kernelspec": {
   "display_name": "Python 3",
   "language": "python",
   "name": "python3"
  },
  "language_info": {
   "codemirror_mode": {
    "name": "ipython",
    "version": 3
   },
   "file_extension": ".py",
   "mimetype": "text/x-python",
   "name": "python",
   "nbconvert_exporter": "python",
   "pygments_lexer": "ipython3",
   "version": "3.7.9"
  },
  "latex_envs": {
   "LaTeX_envs_menu_present": true,
   "autoclose": true,
   "autocomplete": true,
   "bibliofile": "ipython.bib",
   "cite_by": "apalike",
   "current_citInitial": 1,
   "eqLabelWithNumbers": true,
   "eqNumInitial": 1,
   "hotkeys": {
    "equation": "Ctrl-E",
    "itemize": "Ctrl-I"
   },
   "labels_anchors": false,
   "latex_user_defs": false,
   "report_style_numbering": false,
   "user_envs_cfg": false
  }
 },
 "nbformat": 4,
 "nbformat_minor": 2
}
