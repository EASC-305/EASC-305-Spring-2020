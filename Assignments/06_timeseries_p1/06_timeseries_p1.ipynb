{
 "cells": [
  {
   "cell_type": "markdown",
   "metadata": {},
   "source": [
    "Before you turn this problem in, make sure everything runs as expected. First, **restart the kernel** (in the menubar, select Kernel$\\rightarrow$Restart) and then **run all cells** (in the menubar, select Cell$\\rightarrow$Run All).\n",
    "\n",
    "Make sure you fill in any place that says `YOUR CODE HERE` or \"YOUR ANSWER HERE\", as well as your name and collaborators below:"
   ]
  },
  {
   "cell_type": "code",
   "execution_count": null,
   "metadata": {},
   "outputs": [],
   "source": [
    "NAME = \"\"\n",
    "COLLABORATORS = \"\""
   ]
  },
  {
   "cell_type": "markdown",
   "metadata": {},
   "source": [
    "---"
   ]
  },
  {
   "cell_type": "markdown",
   "metadata": {
    "deletable": false,
    "editable": false,
    "nbgrader": {
     "cell_type": "markdown",
     "checksum": "5785de8e6dd70f33f1962eb8b1c6a0c5",
     "grade": false,
     "grade_id": "cell-9ad0b2b57f4cf00b",
     "locked": true,
     "schema_version": 3,
     "solution": false,
     "task": false
    }
   },
   "source": [
    "# Lab 6: Time Series Analysis     \n",
    "\n",
    "\n",
    "In this lab, you will be working with real and synthetic time series data to identify relationships within a dataset, and between multiple sets using autocorrelation and cross-correlation techniques.\n",
    "\n",
    "--- "
   ]
  },
  {
   "cell_type": "markdown",
   "metadata": {
    "deletable": false,
    "editable": false,
    "nbgrader": {
     "cell_type": "markdown",
     "checksum": "1811b994297b08e117b6fb93fd645fba",
     "grade": false,
     "grade_id": "cell-00fb1b0ed902e185",
     "locked": true,
     "schema_version": 3,
     "solution": false,
     "task": false
    }
   },
   "source": [
    "# Exercise 1:  \n",
    "\n",
    "__Description__: \n",
    "\n",
    "Load the file `Mag.txt` containing geomagnetic field data (measure in nT) from the [Swedish Magnetic Observatory](http://www2.irf.se/Observatory/?link%5bMagnetometers%5d=Data). Here we will see if any time-varying behaviour of the Earth’s geomagnetic field (as measured in Sweden) is observed. The second column in `Mag.txt` is the useable data. In the interest of saving computational time, only use samples 5000–25000.\n",
    "\n",
    "```python \n",
    "mag = data[5000:25000, 1]\n",
    "```\n",
    "\n",
    "__Questions__:   \n",
    "\n",
    "- Before you begin, normalize the subset of the data by subtracting the mean (of the subset of the data) from each point.\n",
    "\n",
    "  a. What is autocorrelation and what is the result of computing the autocorrelation on a timeseries? __(1 point)__   \n",
    "\n",
    "  b. Write a function that calculates the autocorrelation function of the data. Plot the correlogram next to the original data (only one figure).  __(10 points)__   \n",
    "\n",
    "  c. Is there a long-term trend in the data? If so, remove the trend. Make a plot that demonstrates the trend removal. Discuss the trend you observe.  __( 7 points)__   \n",
    "\n",
    "  d. Visually determine the period of the strongest oscillation in the dataset. Support your answer with a graph zooming in on three sections of the data.  __(3 points)__\n",
    "\n",
    "  e. Confirm your answer to 1.d by computing the mean distance between peaks in the dataset. __(5 points)__\n",
    "  \n",
    "  f. Define aliasing. What is the minimum sampling frequency that can be used for this dataset without aliasing the most prominent periodic component (the component you defined in 1.d and 1.e)? What would happen if it were sampled at this frequency?  __(2 points)__\n",
    "  \n",
    "  g. How would you determine the Nyquist frequency of this data? __(1 points)__"
   ]
  },
  {
   "cell_type": "code",
   "execution_count": null,
   "metadata": {},
   "outputs": [],
   "source": [
    "# load data and normalize here "
   ]
  },
  {
   "cell_type": "markdown",
   "metadata": {
    "deletable": false,
    "editable": false,
    "nbgrader": {
     "cell_type": "markdown",
     "checksum": "65bd459f9e2b707aceabb4a878b38626",
     "grade": false,
     "grade_id": "cell-aab0596eee2a405e",
     "locked": true,
     "schema_version": 3,
     "solution": false,
     "task": false
    }
   },
   "source": [
    "---  \n",
    "a. What is autocorrelation and what is the result of computing the autocorrelation on a timeseries?  __(1 point)__\n",
    "\n",
    "---"
   ]
  },
  {
   "cell_type": "markdown",
   "metadata": {
    "deletable": false,
    "nbgrader": {
     "cell_type": "markdown",
     "checksum": "2ab7db5c2e42c6788eaaaba6e38e1291",
     "grade": true,
     "grade_id": "cell-883ca25cc094c06f",
     "locked": false,
     "points": 1,
     "schema_version": 3,
     "solution": true,
     "task": false
    }
   },
   "source": [
    "YOUR ANSWER HERE"
   ]
  },
  {
   "cell_type": "markdown",
   "metadata": {
    "deletable": false,
    "editable": false,
    "nbgrader": {
     "cell_type": "markdown",
     "checksum": "2bf4c74c848bb132445fdecacfb8797b",
     "grade": false,
     "grade_id": "cell-819b953ae9696fbf",
     "locked": true,
     "schema_version": 3,
     "solution": false,
     "task": false
    }
   },
   "source": [
    "---  \n",
    "b. Write a function that calculates the autocorrelation function of the data. Plot the correlogram under to the original data (only one figure with 2 subplots).  __(10 points)__\n",
    "\n",
    "--- "
   ]
  },
  {
   "cell_type": "code",
   "execution_count": null,
   "metadata": {
    "deletable": false,
    "nbgrader": {
     "cell_type": "code",
     "checksum": "77e101d67ffa4a0806bb61500e3a94ee",
     "grade": true,
     "grade_id": "cell-70758b0e91e3ab6e",
     "locked": false,
     "points": 10,
     "schema_version": 3,
     "solution": true,
     "task": false
    }
   },
   "outputs": [],
   "source": [
    "# YOUR CODE HERE\n",
    "raise NotImplementedError()"
   ]
  },
  {
   "cell_type": "markdown",
   "metadata": {
    "deletable": false,
    "editable": false,
    "nbgrader": {
     "cell_type": "markdown",
     "checksum": "fa0ff1ee1bddcecc4013e1ca5582f212",
     "grade": false,
     "grade_id": "cell-d0a1bb079b9582a1",
     "locked": true,
     "schema_version": 3,
     "solution": false,
     "task": false
    }
   },
   "source": [
    "--- \n",
    "\n",
    "  c. Is there a long-term trend in the data? If so, remove the trend. Make a plot that demonstrates the trend removal. Discuss the trend you observe. __( 7 points)__   \n",
    "\n",
    "\n",
    "---"
   ]
  },
  {
   "cell_type": "code",
   "execution_count": null,
   "metadata": {
    "deletable": false,
    "nbgrader": {
     "cell_type": "code",
     "checksum": "92382351e1558308cb848f5e797b13e1",
     "grade": true,
     "grade_id": "cell-19c2c73b780b5d70",
     "locked": false,
     "points": 5,
     "schema_version": 3,
     "solution": true,
     "task": false
    }
   },
   "outputs": [],
   "source": [
    "# YOUR CODE HERE\n",
    "raise NotImplementedError()"
   ]
  },
  {
   "cell_type": "markdown",
   "metadata": {
    "deletable": false,
    "editable": false,
    "nbgrader": {
     "cell_type": "markdown",
     "checksum": "f00266364acb5ff0dcb91aec80d90040",
     "grade": false,
     "grade_id": "cell-f43ebac5a85b617b",
     "locked": true,
     "points": 2,
     "schema_version": 3,
     "solution": false,
     "task": true
    }
   },
   "source": [
    "2 points for discussion of the long term trend. "
   ]
  },
  {
   "cell_type": "markdown",
   "metadata": {
    "deletable": false,
    "editable": false,
    "nbgrader": {
     "cell_type": "markdown",
     "checksum": "16a50fafe968d6923ef0ded105041d61",
     "grade": false,
     "grade_id": "cell-cdc87b8b5bf3a92b",
     "locked": true,
     "schema_version": 3,
     "solution": false,
     "task": false
    }
   },
   "source": [
    "---\n",
    "d. Visually determine the period of the strongest oscillation in the dataset. Support your answer with a graph zooming in on three sections of the data.  __(3 points)__\n",
    "\n",
    "---"
   ]
  },
  {
   "cell_type": "code",
   "execution_count": null,
   "metadata": {
    "deletable": false,
    "nbgrader": {
     "cell_type": "code",
     "checksum": "3dc92a5decb68562a9e75ba294769a3c",
     "grade": true,
     "grade_id": "cell-7b9807bc06a65d22",
     "locked": false,
     "points": 2,
     "schema_version": 3,
     "solution": true,
     "task": false
    }
   },
   "outputs": [],
   "source": [
    "# YOUR CODE HERE\n",
    "raise NotImplementedError()"
   ]
  },
  {
   "cell_type": "markdown",
   "metadata": {
    "deletable": false,
    "nbgrader": {
     "cell_type": "markdown",
     "checksum": "9d56b2bc28c5d84dea4df7329f90c340",
     "grade": true,
     "grade_id": "cell-4c170f10e6981522",
     "locked": false,
     "points": 1,
     "schema_version": 3,
     "solution": true,
     "task": false
    }
   },
   "source": [
    "YOUR ANSWER HERE"
   ]
  },
  {
   "cell_type": "markdown",
   "metadata": {
    "deletable": false,
    "editable": false,
    "nbgrader": {
     "cell_type": "markdown",
     "checksum": "621008f323c44901136b8791ffd49a64",
     "grade": false,
     "grade_id": "cell-e401a0a6d0ec6e95",
     "locked": true,
     "schema_version": 3,
     "solution": false,
     "task": false
    }
   },
   "source": [
    "----\n",
    " e. Confirm your answer to 1.d by computing the mean distance between peaks in the dataset. __(5 points)__   \n",
    "\n",
    "_Hint_: Try the `find_peaks()` function from `scipy.signal`. Plot your peaks to make sure you are finding the correct peaks. You'll want to looking into the kwarg `distance` to get optimal results. \n",
    "\n",
    "---"
   ]
  },
  {
   "cell_type": "code",
   "execution_count": null,
   "metadata": {
    "deletable": false,
    "nbgrader": {
     "cell_type": "code",
     "checksum": "afd4e34710a6de8c79a3276b86767f30",
     "grade": true,
     "grade_id": "cell-5673592fef84bf86",
     "locked": false,
     "points": 4,
     "schema_version": 3,
     "solution": true,
     "task": false
    }
   },
   "outputs": [],
   "source": [
    "# YOUR CODE HERE\n",
    "raise NotImplementedError()"
   ]
  },
  {
   "cell_type": "code",
   "execution_count": null,
   "metadata": {
    "deletable": false,
    "nbgrader": {
     "cell_type": "code",
     "checksum": "75dcedfc3c9484438c992853de925033",
     "grade": true,
     "grade_id": "cell-6fa6ebe2ec007e42",
     "locked": false,
     "points": 1,
     "schema_version": 3,
     "solution": true,
     "task": false
    }
   },
   "outputs": [],
   "source": [
    "# YOUR CODE HERE\n",
    "raise NotImplementedError()"
   ]
  },
  {
   "cell_type": "markdown",
   "metadata": {
    "deletable": false,
    "editable": false,
    "nbgrader": {
     "cell_type": "markdown",
     "checksum": "78546acfb7ede6401761a6f4cf07734c",
     "grade": false,
     "grade_id": "cell-c699c62a2bf50a01",
     "locked": true,
     "schema_version": 3,
     "solution": false,
     "task": false
    }
   },
   "source": [
    "---  \n",
    " f. Define aliasing. What is the minimum sampling frequency that can be used for this dataset without aliasing the most prominent periodic component (the component you defined in 1.d and 1.e)? What would happen if it were sampled at this frequency? __(2 points)__\n",
    " \n",
    "---"
   ]
  },
  {
   "cell_type": "markdown",
   "metadata": {
    "deletable": false,
    "nbgrader": {
     "cell_type": "markdown",
     "checksum": "40e1c4c75605280684492c129bab5f3b",
     "grade": true,
     "grade_id": "cell-d5b2ef691beefb31",
     "locked": false,
     "points": 2,
     "schema_version": 3,
     "solution": true,
     "task": false
    }
   },
   "source": [
    "YOUR ANSWER HERE"
   ]
  },
  {
   "cell_type": "markdown",
   "metadata": {
    "deletable": false,
    "editable": false,
    "nbgrader": {
     "cell_type": "markdown",
     "checksum": "38855b481d1b67088fd99636684a2c82",
     "grade": false,
     "grade_id": "cell-73e32607854644f8",
     "locked": true,
     "schema_version": 3,
     "solution": false,
     "task": false
    }
   },
   "source": [
    "---\n",
    " g. How would you determine the Nyquist frequency of this data? __(1 points)__   \n",
    " \n",
    "---"
   ]
  },
  {
   "cell_type": "markdown",
   "metadata": {
    "deletable": false,
    "nbgrader": {
     "cell_type": "markdown",
     "checksum": "ad283a3b254b4220ed1facaff9918cd7",
     "grade": true,
     "grade_id": "cell-1b25cad5057a742d",
     "locked": false,
     "points": 1,
     "schema_version": 3,
     "solution": true,
     "task": false
    }
   },
   "source": [
    "YOUR ANSWER HERE"
   ]
  },
  {
   "cell_type": "markdown",
   "metadata": {
    "deletable": false,
    "editable": false,
    "nbgrader": {
     "cell_type": "markdown",
     "checksum": "3499064c3dca8aed9c0a6fa46c780ba0",
     "grade": false,
     "grade_id": "cell-caf3ad075207eb76",
     "locked": true,
     "schema_version": 3,
     "solution": false,
     "task": false
    }
   },
   "source": [
    "# Exercise 2: \n",
    "\n",
    "__Description__: Load the synthetic data file `synthData.mat` using `SciPy`'s `io` library. The data `radiation` and `curium` were collected from planet Astatine, in a galaxy far away, with measurements made using a constant sample interval of _two hours_. Data `radiation` is a record of the incoming longwave radiation and `curium` represents the concentration of curium gas in the lower atmosphere.\n",
    "\n",
    "\n",
    "__Questions__:    \n",
    "\n",
    "  a. What is the Nyquist frequency associated with the sampling interval used to generate these datasets? __(1 point)__   \n",
    "  \n",
    "  b. Adapt your previous function to calculate the cross-correlation between radiation and curium gas. Plot your cross-correlogram and the original data on the same figure. Describe the relationship between the two data sets. __(11 points)__   \n",
    "  \n",
    "  c. Assume that the shorter period oscillations in the radiation data are diurnal. How long is a day on Astatine? How long is a year? Use figures to support your claims. __(8 Points)__\n"
   ]
  },
  {
   "cell_type": "code",
   "execution_count": null,
   "metadata": {},
   "outputs": [],
   "source": [
    "# Read in the data here"
   ]
  },
  {
   "cell_type": "markdown",
   "metadata": {
    "deletable": false,
    "editable": false,
    "nbgrader": {
     "cell_type": "markdown",
     "checksum": "d0c129d283c4910121afba1731c6bf7a",
     "grade": false,
     "grade_id": "cell-685da40f1017564b",
     "locked": true,
     "schema_version": 3,
     "solution": false,
     "task": false
    }
   },
   "source": [
    "---\n",
    "\n",
    "  a. What is the Nyquist frequency associated with the sampling interval used to generate these datasets? __(1 point)__   \n",
    "  \n",
    "  \n",
    "---"
   ]
  },
  {
   "cell_type": "markdown",
   "metadata": {
    "deletable": false,
    "nbgrader": {
     "cell_type": "markdown",
     "checksum": "905261f7cd664d9194d483ca98232da0",
     "grade": true,
     "grade_id": "cell-d02f2fe18a91d1dd",
     "locked": false,
     "points": 1,
     "schema_version": 3,
     "solution": true,
     "task": false
    }
   },
   "source": [
    "YOUR ANSWER HERE"
   ]
  },
  {
   "cell_type": "markdown",
   "metadata": {
    "deletable": false,
    "editable": false,
    "nbgrader": {
     "cell_type": "markdown",
     "checksum": "4edfd2294c3b3550250ab709051143f5",
     "grade": false,
     "grade_id": "cell-4caefd163e08d10e",
     "locked": true,
     "schema_version": 3,
     "solution": false,
     "task": false
    }
   },
   "source": [
    "---\n",
    "b. Adapt your previous function to calculate the cross-correlation between radiation and curium gas. Plot your cross-correlogram and the original data on the same figure (but on different subplots). Describe the relationship between the two data sets. __(11 points)__\n",
    "\n",
    "---"
   ]
  },
  {
   "cell_type": "code",
   "execution_count": null,
   "metadata": {
    "deletable": false,
    "nbgrader": {
     "cell_type": "code",
     "checksum": "9a978b83b7bfbb888cc0106922ada389",
     "grade": true,
     "grade_id": "cell-185cb4cc5527c8d9",
     "locked": false,
     "points": 4,
     "schema_version": 3,
     "solution": true,
     "task": false
    }
   },
   "outputs": [],
   "source": [
    "# YOUR CODE HERE\n",
    "raise NotImplementedError()"
   ]
  },
  {
   "cell_type": "code",
   "execution_count": null,
   "metadata": {
    "deletable": false,
    "nbgrader": {
     "cell_type": "code",
     "checksum": "eed2426f11651c40b0ced36463a60b60",
     "grade": true,
     "grade_id": "cell-b5595e3d45b01623",
     "locked": false,
     "points": 4,
     "schema_version": 3,
     "solution": true,
     "task": false
    }
   },
   "outputs": [],
   "source": [
    "# YOUR CODE HERE\n",
    "raise NotImplementedError()"
   ]
  },
  {
   "cell_type": "markdown",
   "metadata": {
    "deletable": false,
    "nbgrader": {
     "cell_type": "markdown",
     "checksum": "7878a5c6769e18b2fc2da79f3e838fb5",
     "grade": true,
     "grade_id": "cell-2eb04f491f3b15c7",
     "locked": false,
     "points": 3,
     "schema_version": 3,
     "solution": true,
     "task": false
    }
   },
   "source": [
    "YOUR ANSWER HERE"
   ]
  },
  {
   "cell_type": "markdown",
   "metadata": {
    "deletable": false,
    "editable": false,
    "nbgrader": {
     "cell_type": "markdown",
     "checksum": "d621ecb58c59cea8c39bb7abcb4fd4be",
     "grade": false,
     "grade_id": "cell-5491339f356bb6c9",
     "locked": true,
     "schema_version": 3,
     "solution": false,
     "task": false
    }
   },
   "source": [
    "---\n",
    "  c. Assume that the shorter period oscillations in the radiation data are diurnal. Which mean the longer period trend is the annual cycle. How long is a day on Astatine? How long is a year? Use figures to support your claims. __(4 Points)__\n",
    "  \n",
    "__Hint__: Zoom into a smaller window of the data and use the `find_peaks` function (from `scipy.signal`) to find daily maximum. You'll need to tweak the distance _kwarg_. \n",
    "\n",
    "\n",
    "---"
   ]
  },
  {
   "cell_type": "code",
   "execution_count": null,
   "metadata": {
    "deletable": false,
    "nbgrader": {
     "cell_type": "code",
     "checksum": "300dccf8c765901efaaf7f17a7037cdb",
     "grade": true,
     "grade_id": "cell-46e1c0d24ee8485d",
     "locked": false,
     "points": 2,
     "schema_version": 3,
     "solution": true,
     "task": false
    }
   },
   "outputs": [],
   "source": [
    "# YOUR CODE HERE\n",
    "raise NotImplementedError()"
   ]
  },
  {
   "cell_type": "markdown",
   "metadata": {
    "deletable": false,
    "nbgrader": {
     "cell_type": "markdown",
     "checksum": "5c3b1b762ffd44e3eeae2f624570b910",
     "grade": true,
     "grade_id": "cell-8194a60bd7d444f1",
     "locked": false,
     "points": 2,
     "schema_version": 3,
     "solution": true,
     "task": false
    }
   },
   "source": [
    "YOUR ANSWER HERE"
   ]
  },
  {
   "cell_type": "markdown",
   "metadata": {
    "deletable": false,
    "editable": false,
    "nbgrader": {
     "cell_type": "markdown",
     "checksum": "4b6d8abc67fe10759903aa400481372e",
     "grade": false,
     "grade_id": "cell-1852dfe8c7e7cad5",
     "locked": true,
     "schema_version": 3,
     "solution": false,
     "task": false
    }
   },
   "source": [
    "----\n",
    "d. Is there a long-term trends in curium concentration? If so, remove the trend. Fit a sinusoidal function to the detrended (if needed) data using the `curve_fit` function from the `scipy.optimize` library. Discuss the long-term trends, period, signals and noise you observe in the curium data. Make a plot summarizing this (e.g. raw data, long term trend, detrended data, and sinusoidal fit curve). __(8 Points)__\n",
    "\n",
    "Assume the curve takes the approximate form: \n",
    "\n",
    "$$\n",
    "f(x) = D + A*\\cos\\left( B(x-C) \\right)\n",
    "$$\n",
    "\n",
    "where: \n",
    "  - $A$ = Amplitude  \n",
    "  - $B$ = 2$\\pi$/Period   \n",
    "  - $C$ = Phase shift (in x)  \n",
    "  - $D$ = ‘vertical’ shift (in y)\n",
    "\n",
    "Use the [`curve_fit` function](https://docs.scipy.org/doc/scipy/reference/generated/scipy.optimize.curve_fit.html) from the `scipy.optimize` library to find the optimal values of $A$, $B$, $C$, and $D$. \n",
    "\n",
    "__Note__: The kwarg `p0` from `curve_fit` is pivotal for getting the correct answers here. `p0` is an initial guess for each parameter. Use information gleamed in previous question to come up with suitable initial guesses. An appropriate guess for $B$ will be _VERY_ important for getting correct answers. We want to optimize the curve for the annual cycle not the higher frequency diurnal signal. \n",
    "\n",
    "  \n",
    "---"
   ]
  },
  {
   "cell_type": "code",
   "execution_count": null,
   "metadata": {
    "deletable": false,
    "nbgrader": {
     "cell_type": "code",
     "checksum": "370d0a1e897df4926b2fd3786d0f4fdb",
     "grade": true,
     "grade_id": "cell-668630bf0e191dd5",
     "locked": false,
     "points": 6,
     "schema_version": 3,
     "solution": true,
     "task": false
    }
   },
   "outputs": [],
   "source": [
    "# YOUR CODE HERE\n",
    "raise NotImplementedError()"
   ]
  },
  {
   "cell_type": "code",
   "execution_count": null,
   "metadata": {
    "deletable": false,
    "nbgrader": {
     "cell_type": "code",
     "checksum": "e66d064a3ada1a21b0250e78c86ef9b8",
     "grade": true,
     "grade_id": "cell-6636f6d873f98af8",
     "locked": false,
     "points": 0,
     "schema_version": 3,
     "solution": true,
     "task": false
    }
   },
   "outputs": [],
   "source": [
    "# YOUR CODE HERE\n",
    "raise NotImplementedError()"
   ]
  },
  {
   "cell_type": "markdown",
   "metadata": {
    "deletable": false,
    "nbgrader": {
     "cell_type": "markdown",
     "checksum": "2450ac9860a05d87e6f6178997ee615d",
     "grade": true,
     "grade_id": "cell-a96e073611d36aed",
     "locked": false,
     "points": 2,
     "schema_version": 3,
     "solution": true,
     "task": false
    }
   },
   "source": [
    "YOUR ANSWER HERE"
   ]
  },
  {
   "cell_type": "code",
   "execution_count": null,
   "metadata": {},
   "outputs": [],
   "source": [
    "# Feel free to add more cells if needed"
   ]
  }
 ],
 "metadata": {
  "kernelspec": {
   "display_name": "Python 3",
   "language": "python",
   "name": "python3"
  },
  "language_info": {
   "codemirror_mode": {
    "name": "ipython",
    "version": 3
   },
   "file_extension": ".py",
   "mimetype": "text/x-python",
   "name": "python",
   "nbconvert_exporter": "python",
   "pygments_lexer": "ipython3",
   "version": "3.7.9"
  },
  "latex_envs": {
   "LaTeX_envs_menu_present": true,
   "autoclose": true,
   "autocomplete": true,
   "bibliofile": "ipython.bib",
   "cite_by": "apalike",
   "current_citInitial": 1,
   "eqLabelWithNumbers": true,
   "eqNumInitial": 1,
   "hotkeys": {
    "equation": "Ctrl-E",
    "itemize": "Ctrl-I"
   },
   "labels_anchors": false,
   "latex_user_defs": false,
   "report_style_numbering": false,
   "user_envs_cfg": false
  }
 },
 "nbformat": 4,
 "nbformat_minor": 4
}
