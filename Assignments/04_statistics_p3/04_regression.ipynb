{
 "cells": [
  {
   "cell_type": "markdown",
   "metadata": {},
   "source": [
    "Before you turn this problem in, make sure everything runs as expected. First, **restart the kernel** (in the menubar, select Kernel$\\rightarrow$Restart) and then **run all cells** (in the menubar, select Cell$\\rightarrow$Run All).\n",
    "\n",
    "Make sure you fill in any place that says `YOUR CODE HERE` or \"YOUR ANSWER HERE\", as well as your name and collaborators below:"
   ]
  },
  {
   "cell_type": "code",
   "execution_count": null,
   "metadata": {},
   "outputs": [],
   "source": [
    "NAME = \"\"\n",
    "COLLABORATORS = \"\""
   ]
  },
  {
   "cell_type": "markdown",
   "metadata": {},
   "source": [
    "---"
   ]
  },
  {
   "cell_type": "markdown",
   "metadata": {
    "deletable": false,
    "editable": false,
    "nbgrader": {
     "cell_type": "markdown",
     "checksum": "8d15108a1215cabdfe9f407f3ddfc67a",
     "grade": false,
     "grade_id": "cell-114b2e340ec4726b",
     "locked": true,
     "schema_version": 3,
     "solution": false,
     "task": false
    }
   },
   "source": [
    "# Lab 4: Bivariate Statistics and Regression  \n",
    "\n",
    "In this lab, you will be using glacier mass-balance data collected by the SFU Glaciology Group. \n",
    "You will use these data to explore linear and non-linear relationships between dependent and independent variables.\n",
    "\n",
    "__Background__:  \n",
    "\n",
    "Ablation is any form of glacier mass loss, expressed in units of equivalent water depth. \n",
    "Ablation can be estimated locally by repeated measurements of stake height over time (stakes get taller as they melt out), combined with a known measured density of the material (e.g. snow, ice) being lost. \n",
    "This allows a calculation of mass loss expressed as the equivalent depth of water.\n",
    "\n",
    "Run the script 1 `load_data.py`. The output shows:  \n",
    "  - Left Subplot: An array of stake locations from 2009 and 2012 within the glacier outline overlain on a map of surface elevations (colour, m above sea level). The x-y coordinates are UTM Easting (m) and UTM Northing (m).   \n",
    "  - Right Subplot: Ablation rate (cm of water-equivalent loss per day) measured in 2009 and 2012 at the stake locations plotted as a function of elevation.  \n",
    "\n",
    "As you can see in right subplot, ablation appears to be a function of elevation. But what is the dependence? To answer this question, complete the following questions."
   ]
  },
  {
   "cell_type": "code",
   "execution_count": null,
   "metadata": {},
   "outputs": [],
   "source": [
    "%matplotlib notebook\n",
    "%run load_data.py\n",
    "plt.show()"
   ]
  },
  {
   "cell_type": "code",
   "execution_count": null,
   "metadata": {},
   "outputs": [],
   "source": [
    "import numpy as np\n",
    "import pandas as pd \n",
    "import scipy.linalg as LA\n",
    "\n",
    "ablation_2009 = pd.read_csv('GL1_stake_ablation_2009.csv',index_col=0)\n",
    "ablation_2012 = pd.read_csv('GL1_stake_ablation_2012.csv',index_col=0)"
   ]
  },
  {
   "cell_type": "code",
   "execution_count": null,
   "metadata": {},
   "outputs": [],
   "source": [
    "ablation_2009.head()"
   ]
  },
  {
   "cell_type": "markdown",
   "metadata": {
    "deletable": false,
    "editable": false,
    "nbgrader": {
     "cell_type": "markdown",
     "checksum": "f0199b790d3fa071be43b3af9c2a7592",
     "grade": false,
     "grade_id": "cell-bfa5bada00cee890",
     "locked": true,
     "schema_version": 3,
     "solution": false,
     "task": false
    }
   },
   "source": [
    "---   \n",
    "\n",
    "### Exercise 1: (9 pts)\n",
    "\n",
    "1. Why are bivariate statistics useful in Earth Science?  \n",
    "2. What is covariance and Pearson’s correlation coefficient?  \n",
    "3. Calculate Pearson’s correlation coefficient between ablation rate and elevation for each of the two data sets individually (2009 ablation rate vs. elevation, 2012 ablation rate vs. elevation). Do these two values suggest a relationship between ablation rate and elevation? If so, is the relationship linear?\n",
    "\n",
    "---   "
   ]
  },
  {
   "cell_type": "markdown",
   "metadata": {
    "deletable": false,
    "editable": false,
    "nbgrader": {
     "cell_type": "markdown",
     "checksum": "afd4ff6aa2eb76ab160e396d09eb1ef3",
     "grade": false,
     "grade_id": "cell-8935f6dfebf532d2",
     "locked": true,
     "schema_version": 3,
     "solution": false,
     "task": false
    }
   },
   "source": [
    "---\n",
    "1. Why are bivariate statistics useful in Earth Science?  \n",
    "---"
   ]
  },
  {
   "cell_type": "markdown",
   "metadata": {
    "deletable": false,
    "nbgrader": {
     "cell_type": "markdown",
     "checksum": "9e683d8f54ae7ded8e03476670b0a1d4",
     "grade": true,
     "grade_id": "cell-4bd60ccd6f060352",
     "locked": false,
     "points": 3,
     "schema_version": 3,
     "solution": true,
     "task": false
    }
   },
   "source": [
    "YOUR ANSWER HERE"
   ]
  },
  {
   "cell_type": "markdown",
   "metadata": {
    "deletable": false,
    "editable": false,
    "nbgrader": {
     "cell_type": "markdown",
     "checksum": "3186784f87cabdd87d201ebcbb81cc67",
     "grade": false,
     "grade_id": "cell-14c986534fd0cce1",
     "locked": true,
     "schema_version": 3,
     "solution": false,
     "task": false
    }
   },
   "source": [
    "---\n",
    "2. What is covariance and Pearson’s correlation coefficient?  \n",
    "---"
   ]
  },
  {
   "cell_type": "markdown",
   "metadata": {
    "deletable": false,
    "nbgrader": {
     "cell_type": "markdown",
     "checksum": "ea7f3fce1ad364ef4ed3e72776d0e441",
     "grade": true,
     "grade_id": "cell-1c105d35ec019dac",
     "locked": false,
     "points": 3,
     "schema_version": 3,
     "solution": true,
     "task": false
    }
   },
   "source": [
    "YOUR ANSWER HERE"
   ]
  },
  {
   "cell_type": "markdown",
   "metadata": {
    "deletable": false,
    "editable": false,
    "nbgrader": {
     "cell_type": "markdown",
     "checksum": "89e7beb5a42df2cad9b034b6725d5600",
     "grade": false,
     "grade_id": "cell-0bf7a2d174a337f9",
     "locked": true,
     "schema_version": 3,
     "solution": false,
     "task": false
    }
   },
   "source": [
    "---\n",
    "3. Calculate Pearson’s correlation coefficient between ablation rate and elevation for each of the two data sets individually (2009 ablation rate vs. elevation, 2012 ablation rate vs. elevation). Do these two values suggest a relationship between ablation rate and elevation? If so, is the relationship linear?\n",
    "---"
   ]
  },
  {
   "cell_type": "code",
   "execution_count": null,
   "metadata": {
    "deletable": false,
    "nbgrader": {
     "cell_type": "code",
     "checksum": "9aea89c34bb8c1456f166489cf41d9df",
     "grade": true,
     "grade_id": "cell-23aa6ec6657c5e6f",
     "locked": false,
     "points": 3,
     "schema_version": 3,
     "solution": true,
     "task": false
    }
   },
   "outputs": [],
   "source": [
    "# YOUR CODE HERE\n",
    "raise NotImplementedError()"
   ]
  },
  {
   "cell_type": "markdown",
   "metadata": {
    "deletable": false,
    "nbgrader": {
     "cell_type": "markdown",
     "checksum": "5c589e63cb3abdad6295372640db0e50",
     "grade": true,
     "grade_id": "cell-81a0a350831bb91e",
     "locked": false,
     "points": 0,
     "schema_version": 3,
     "solution": true,
     "task": false
    }
   },
   "source": [
    "YOUR ANSWER HERE"
   ]
  },
  {
   "cell_type": "markdown",
   "metadata": {
    "deletable": false,
    "editable": false,
    "nbgrader": {
     "cell_type": "markdown",
     "checksum": "aa2e64548ac61053fc0c2e0bd3d8c660",
     "grade": false,
     "grade_id": "cell-457ef4aedcc0b3dc",
     "locked": true,
     "schema_version": 3,
     "solution": false,
     "task": false
    }
   },
   "source": [
    "---   \n",
    "\n",
    "### Exercise 2: (7 pts)\n",
    "\n",
    "1. Write a function to calculate the slope and intercept of a classical least-squares regression line with generic input data vectors `x` and `y`. You can use the functions `np.sum()`, `len()`, `np.mean()`, and `LA.inv()`. The slope and y-intercept should be the function outputs.  \n",
    "\n",
    "2. Calculate the slopes and intercepts of the two data sets (2009 ablation rate vs. elevation, 2012 ablation rate vs. elevation) using your function. Print your answer to the console. Use this information to plot a regression line on the same plot as your data.   \n",
    "\n",
    "---"
   ]
  },
  {
   "cell_type": "code",
   "execution_count": null,
   "metadata": {
    "deletable": false,
    "nbgrader": {
     "cell_type": "code",
     "checksum": "3b7b1616c8c1a3a1302c94e5122fa4a7",
     "grade": true,
     "grade_id": "cell-82b17880b1eab676",
     "locked": false,
     "points": 4,
     "schema_version": 3,
     "solution": true,
     "task": false
    }
   },
   "outputs": [],
   "source": [
    "# YOUR CODE HERE\n",
    "raise NotImplementedError()"
   ]
  },
  {
   "cell_type": "code",
   "execution_count": null,
   "metadata": {
    "deletable": false,
    "nbgrader": {
     "cell_type": "code",
     "checksum": "b693d4df49e04acb2f6e1f9b468551dc",
     "grade": true,
     "grade_id": "cell-3addda1197c9bb53",
     "locked": false,
     "points": 3,
     "schema_version": 3,
     "solution": true,
     "task": false
    }
   },
   "outputs": [],
   "source": [
    "# YOUR CODE HERE\n",
    "raise NotImplementedError()"
   ]
  },
  {
   "cell_type": "markdown",
   "metadata": {
    "deletable": false,
    "editable": false,
    "nbgrader": {
     "cell_type": "markdown",
     "checksum": "833ebbe51160ea6fd13b3698dc919325",
     "grade": false,
     "grade_id": "cell-565d6bc3ca369780",
     "locked": true,
     "schema_version": 3,
     "solution": false,
     "task": false
    }
   },
   "source": [
    "---  \n",
    "\n",
    "### Exercise 3 (5 pts):\n",
    "\n",
    "1. Calculate the correlation coefficient between the observed and estimated values of ablation rate using the ratio of the sum of squares of the regression ($SSR$) and the total sun of the squares ($SST$).  _Hint_ : write a function for each. \n",
    "\n",
    "2. What do the correlation coefficients mean? Would the values of the ablation rate estimated by the regression in one year be appropriate estimates of ablation rate in the other year?  \n",
    "\n",
    "---"
   ]
  },
  {
   "cell_type": "markdown",
   "metadata": {
    "deletable": false,
    "editable": false,
    "nbgrader": {
     "cell_type": "markdown",
     "checksum": "8f7d584c21719f79bee8ba92ecd3cd3c",
     "grade": false,
     "grade_id": "cell-c6b5cae3d751a2cd",
     "locked": true,
     "schema_version": 3,
     "solution": false,
     "task": false
    }
   },
   "source": [
    "---\n",
    "1. Calculate the correlation coefficient between the observed and estimated values of ablation rate using the ratio of the sum of squares of the regression ($SSR$) and the total sun of the squares ($SST$).  \n",
    "---"
   ]
  },
  {
   "cell_type": "code",
   "execution_count": null,
   "metadata": {
    "deletable": false,
    "nbgrader": {
     "cell_type": "code",
     "checksum": "738287722a44b69ceea74b00acf9314b",
     "grade": true,
     "grade_id": "cell-e34c83c5cf14ef12",
     "locked": false,
     "points": 3,
     "schema_version": 3,
     "solution": true,
     "task": false
    }
   },
   "outputs": [],
   "source": [
    "# YOUR CODE HERE\n",
    "raise NotImplementedError()"
   ]
  },
  {
   "cell_type": "markdown",
   "metadata": {
    "deletable": false,
    "editable": false,
    "nbgrader": {
     "cell_type": "markdown",
     "checksum": "d8bd8c1b3fcff8c56ed529be14bd6db5",
     "grade": false,
     "grade_id": "cell-c8c605a3d5d3e691",
     "locked": true,
     "schema_version": 3,
     "solution": false,
     "task": false
    }
   },
   "source": [
    "---\n",
    "2. What do the correlation coefficients mean? Would the values of the ablation rate estimated by the regression in one year be appropriate estimates of ablation rate in the other year?\n",
    "---"
   ]
  },
  {
   "cell_type": "markdown",
   "metadata": {
    "deletable": false,
    "nbgrader": {
     "cell_type": "markdown",
     "checksum": "54ec8879256086b66e108d82a0e35dd9",
     "grade": true,
     "grade_id": "cell-cc96d32fdf5fae5a",
     "locked": false,
     "points": 2,
     "schema_version": 3,
     "solution": true,
     "task": false
    }
   },
   "source": [
    "YOUR ANSWER HERE"
   ]
  },
  {
   "cell_type": "markdown",
   "metadata": {
    "deletable": false,
    "editable": false,
    "nbgrader": {
     "cell_type": "markdown",
     "checksum": "fa4f57c4cd74e3f99618befdda64c787",
     "grade": false,
     "grade_id": "cell-c0921e203eb11d30",
     "locked": true,
     "schema_version": 3,
     "solution": false,
     "task": false
    }
   },
   "source": [
    "---\n",
    "### Exercise 4: (5 pts)\n",
    "\n",
    "1. Plot a histogram of the residuals of the regression for each dataset. You may you `plt.hist()` if you would like.  \n",
    "\n",
    "2. How would you determine if the residuals are normally distributed?  \n",
    "\n",
    "3. What can you say about the data and the regression if the residuals have a Gaussian distribution?  \n",
    "\n",
    "---"
   ]
  },
  {
   "cell_type": "markdown",
   "metadata": {
    "deletable": false,
    "editable": false,
    "nbgrader": {
     "cell_type": "markdown",
     "checksum": "7e02614418398399aca9d1c00f3083f2",
     "grade": false,
     "grade_id": "cell-a9885ba9920af530",
     "locked": true,
     "schema_version": 3,
     "solution": false,
     "task": false
    }
   },
   "source": [
    "---\n",
    "1. Plot a histogram of the residuals of the regression for each dataset. You may you `plt.hist()` if you would like.  \n",
    "---"
   ]
  },
  {
   "cell_type": "code",
   "execution_count": null,
   "metadata": {
    "deletable": false,
    "nbgrader": {
     "cell_type": "code",
     "checksum": "d65849f57880f63d68111b9c8c27438a",
     "grade": true,
     "grade_id": "cell-93970c454c9541f7",
     "locked": false,
     "points": 2,
     "schema_version": 3,
     "solution": true,
     "task": false
    }
   },
   "outputs": [],
   "source": [
    "# YOUR CODE HERE\n",
    "raise NotImplementedError()"
   ]
  },
  {
   "cell_type": "markdown",
   "metadata": {
    "deletable": false,
    "editable": false,
    "nbgrader": {
     "cell_type": "markdown",
     "checksum": "62ddc7c1e35c7192b31cc5bfcf7261ef",
     "grade": false,
     "grade_id": "cell-63539448d049b42f",
     "locked": true,
     "schema_version": 3,
     "solution": false,
     "task": false
    }
   },
   "source": [
    "---\n",
    "2. How would you determine if the residuals are normally distributed?  \n",
    "---"
   ]
  },
  {
   "cell_type": "markdown",
   "metadata": {
    "deletable": false,
    "nbgrader": {
     "cell_type": "markdown",
     "checksum": "61ad799c34b5771a533b22cba6565169",
     "grade": true,
     "grade_id": "cell-e3e806d5f7d31a1e",
     "locked": false,
     "points": 1,
     "schema_version": 3,
     "solution": true,
     "task": false
    }
   },
   "source": [
    "YOUR ANSWER HERE"
   ]
  },
  {
   "cell_type": "markdown",
   "metadata": {
    "deletable": false,
    "editable": false,
    "nbgrader": {
     "cell_type": "markdown",
     "checksum": "eda1012b4adab549cb27cd820541aa1c",
     "grade": false,
     "grade_id": "cell-aedb2febc23cf3b5",
     "locked": true,
     "schema_version": 3,
     "solution": false,
     "task": false
    }
   },
   "source": [
    "---\n",
    "3. What can you say about the data and the regression if the residuals have a Gaussian distribution?  \n",
    "---"
   ]
  },
  {
   "cell_type": "markdown",
   "metadata": {
    "deletable": false,
    "nbgrader": {
     "cell_type": "markdown",
     "checksum": "00b0180046700f6b1f708fc61b56eb46",
     "grade": true,
     "grade_id": "cell-91ded76103233cd6",
     "locked": false,
     "points": 2,
     "schema_version": 3,
     "solution": true,
     "task": false
    }
   },
   "source": [
    "YOUR ANSWER HERE"
   ]
  },
  {
   "cell_type": "markdown",
   "metadata": {
    "deletable": false,
    "editable": false,
    "nbgrader": {
     "cell_type": "markdown",
     "checksum": "60665da29378f13f5d61b42eb7240daf",
     "grade": false,
     "grade_id": "cell-c56ae1cc650827f0",
     "locked": true,
     "schema_version": 3,
     "solution": false,
     "task": false
    }
   },
   "source": [
    "---\n",
    "### Exercise 5: (5 pts)  \n",
    "\n",
    "\n",
    "1. What can an _ANOVA_ tell you?  \n",
    "2. Evaluate the significance of fit of the regressions to the data using an _ANOVA_.  \n",
    "3. What is your interpretation of the _ANOVA_ results?  \n",
    "---"
   ]
  },
  {
   "cell_type": "markdown",
   "metadata": {
    "deletable": false,
    "editable": false,
    "nbgrader": {
     "cell_type": "markdown",
     "checksum": "98f01b356d04135a4f13524957e60779",
     "grade": false,
     "grade_id": "cell-7334a3942c99c720",
     "locked": true,
     "schema_version": 3,
     "solution": false,
     "task": false
    }
   },
   "source": [
    "---\n",
    "1. What can an _ANOVA_ tell you?  \n",
    "---"
   ]
  },
  {
   "cell_type": "markdown",
   "metadata": {
    "deletable": false,
    "nbgrader": {
     "cell_type": "markdown",
     "checksum": "105b1756c1b133daed172343ca9a781a",
     "grade": true,
     "grade_id": "cell-8de2403a8c5c789a",
     "locked": false,
     "points": 1,
     "schema_version": 3,
     "solution": true,
     "task": false
    }
   },
   "source": [
    "YOUR ANSWER HERE"
   ]
  },
  {
   "cell_type": "markdown",
   "metadata": {
    "deletable": false,
    "editable": false,
    "nbgrader": {
     "cell_type": "markdown",
     "checksum": "e3adb298ec3525c5387fa4548404defe",
     "grade": false,
     "grade_id": "cell-3f9ff6574f3bfd40",
     "locked": true,
     "schema_version": 3,
     "solution": false,
     "task": false
    }
   },
   "source": [
    "---\n",
    "2. Evaluate the significance of fit of the regressions to the data using an _ANOVA_.  \n",
    "---"
   ]
  },
  {
   "cell_type": "code",
   "execution_count": null,
   "metadata": {
    "deletable": false,
    "nbgrader": {
     "cell_type": "code",
     "checksum": "14501d1dd86e49e53106d1548abe3a68",
     "grade": true,
     "grade_id": "cell-ab9684dd6a93744e",
     "locked": false,
     "points": 2,
     "schema_version": 3,
     "solution": true,
     "task": false
    }
   },
   "outputs": [],
   "source": [
    "# YOUR CODE HERE\n",
    "raise NotImplementedError()"
   ]
  },
  {
   "cell_type": "markdown",
   "metadata": {
    "deletable": false,
    "editable": false,
    "nbgrader": {
     "cell_type": "markdown",
     "checksum": "ba35e00e5e68dd4b17b347fa7faec964",
     "grade": false,
     "grade_id": "cell-764dbc98d579f281",
     "locked": true,
     "schema_version": 3,
     "solution": false,
     "task": false
    }
   },
   "source": [
    "---\n",
    "3. What is your interpretation of the _ANOVA_ results?  \n",
    "---"
   ]
  },
  {
   "cell_type": "markdown",
   "metadata": {
    "deletable": false,
    "nbgrader": {
     "cell_type": "markdown",
     "checksum": "d15a0df96a964a1a5a173ae7af240225",
     "grade": true,
     "grade_id": "cell-0b78aef927fd8b73",
     "locked": false,
     "points": 2,
     "schema_version": 3,
     "solution": true,
     "task": false
    }
   },
   "source": [
    "YOUR ANSWER HERE"
   ]
  },
  {
   "cell_type": "markdown",
   "metadata": {
    "deletable": false,
    "editable": false,
    "nbgrader": {
     "cell_type": "markdown",
     "checksum": "117cc89c2a49e6b07c3af8d324a86146",
     "grade": false,
     "grade_id": "cell-85ff342a43e53c93",
     "locked": true,
     "schema_version": 3,
     "solution": false,
     "task": false
    }
   },
   "source": [
    "---\n",
    "### Exercise 6: (10 pts)  \n",
    "\n",
    "1. What does the reduced major axis linear regression do?  \n",
    "2. Write a second function to compute the reduced major axis linear regression.  \n",
    "3. Plot these regression lines with the data and with the classical linear regression lines.  \n",
    "4. How do these regressions compare to the classical regressions?  \n",
    "5. How would you decide to which regression type is the most appropriate for a particular problem?  \n",
    "---"
   ]
  },
  {
   "cell_type": "markdown",
   "metadata": {
    "deletable": false,
    "editable": false,
    "nbgrader": {
     "cell_type": "markdown",
     "checksum": "47a0fde4eea5cde5e2e67b4abd358096",
     "grade": false,
     "grade_id": "cell-a144c44516a35b5e",
     "locked": true,
     "schema_version": 3,
     "solution": false,
     "task": false
    }
   },
   "source": [
    "---\n",
    "1. What does the reduced major axis linear regression do?  \n",
    "---"
   ]
  },
  {
   "cell_type": "markdown",
   "metadata": {
    "deletable": false,
    "nbgrader": {
     "cell_type": "markdown",
     "checksum": "2e9bef96104f49322e793a8cc27ef485",
     "grade": true,
     "grade_id": "cell-ccbe4bb115d3d3ff",
     "locked": false,
     "points": 1,
     "schema_version": 3,
     "solution": true,
     "task": false
    }
   },
   "source": [
    "YOUR ANSWER HERE"
   ]
  },
  {
   "cell_type": "markdown",
   "metadata": {
    "deletable": false,
    "editable": false,
    "nbgrader": {
     "cell_type": "markdown",
     "checksum": "9b435d1c66b7482fc0bdffe172f2048a",
     "grade": false,
     "grade_id": "cell-9741ec93eccab7f2",
     "locked": true,
     "schema_version": 3,
     "solution": false,
     "task": false
    }
   },
   "source": [
    "---\n",
    "2. Write a second function to compute the reduced major axis linear regression.  \n",
    "---"
   ]
  },
  {
   "cell_type": "code",
   "execution_count": null,
   "metadata": {
    "deletable": false,
    "nbgrader": {
     "cell_type": "code",
     "checksum": "7d3898651635f9e67f512e49fa9d443e",
     "grade": true,
     "grade_id": "cell-d443f42f98a36c9c",
     "locked": false,
     "points": 3,
     "schema_version": 3,
     "solution": true,
     "task": false
    }
   },
   "outputs": [],
   "source": [
    "# YOUR CODE HERE\n",
    "raise NotImplementedError()"
   ]
  },
  {
   "cell_type": "markdown",
   "metadata": {
    "deletable": false,
    "editable": false,
    "nbgrader": {
     "cell_type": "markdown",
     "checksum": "439e11b0dbb8aeee2dc38186b313bd2f",
     "grade": false,
     "grade_id": "cell-b1f98912d9f4eb78",
     "locked": true,
     "schema_version": 3,
     "solution": false,
     "task": false
    }
   },
   "source": [
    "---\n",
    "3. Plot these regression lines with the data and with the classical linear regression lines.  \n",
    "---"
   ]
  },
  {
   "cell_type": "code",
   "execution_count": null,
   "metadata": {
    "deletable": false,
    "nbgrader": {
     "cell_type": "code",
     "checksum": "dbfa9320a9e5028fce589f42971f875f",
     "grade": true,
     "grade_id": "cell-0a6aedf8c0893846",
     "locked": false,
     "points": 3,
     "schema_version": 3,
     "solution": true,
     "task": false
    }
   },
   "outputs": [],
   "source": [
    "# YOUR CODE HERE\n",
    "raise NotImplementedError()"
   ]
  },
  {
   "cell_type": "markdown",
   "metadata": {
    "deletable": false,
    "editable": false,
    "nbgrader": {
     "cell_type": "markdown",
     "checksum": "6061d91af7ef5a9733fee8f19ab0653b",
     "grade": false,
     "grade_id": "cell-61530f5f0c8a7d02",
     "locked": true,
     "schema_version": 3,
     "solution": false,
     "task": false
    }
   },
   "source": [
    "---\n",
    "4. How do these regressions compare to the classical regressions?  \n",
    "---"
   ]
  },
  {
   "cell_type": "markdown",
   "metadata": {
    "deletable": false,
    "nbgrader": {
     "cell_type": "markdown",
     "checksum": "857326cc726ff2205d206e111a7772cd",
     "grade": true,
     "grade_id": "cell-4ff4e95b98e42946",
     "locked": false,
     "points": 1,
     "schema_version": 3,
     "solution": true,
     "task": false
    }
   },
   "source": [
    "YOUR ANSWER HERE"
   ]
  },
  {
   "cell_type": "markdown",
   "metadata": {
    "deletable": false,
    "editable": false,
    "nbgrader": {
     "cell_type": "markdown",
     "checksum": "9a2ac7c8c22815ad08c211f03fce2f42",
     "grade": false,
     "grade_id": "cell-f5e1a427de306fbd",
     "locked": true,
     "schema_version": 3,
     "solution": false,
     "task": false
    }
   },
   "source": [
    "---\n",
    "5. How would you decide to which regression type is the most appropriate for a particular problem?  \n",
    "---"
   ]
  },
  {
   "cell_type": "markdown",
   "metadata": {
    "deletable": false,
    "nbgrader": {
     "cell_type": "markdown",
     "checksum": "2b5d895b65f73f2dc8961ffe3f02d574",
     "grade": true,
     "grade_id": "cell-34133735e161f4e4",
     "locked": false,
     "points": 2,
     "schema_version": 3,
     "solution": true,
     "task": false
    }
   },
   "source": [
    "YOUR ANSWER HERE"
   ]
  },
  {
   "cell_type": "markdown",
   "metadata": {
    "deletable": false,
    "editable": false,
    "nbgrader": {
     "cell_type": "markdown",
     "checksum": "d8a1af6a549e14397e2c1fee8e638790",
     "grade": false,
     "grade_id": "cell-f96af020dae61fc9",
     "locked": true,
     "schema_version": 3,
     "solution": false,
     "task": false
    }
   },
   "source": [
    "---\n",
    "### Exercise 7: (8 pts)  \n",
    "\n",
    "1. Use the `np.polyfit()` function to fit a quadratic to each of the two datasets. Plot these functions with the data.  \n",
    "  - _Hint_ : You'll also need to use the `np.polyval()` function to quickly evaluate the polynomial coefficients  \n",
    "  \n",
    "2. Describe how you would determine whether the linear fit or the quadratic fit was most appropriate.\n",
    "---"
   ]
  },
  {
   "cell_type": "markdown",
   "metadata": {},
   "source": [
    "---\n",
    "1. Use the `np.polyfit()` function to fit a quadratic to each of the two datasets. Plot these functions with the data.  \n",
    "  - _Hint_ : You'll also need to use the `np.polyval()` function to quickly evaluate the polynomial coefficients  \n",
    "---"
   ]
  },
  {
   "cell_type": "code",
   "execution_count": null,
   "metadata": {
    "deletable": false,
    "nbgrader": {
     "cell_type": "code",
     "checksum": "ef871f8fefac8a09b75a649b36910eb4",
     "grade": true,
     "grade_id": "cell-1e9352e9ff861398",
     "locked": false,
     "points": 3,
     "schema_version": 3,
     "solution": true,
     "task": false
    }
   },
   "outputs": [],
   "source": [
    "# YOUR CODE HERE\n",
    "raise NotImplementedError()"
   ]
  },
  {
   "cell_type": "code",
   "execution_count": null,
   "metadata": {
    "deletable": false,
    "nbgrader": {
     "cell_type": "code",
     "checksum": "e2c42f63725da964eeeab84c1ef7aa6d",
     "grade": true,
     "grade_id": "cell-ccd2959f6d007250",
     "locked": false,
     "points": 3,
     "schema_version": 3,
     "solution": true,
     "task": false
    }
   },
   "outputs": [],
   "source": [
    "# YOUR CODE HERE\n",
    "raise NotImplementedError()"
   ]
  },
  {
   "cell_type": "markdown",
   "metadata": {
    "deletable": false,
    "editable": false,
    "nbgrader": {
     "cell_type": "markdown",
     "checksum": "2ecc42556d0d6c4a719a26ee48968a9b",
     "grade": false,
     "grade_id": "cell-a4f8170811e946ce",
     "locked": true,
     "schema_version": 3,
     "solution": false,
     "task": false
    }
   },
   "source": [
    "---\n",
    "2. Describe how you would determine whether the linear fit or the quadratic fit was most appropriate.\n",
    "---"
   ]
  },
  {
   "cell_type": "markdown",
   "metadata": {
    "deletable": false,
    "nbgrader": {
     "cell_type": "markdown",
     "checksum": "77403d085a80dcae3c12f41eaae44706",
     "grade": true,
     "grade_id": "cell-533976421d37c716",
     "locked": false,
     "points": 2,
     "schema_version": 3,
     "solution": true,
     "task": false
    }
   },
   "source": [
    "YOUR ANSWER HERE"
   ]
  },
  {
   "cell_type": "code",
   "execution_count": null,
   "metadata": {},
   "outputs": [],
   "source": []
  }
 ],
 "metadata": {
  "kernelspec": {
   "display_name": "Python 3",
   "language": "python",
   "name": "python3"
  },
  "language_info": {
   "codemirror_mode": {
    "name": "ipython",
    "version": 3
   },
   "file_extension": ".py",
   "mimetype": "text/x-python",
   "name": "python",
   "nbconvert_exporter": "python",
   "pygments_lexer": "ipython3",
   "version": "3.7.9"
  },
  "latex_envs": {
   "LaTeX_envs_menu_present": true,
   "autoclose": true,
   "autocomplete": true,
   "bibliofile": "ipython.bib",
   "cite_by": "apalike",
   "current_citInitial": 1,
   "eqLabelWithNumbers": true,
   "eqNumInitial": 1,
   "hotkeys": {
    "equation": "Ctrl-E",
    "itemize": "Ctrl-I"
   },
   "labels_anchors": false,
   "latex_user_defs": false,
   "report_style_numbering": false,
   "user_envs_cfg": false
  }
 },
 "nbformat": 4,
 "nbformat_minor": 4
}
