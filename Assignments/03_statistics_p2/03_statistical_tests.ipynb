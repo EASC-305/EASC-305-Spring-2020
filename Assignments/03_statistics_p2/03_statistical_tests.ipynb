{
 "cells": [
  {
   "cell_type": "markdown",
   "metadata": {},
   "source": [
    "Before you turn this problem in, make sure everything runs as expected. First, **restart the kernel** (in the menubar, select Kernel$\\rightarrow$Restart) and then **run all cells** (in the menubar, select Cell$\\rightarrow$Run All).\n",
    "\n",
    "Make sure you fill in any place that says `YOUR CODE HERE` or \"YOUR ANSWER HERE\", as well as your name and collaborators below:"
   ]
  },
  {
   "cell_type": "code",
   "execution_count": null,
   "metadata": {},
   "outputs": [],
   "source": [
    "NAME = \"\"\n",
    "COLLABORATORS = \"\""
   ]
  },
  {
   "cell_type": "markdown",
   "metadata": {},
   "source": [
    "---"
   ]
  },
  {
   "cell_type": "markdown",
   "metadata": {
    "deletable": false,
    "editable": false,
    "nbgrader": {
     "cell_type": "markdown",
     "checksum": "a62ac5d3c934ee082496609d10941418",
     "grade": false,
     "grade_id": "cell-ed9707bfcd9da71b",
     "locked": true,
     "schema_version": 3,
     "solution": false,
     "task": false
    }
   },
   "source": [
    "# Lab 3: Tests of Statistical Significance    \n",
    "\n",
    "In this lab, you will quantitatively evaluate if two data sets are statically distinguishable based on their means and variances, and whether a data set is normally distributed. \n",
    "These determinations depend on the prescribed level of statistical significance. \n",
    "In these exercises, you will decide whether to reject the null hypothesis, the default hypothesis of “no difference” (e.g. the samples come from the same parent population, samples are normally distributed).\n"
   ]
  },
  {
   "cell_type": "markdown",
   "metadata": {
    "deletable": false,
    "editable": false,
    "nbgrader": {
     "cell_type": "markdown",
     "checksum": "58270120eb0ecb9d5472f46f45c1fd99",
     "grade": false,
     "grade_id": "cell-abc8ab5043d58a67",
     "locked": true,
     "schema_version": 3,
     "solution": false,
     "task": false
    }
   },
   "source": [
    "# Exercise 1:  (18 points)\n",
    "\n",
    "Load the data file `organicmatter_three.mat`, which contains four data sets. `organics1` and `organics2` were collected to determine the organic matter content (%) in sediments derived from a lake bed. The dataset `ysample` was collected along with `organics1` and `organics2`.  \n",
    "\n",
    "1. What is the Central Limit Theorem?  __(1 pt)__\n",
    "2. Write the null hypotheses you are testing considering a 95% confidence level.\n",
    "Write the corresponding alternative hypotheses.  __(2 pts)__\n",
    "3. For both of the parent populations, determine the significance level (p-value) at which the null hypothesis can be rejected. __(8 pts)__  \n",
    "  - HINT: Write a function to compute a T-test for two samples.    \n",
    "  \n",
    "4. Determine which population the “sample” data comes from. State the critical value at which the sample population would be significant.  __(3 pts)__\n",
    "   - Refer to the “t-table.pdf” document on Canvas.  \n",
    "   \n",
    "5. Determine if you “fail to reject the null hypotheses” or “reject the null hypotheses”. __(3 pts)__  \n",
    "\n",
    "6. Under what conditions would you not be able to use a T-test to evaluate your hypothesis?  __(1 pt)__  "
   ]
  },
  {
   "cell_type": "code",
   "execution_count": null,
   "metadata": {},
   "outputs": [],
   "source": [
    "import numpy as np\n",
    "import scipy.io as sio\n",
    "import scipy.stats as sts\n"
   ]
  },
  {
   "cell_type": "code",
   "execution_count": null,
   "metadata": {},
   "outputs": [],
   "source": [
    "data_frame = sio.loadmat('organicmatter_three.mat')\n",
    "\n",
    "organics_1 = data_frame['organics1'].astype(np.float32).reshape(-1)\n",
    "organics_2 = data_frame['organics2'].astype(np.float32).reshape(-1)\n",
    "ysample_1  = data_frame['ysample'  ].astype(np.float32).reshape(-1)\n",
    "ysample_2  = data_frame['ysample2' ].astype(np.float32).reshape(-1)"
   ]
  },
  {
   "cell_type": "markdown",
   "metadata": {
    "deletable": false,
    "editable": false,
    "nbgrader": {
     "cell_type": "markdown",
     "checksum": "c0446b8f9ebe121ea2f6e6c87f9ff9b3",
     "grade": false,
     "grade_id": "cell-9c609add99124d99",
     "locked": true,
     "schema_version": 3,
     "solution": false,
     "task": false
    }
   },
   "source": [
    "---\n",
    "1.)  What is the Central Limit Theorem? (1 pt)\n",
    "\n",
    "---"
   ]
  },
  {
   "cell_type": "markdown",
   "metadata": {
    "deletable": false,
    "nbgrader": {
     "cell_type": "markdown",
     "checksum": "e8008656f22731fb9252ceb5f80f654a",
     "grade": true,
     "grade_id": "cell-807c9639eef896dc",
     "locked": false,
     "points": 1,
     "schema_version": 3,
     "solution": true,
     "task": false
    }
   },
   "source": [
    "YOUR ANSWER HERE"
   ]
  },
  {
   "cell_type": "markdown",
   "metadata": {
    "deletable": false,
    "editable": false,
    "nbgrader": {
     "cell_type": "markdown",
     "checksum": "133ce6aed7dbbbc21badb5f5c00b9b44",
     "grade": false,
     "grade_id": "cell-533c10f4da6761e7",
     "locked": true,
     "schema_version": 3,
     "solution": false,
     "task": false
    }
   },
   "source": [
    "---  \n",
    "2.)  Write the null hypotheses you are testing considering a 95% confidence level. (2 pts)\n",
    "\n",
    "---"
   ]
  },
  {
   "cell_type": "markdown",
   "metadata": {
    "deletable": false,
    "nbgrader": {
     "cell_type": "markdown",
     "checksum": "db990f29aa9309393eb74addc8f916c8",
     "grade": true,
     "grade_id": "cell-4ae190643d60036c",
     "locked": false,
     "points": 2,
     "schema_version": 3,
     "solution": true,
     "task": false
    }
   },
   "source": [
    "YOUR ANSWER HERE"
   ]
  },
  {
   "cell_type": "markdown",
   "metadata": {
    "deletable": false,
    "editable": false,
    "nbgrader": {
     "cell_type": "markdown",
     "checksum": "6aa3b9f2ef4e21f130542799d319b830",
     "grade": false,
     "grade_id": "cell-cbd39a823e58c153",
     "locked": true,
     "schema_version": 3,
     "solution": false,
     "task": false
    }
   },
   "source": [
    "---\n",
    "3.) For both of the parent populations, determine the significance level ($p$-value) at which the null hypothesis can be rejected.  (8 pts)\n",
    "   - HINT: Try writing a function to compute a T-test for two samples. Take not the degrees of freedom in your calculation of variance. \n",
    "---"
   ]
  },
  {
   "cell_type": "code",
   "execution_count": null,
   "metadata": {
    "deletable": false,
    "nbgrader": {
     "cell_type": "code",
     "checksum": "f175e4ecd420de4d3bd158608fcbd9ad",
     "grade": true,
     "grade_id": "cell-e14b48b161b04001",
     "locked": false,
     "points": 4,
     "schema_version": 3,
     "solution": true,
     "task": false
    }
   },
   "outputs": [],
   "source": [
    "# YOUR CODE HERE\n",
    "raise NotImplementedError()"
   ]
  },
  {
   "cell_type": "markdown",
   "metadata": {
    "deletable": false,
    "editable": false,
    "nbgrader": {
     "cell_type": "markdown",
     "checksum": "91115a4a38e6428b251972bd5fe1e9d2",
     "grade": false,
     "grade_id": "cell-d0afce0ca4be85ea",
     "locked": true,
     "schema_version": 3,
     "solution": false,
     "task": false
    }
   },
   "source": [
    "---\n",
    "4.) Determine which population the “sample” data comes from. State the critical value at which the sample population would be significant.  (3 points)\n",
    "   - Refer to the “t-table.pdf” document on Canvas, or use the `sts.t.isf` function with necessary parameters.\n",
    "---"
   ]
  },
  {
   "cell_type": "markdown",
   "metadata": {
    "deletable": false,
    "nbgrader": {
     "cell_type": "markdown",
     "checksum": "482c885bd81de7f55d3f59af6455c236",
     "grade": true,
     "grade_id": "cell-32a1e6e594a4b856",
     "locked": false,
     "points": 3,
     "schema_version": 3,
     "solution": true,
     "task": false
    }
   },
   "source": [
    "YOUR ANSWER HERE"
   ]
  },
  {
   "cell_type": "markdown",
   "metadata": {
    "deletable": false,
    "editable": false,
    "nbgrader": {
     "cell_type": "markdown",
     "checksum": "a19ad010c642a2a13ed7045c081062d8",
     "grade": false,
     "grade_id": "cell-9ad934391e769781",
     "locked": true,
     "schema_version": 3,
     "solution": false,
     "task": false
    }
   },
   "source": [
    "---\n",
    "5.) Determine if you “fail to reject the null hypotheses” or “reject the null hypotheses”. (3 pts) \n",
    "\n",
    "--- "
   ]
  },
  {
   "cell_type": "markdown",
   "metadata": {
    "deletable": false,
    "nbgrader": {
     "cell_type": "markdown",
     "checksum": "adb4d46b9ac87906f53977f65992b89a",
     "grade": true,
     "grade_id": "cell-c26468c73ec4e856",
     "locked": false,
     "points": 3,
     "schema_version": 3,
     "solution": true,
     "task": false
    }
   },
   "source": [
    "YOUR ANSWER HERE"
   ]
  },
  {
   "cell_type": "markdown",
   "metadata": {
    "deletable": false,
    "editable": false,
    "nbgrader": {
     "cell_type": "markdown",
     "checksum": "e36a8d141df7a1d8b77d471f074a3330",
     "grade": false,
     "grade_id": "cell-81f6d44ed201ee86",
     "locked": true,
     "schema_version": 3,
     "solution": false,
     "task": false
    }
   },
   "source": [
    "---\n",
    "6.) Under what conditions would you not be able to use a T-test to evaluate your hypothesis? (1 pt)\n",
    "\n",
    "---"
   ]
  },
  {
   "cell_type": "markdown",
   "metadata": {
    "deletable": false,
    "nbgrader": {
     "cell_type": "markdown",
     "checksum": "8906331fc9227e66531cff8b4998c16f",
     "grade": true,
     "grade_id": "cell-cd7e4f1ca5a07ba0",
     "locked": false,
     "points": 1,
     "schema_version": 3,
     "solution": true,
     "task": false
    }
   },
   "source": [
    "YOUR ANSWER HERE"
   ]
  },
  {
   "cell_type": "markdown",
   "metadata": {
    "deletable": false,
    "editable": false,
    "nbgrader": {
     "cell_type": "markdown",
     "checksum": "2a558460110d45acbd0a6d38d238f4b8",
     "grade": false,
     "grade_id": "cell-470cc6a848c74e46",
     "locked": true,
     "schema_version": 3,
     "solution": false,
     "task": false
    }
   },
   "source": [
    "### Exercise 2: (14 points)  \n",
    "\n",
    "Imagine the organic carbon data in `ysample` were deposited during the Pennsylvanian in present-day California.\n",
    "Several million years after the data were deposited, the lake bottom sediments were lithified, completely preserving the organic carbon content in time. \n",
    "It is theorized that the sediment package was faulted, migrated up to Alaska, and accreted onto the Alexander terrane. \n",
    "Sample `ysample2` was collected in Alaska and you wish to test the null hypothesis that `ysample2` came from a parent population with the same variance as the parent population of `ysample`.  \n",
    "\n",
    "\n",
    "1. Write your null hypothesis and the corresponding alternative hypothesis for a 5% significance level.  __(2pts)__  \n",
    "2. What statistical test will you use and why? What are the requirements for this using this test? __(3 pts)__ \n",
    "3. Define degrees of freedom (DOF) and state your DOF for this scenario. __(3 pts)__   \n",
    "4. Do you reject your null hypothesis?  __(6 points)__"
   ]
  },
  {
   "cell_type": "markdown",
   "metadata": {
    "deletable": false,
    "editable": false,
    "nbgrader": {
     "cell_type": "markdown",
     "checksum": "2024c61e084d424f6e8a17347c98181f",
     "grade": false,
     "grade_id": "cell-1e0b2b5ebbd5a4d5",
     "locked": true,
     "schema_version": 3,
     "solution": false,
     "task": false
    }
   },
   "source": [
    "---\n",
    "1.) Write your null hypothesis and the corresponding alternative hypothesis for a 5% significance level. __(2 pts)__\n",
    "\n",
    "--- "
   ]
  },
  {
   "cell_type": "markdown",
   "metadata": {
    "deletable": false,
    "nbgrader": {
     "cell_type": "markdown",
     "checksum": "2d3631d7b29dde1488bb283a3315a037",
     "grade": true,
     "grade_id": "cell-22fee3bd1d831b6b",
     "locked": false,
     "points": 0,
     "schema_version": 3,
     "solution": true,
     "task": false
    }
   },
   "source": [
    "YOUR ANSWER HERE"
   ]
  },
  {
   "cell_type": "markdown",
   "metadata": {
    "deletable": false,
    "editable": false,
    "nbgrader": {
     "cell_type": "markdown",
     "checksum": "b7df2b44c317c96a6f34b718f29dc394",
     "grade": false,
     "grade_id": "cell-8bc6c039d7777679",
     "locked": true,
     "schema_version": 3,
     "solution": false,
     "task": false
    }
   },
   "source": [
    "--- \n",
    "2.) What statistical test will you use and why? What are the requirements for this using this test? __(3 pts)__ \n",
    "\n",
    "---"
   ]
  },
  {
   "cell_type": "markdown",
   "metadata": {
    "deletable": false,
    "nbgrader": {
     "cell_type": "markdown",
     "checksum": "26e6cf66bdfc99f0be04833b7755f449",
     "grade": true,
     "grade_id": "cell-d97aaaab265ca1c9",
     "locked": false,
     "points": 3,
     "schema_version": 3,
     "solution": true,
     "task": false
    }
   },
   "source": [
    "YOUR ANSWER HERE"
   ]
  },
  {
   "cell_type": "markdown",
   "metadata": {
    "deletable": false,
    "editable": false,
    "nbgrader": {
     "cell_type": "markdown",
     "checksum": "103a602bc2ea7f5f86551f5c2b476c0d",
     "grade": false,
     "grade_id": "cell-df9fb024b92df87b",
     "locked": true,
     "schema_version": 3,
     "solution": false,
     "task": false
    }
   },
   "source": [
    "---  \n",
    "3.) Define degrees of freedom (DOF) and state your DOF for this scenario. __(3 pts)__\n",
    "\n",
    "---"
   ]
  },
  {
   "cell_type": "markdown",
   "metadata": {
    "deletable": false,
    "nbgrader": {
     "cell_type": "markdown",
     "checksum": "214b8fe6c9aca5dbd1182f5ac1c07c04",
     "grade": true,
     "grade_id": "cell-50da129f93b760c3",
     "locked": false,
     "points": 3,
     "schema_version": 3,
     "solution": true,
     "task": false
    }
   },
   "source": [
    "YOUR ANSWER HERE"
   ]
  },
  {
   "cell_type": "markdown",
   "metadata": {
    "deletable": false,
    "editable": false,
    "nbgrader": {
     "cell_type": "markdown",
     "checksum": "530ed93ebf6c8e93f2c4aa507b77dd85",
     "grade": false,
     "grade_id": "cell-5c280a5c67019ba7",
     "locked": true,
     "schema_version": 3,
     "solution": false,
     "task": false
    }
   },
   "source": [
    "---\n",
    "4.) Do you reject your null hypothesis? __(7 points)__  \n",
    "\n",
    "---"
   ]
  },
  {
   "cell_type": "code",
   "execution_count": null,
   "metadata": {
    "deletable": false,
    "nbgrader": {
     "cell_type": "code",
     "checksum": "012a06fb195fa4fc1dcffd43f3b4f4eb",
     "grade": true,
     "grade_id": "cell-9e95388a1844db28",
     "locked": false,
     "points": 3,
     "schema_version": 3,
     "solution": true,
     "task": false
    }
   },
   "outputs": [],
   "source": [
    "# YOUR CODE HERE\n",
    "raise NotImplementedError()"
   ]
  },
  {
   "cell_type": "markdown",
   "metadata": {
    "deletable": false,
    "nbgrader": {
     "cell_type": "markdown",
     "checksum": "ab382fbba34253a2346ac18752205bbe",
     "grade": true,
     "grade_id": "cell-7b1ad4c4134c86b1",
     "locked": false,
     "points": 4,
     "schema_version": 3,
     "solution": true,
     "task": false
    }
   },
   "source": [
    "YOUR ANSWER HERE"
   ]
  },
  {
   "cell_type": "markdown",
   "metadata": {
    "deletable": false,
    "editable": false,
    "nbgrader": {
     "cell_type": "markdown",
     "checksum": "83d0e6a2a093646b1ad762ec7f8ce5bc",
     "grade": false,
     "grade_id": "cell-698167ee78aa8288",
     "locked": true,
     "schema_version": 3,
     "solution": false,
     "task": false
    }
   },
   "source": [
    "### Exercise 3: (12 points)  \n",
    "\n",
    "The data contained in `Zinc.DAT` are comprised of zinc assays made at 2m intervals\n",
    "along a single sphalerite quartz vein in the Pulacayo mine in Chile.  \n",
    "\n",
    "1. Write your null and alternative hypothesis. __(2 pts)__   \n",
    "2. Convert the data(x) to the standard normal form (z). Assign the normed data to a variable: `z1`. __(1 pt)__  \n",
    "3. Bin the values into six equal intervals. __(1 pt)__   \n",
    "4. Generate a theoretical normal distribution evaluated at the same values of z. __(1 pt)__  \n",
    "5. Verify that the mean and standard of the data matches those of the theoretical normal distribution.  __(1 pt)__  \n",
    "6. Verify that the sum of the frequencies are the same for both data sets.  __(1 pt)__   \n",
    "7. Calculate $\\chi^2$ value. Use the “Chi-square-table.pdf” to determine if the data are normally distributed at a significant level. What does this mean for your hypothesis? __(1 pt)__   \n",
    "8. What is the degrees of freedom? __(1 pt)__   \n",
    "9. Generate a histogram of the data and overlay the plot pf the normal distribution used in the $\\chi^2$ test. __(3 pt)__  \n"
   ]
  },
  {
   "cell_type": "markdown",
   "metadata": {
    "deletable": false,
    "editable": false,
    "nbgrader": {
     "cell_type": "markdown",
     "checksum": "2cc2f1bafca168b6ed0bf617c7ee4ec6",
     "grade": false,
     "grade_id": "cell-060de19b40588faf",
     "locked": true,
     "schema_version": 3,
     "solution": false,
     "task": false
    }
   },
   "source": [
    "--- \n",
    "1.) Write your null and alternative hypothesis. __(2 pts)__   \n",
    "\n",
    "---"
   ]
  },
  {
   "cell_type": "markdown",
   "metadata": {
    "deletable": false,
    "nbgrader": {
     "cell_type": "markdown",
     "checksum": "f81db9ebb601556ac009084dc48e8879",
     "grade": true,
     "grade_id": "cell-5d8d0613838cc19d",
     "locked": false,
     "points": 2,
     "schema_version": 3,
     "solution": true,
     "task": false
    }
   },
   "source": [
    "YOUR ANSWER HERE"
   ]
  },
  {
   "cell_type": "markdown",
   "metadata": {
    "deletable": false,
    "editable": false,
    "nbgrader": {
     "cell_type": "markdown",
     "checksum": "febb64e172c5c0877f3ce455ce9e9682",
     "grade": false,
     "grade_id": "cell-102cad80069caa5a",
     "locked": true,
     "schema_version": 3,
     "solution": false,
     "task": false
    }
   },
   "source": [
    "---\n",
    "2.) Convert the `Zinc.DAT` data to the standard normal form. Assign the normed data to a variable: `z1`. __(1 pt)__   \n",
    "\n",
    "_Hint_: the `.DAT` file can be loaded with `np.loadtxt()`.\n",
    "\n",
    "---"
   ]
  },
  {
   "cell_type": "code",
   "execution_count": null,
   "metadata": {
    "deletable": false,
    "nbgrader": {
     "cell_type": "code",
     "checksum": "cb37d2bca3c280916c4d7d01c8cca3ab",
     "grade": true,
     "grade_id": "cell-fa70393b35e39fa0",
     "locked": false,
     "points": 1,
     "schema_version": 3,
     "solution": true,
     "task": false
    }
   },
   "outputs": [],
   "source": [
    "# YOUR CODE HERE\n",
    "raise NotImplementedError()"
   ]
  },
  {
   "cell_type": "markdown",
   "metadata": {
    "deletable": false,
    "editable": false,
    "nbgrader": {
     "cell_type": "markdown",
     "checksum": "faf4dfe41f3954829aaf6d63b44b5182",
     "grade": false,
     "grade_id": "cell-598e1fb4c348ce72",
     "locked": true,
     "schema_version": 3,
     "solution": false,
     "task": false
    }
   },
   "source": [
    "--- \n",
    "3.) Bin the values into six equal intervals. __(1 pt)__   \n",
    "\n",
    "_Hint_: Use `np.histogram()`, but be careful. The second return of  `np.histogram()` is the bin edges, whereas we want to evaluate at bin centers. Therefore, the returned array of bin locations will be of length $n+1$ even though $n$ bins were requested. The first $n$ elements returned are the left edges of bins, and the $n^{\\rm th}+1$ element is the final right edge. \n",
    "\n",
    "If `x` is the array of bin edges returned by `np.histogram()` to get the bin centers use:  \n",
    "\n",
    "```python  \n",
    "x[:-1] + ((x[1] - x[0]) / 2)\n",
    "```\n",
    "\n",
    "where: \n",
    "- `x[:-1]` is the left edges of all the bins\n",
    "- `((x[1] - x[0]) / 2)` is the bin half width \n",
    "\n",
    "---"
   ]
  },
  {
   "cell_type": "code",
   "execution_count": null,
   "metadata": {
    "deletable": false,
    "nbgrader": {
     "cell_type": "code",
     "checksum": "09c92ede0f9aee397d7a4948a74bfdcc",
     "grade": true,
     "grade_id": "cell-b78f55df32e02250",
     "locked": false,
     "points": 1,
     "schema_version": 3,
     "solution": true,
     "task": false
    }
   },
   "outputs": [],
   "source": [
    "# YOUR CODE HERE\n",
    "raise NotImplementedError()"
   ]
  },
  {
   "cell_type": "markdown",
   "metadata": {
    "deletable": false,
    "editable": false,
    "nbgrader": {
     "cell_type": "markdown",
     "checksum": "62a3aab419ea698d7adc9ad04fb9d6a1",
     "grade": false,
     "grade_id": "cell-ebc0fe7e095ba25b",
     "locked": true,
     "schema_version": 3,
     "solution": false,
     "task": false
    }
   },
   "source": [
    "--- \n",
    "4.) Generate a theoretical normal distribution evaluated at the same values of z. __(1 pt)__  \n",
    "\n",
    "---"
   ]
  },
  {
   "cell_type": "code",
   "execution_count": null,
   "metadata": {
    "deletable": false,
    "nbgrader": {
     "cell_type": "code",
     "checksum": "a737c769fe3b11bb8273f4f510794d97",
     "grade": true,
     "grade_id": "cell-3fd838795fcf173a",
     "locked": false,
     "points": 1,
     "schema_version": 3,
     "solution": true,
     "task": false
    }
   },
   "outputs": [],
   "source": [
    "# YOUR CODE HERE\n",
    "raise NotImplementedError()"
   ]
  },
  {
   "cell_type": "markdown",
   "metadata": {
    "deletable": false,
    "editable": false,
    "nbgrader": {
     "cell_type": "markdown",
     "checksum": "12f9907c037a23f6c9876e0dfd15895b",
     "grade": false,
     "grade_id": "cell-5114f72c289b996c",
     "locked": true,
     "schema_version": 3,
     "solution": false,
     "task": false
    }
   },
   "source": [
    "--- \n",
    "5.) Verify that the mean and standard of the data matches those of the theoretical normal distribution.  __(1 pt)__  \n",
    "\n",
    "---"
   ]
  },
  {
   "cell_type": "code",
   "execution_count": null,
   "metadata": {
    "deletable": false,
    "nbgrader": {
     "cell_type": "code",
     "checksum": "fd47fa97e2a0f82d665c8b4b43c68955",
     "grade": true,
     "grade_id": "cell-c45010d3ed142677",
     "locked": false,
     "points": 1,
     "schema_version": 3,
     "solution": true,
     "task": false
    }
   },
   "outputs": [],
   "source": [
    "# YOUR CODE HERE\n",
    "raise NotImplementedError()"
   ]
  },
  {
   "cell_type": "markdown",
   "metadata": {
    "deletable": false,
    "editable": false,
    "nbgrader": {
     "cell_type": "markdown",
     "checksum": "8a3958b65faa13010e2e298f50775ab4",
     "grade": false,
     "grade_id": "cell-10bbcdc470b4b223",
     "locked": true,
     "schema_version": 3,
     "solution": false,
     "task": false
    }
   },
   "source": [
    "--- \n",
    "6.) Verify that the sum of the frequencies are the same for both data sets.  __(1 pt)__   \n",
    "\n",
    "_Hint_: Use the `np.isclose()` function to confirm values are close   \n",
    "\n",
    "\n",
    "---"
   ]
  },
  {
   "cell_type": "code",
   "execution_count": null,
   "metadata": {
    "deletable": false,
    "nbgrader": {
     "cell_type": "code",
     "checksum": "e3968240494d2ede644abb2bdd933e94",
     "grade": true,
     "grade_id": "cell-d7437e674972c54b",
     "locked": false,
     "points": 1,
     "schema_version": 3,
     "solution": true,
     "task": false
    }
   },
   "outputs": [],
   "source": [
    "# YOUR CODE HERE\n",
    "raise NotImplementedError()"
   ]
  },
  {
   "cell_type": "markdown",
   "metadata": {
    "deletable": false,
    "editable": false,
    "nbgrader": {
     "cell_type": "markdown",
     "checksum": "49fbc913d5129a5e040027b4d7670e09",
     "grade": false,
     "grade_id": "cell-97bcbff5fd3666c8",
     "locked": true,
     "schema_version": 3,
     "solution": false,
     "task": false
    }
   },
   "source": [
    "---  \n",
    "7.) Calculate $\\chi^2$ value. The calculate the critical $\\chi^2$ value using `scipy.stats`. What does this mean for your hypothesis? __(1 pt)__   \n",
    "\n",
    "---"
   ]
  },
  {
   "cell_type": "code",
   "execution_count": null,
   "metadata": {
    "deletable": false,
    "nbgrader": {
     "cell_type": "code",
     "checksum": "0f8ce0e6b790017744da297d49ddbe9a",
     "grade": true,
     "grade_id": "cell-a2a27d1af85d4943",
     "locked": false,
     "points": 1,
     "schema_version": 3,
     "solution": true,
     "task": false
    }
   },
   "outputs": [],
   "source": [
    "# YOUR CODE HERE\n",
    "raise NotImplementedError()"
   ]
  },
  {
   "cell_type": "markdown",
   "metadata": {
    "deletable": false,
    "editable": false,
    "nbgrader": {
     "cell_type": "markdown",
     "checksum": "3ab8538d14ff2d0ae755a88dd5cebc6a",
     "grade": false,
     "grade_id": "cell-86efe8da5eab691d",
     "locked": true,
     "schema_version": 3,
     "solution": false,
     "task": false
    }
   },
   "source": [
    "---\n",
    "8. What is the degrees of freedom? __(1 pt)__   \n",
    "\n",
    "---\n"
   ]
  },
  {
   "cell_type": "markdown",
   "metadata": {
    "deletable": false,
    "nbgrader": {
     "cell_type": "markdown",
     "checksum": "63a2ce8c08ed9de2c56a5864c042ed0f",
     "grade": true,
     "grade_id": "cell-ae9852c0be039bdb",
     "locked": false,
     "points": 1,
     "schema_version": 3,
     "solution": true,
     "task": false
    }
   },
   "source": [
    "YOUR ANSWER HERE"
   ]
  },
  {
   "cell_type": "markdown",
   "metadata": {
    "deletable": false,
    "editable": false,
    "nbgrader": {
     "cell_type": "markdown",
     "checksum": "899b32e271a353808b7950006b9606a4",
     "grade": false,
     "grade_id": "cell-bf9815944c9cd75d",
     "locked": true,
     "schema_version": 3,
     "solution": false,
     "task": false
    }
   },
   "source": [
    "---\n",
    "9.) Generate a histogram of the data (using `plt.bar()`) and overlay a line plot of the theoretical normal distribution used in the $\\chi^2$ test. __(3 pts)__  \n",
    "\n",
    "---"
   ]
  },
  {
   "cell_type": "code",
   "execution_count": null,
   "metadata": {
    "deletable": false,
    "nbgrader": {
     "cell_type": "code",
     "checksum": "5b6e760171ef01ed90e6e5c833cf0df5",
     "grade": true,
     "grade_id": "cell-977d93f645b7cd94",
     "locked": false,
     "points": 3,
     "schema_version": 3,
     "solution": true,
     "task": false
    }
   },
   "outputs": [],
   "source": [
    "# YOUR CODE HERE\n",
    "raise NotImplementedError()"
   ]
  },
  {
   "cell_type": "code",
   "execution_count": null,
   "metadata": {},
   "outputs": [],
   "source": []
  }
 ],
 "metadata": {
  "kernelspec": {
   "display_name": "Python 3",
   "language": "python",
   "name": "python3"
  },
  "language_info": {
   "codemirror_mode": {
    "name": "ipython",
    "version": 3
   },
   "file_extension": ".py",
   "mimetype": "text/x-python",
   "name": "python",
   "nbconvert_exporter": "python",
   "pygments_lexer": "ipython3",
   "version": "3.6.7"
  },
  "latex_envs": {
   "LaTeX_envs_menu_present": true,
   "autoclose": true,
   "autocomplete": true,
   "bibliofile": "ipython.bib",
   "cite_by": "apalike",
   "current_citInitial": 1,
   "eqLabelWithNumbers": true,
   "eqNumInitial": 1,
   "hotkeys": {
    "equation": "Ctrl-E",
    "itemize": "Ctrl-I"
   },
   "labels_anchors": false,
   "latex_user_defs": false,
   "report_style_numbering": false,
   "user_envs_cfg": false
  }
 },
 "nbformat": 4,
 "nbformat_minor": 4
}
